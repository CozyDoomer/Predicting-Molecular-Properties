{
 "cells": [
  {
   "cell_type": "code",
   "execution_count": 61,
   "metadata": {
    "_cell_guid": "28a96b13-fb54-43af-aeb9-ccb40526ec1f",
    "_uuid": "518b490c58f98a59d25d8d5d8c39dca0673564e1"
   },
   "outputs": [],
   "source": [
    "import os\n",
    "import numpy as np \n",
    "import pandas as pd \n",
    "from subprocess import check_output\n",
    "import matplotlib.pyplot as plt"
   ]
  },
  {
   "cell_type": "markdown",
   "metadata": {
    "_cell_guid": "1840df41-7524-4305-93d9-423a2a6fe5bd",
    "_uuid": "aae1d396e2fad44a15fcb8e970c5affa8fb6ddc6"
   },
   "source": [
    "# Data Load"
   ]
  },
  {
   "cell_type": "code",
   "execution_count": 62,
   "metadata": {
    "_kg_hide-output": true
   },
   "outputs": [
    {
     "data": {
      "text/plain": [
       "['4_best_median_stack_updated.csv',\n",
       " '5_best_median_stack_updated.csv',\n",
       " 'bestpublic.csv',\n",
       " 'best_model_per_type.csv',\n",
       " 'best_model_per_type_lgbm_mpnn_updated.csv',\n",
       " 'best_single_models_with_2080_stack.csv',\n",
       " 'lgbm_1956.csv',\n",
       " 'lgbm_best.csv',\n",
       " 'lgbm_final.csv',\n",
       " 'lgbm_pseudo_no_2JHC_3JHC.csv',\n",
       " 'mpnn_5_checkpoints_1933.csv',\n",
       " 'mpnn_multiple_checkpoints_pseudo.csv',\n",
       " 'mpnn_multiple_checkpoints_updated.csv',\n",
       " 'NN_final.csv',\n",
       " 'NN_pseudo_no_2JHC_3JHC.csv',\n",
       " 'semgcn_1c_w12_24k.csv',\n",
       " 'semgcn_1c_w12_24k_separated.csv',\n",
       " 'singlemodels_scgnmpnn_2302.csv',\n",
       " 'stack_median_best_4_submissions.csv',\n",
       " 'stack_median_lgbm_mpnn_semgcn.csv',\n",
       " 'stack_median_lgbm_mpnn_semgcn_updated_2080.csv',\n",
       " 'weighted_average_lgbm_semgcn_mpnn_2001.csv']"
      ]
     },
     "execution_count": 62,
     "metadata": {},
     "output_type": "execute_result"
    }
   ],
   "source": [
    "sub_path = \"data/subs/team_subs\"\n",
    "all_files = os.listdir(sub_path)\n",
    "all_files"
   ]
  },
  {
   "cell_type": "code",
   "execution_count": 63,
   "metadata": {},
   "outputs": [],
   "source": [
    "selected_files = ['best_single_models_with_2080_stack.csv',\n",
    "                  'lgbm_final.csv',\n",
    "                  'NN_final.csv',\n",
    "                  'mpnn_multiple_checkpoints_pseudo.csv'] "
   ]
  },
  {
   "cell_type": "code",
   "execution_count": 64,
   "metadata": {
    "_cell_guid": "c978c838-8a87-45ef-a118-b6bd565bdb2e",
    "_uuid": "1fa9dd2434873dc5bc918b102a3a69649d0f35c7"
   },
   "outputs": [
    {
     "data": {
      "text/html": [
       "<div>\n",
       "<style scoped>\n",
       "    .dataframe tbody tr th:only-of-type {\n",
       "        vertical-align: middle;\n",
       "    }\n",
       "\n",
       "    .dataframe tbody tr th {\n",
       "        vertical-align: top;\n",
       "    }\n",
       "\n",
       "    .dataframe thead th {\n",
       "        text-align: right;\n",
       "    }\n",
       "</style>\n",
       "<table border=\"1\" class=\"dataframe\">\n",
       "  <thead>\n",
       "    <tr style=\"text-align: right;\">\n",
       "      <th></th>\n",
       "      <th>id</th>\n",
       "      <th>champ0</th>\n",
       "      <th>champ1</th>\n",
       "      <th>champ2</th>\n",
       "      <th>champ3</th>\n",
       "    </tr>\n",
       "  </thead>\n",
       "  <tbody>\n",
       "    <tr>\n",
       "      <th>0</th>\n",
       "      <td>4658147</td>\n",
       "      <td>9.850896</td>\n",
       "      <td>13.068462</td>\n",
       "      <td>-3.612952</td>\n",
       "      <td>9.660213</td>\n",
       "    </tr>\n",
       "    <tr>\n",
       "      <th>1</th>\n",
       "      <td>4658148</td>\n",
       "      <td>174.456394</td>\n",
       "      <td>193.281711</td>\n",
       "      <td>171.926682</td>\n",
       "      <td>178.438538</td>\n",
       "    </tr>\n",
       "    <tr>\n",
       "      <th>2</th>\n",
       "      <td>4658149</td>\n",
       "      <td>3.025961</td>\n",
       "      <td>4.732296</td>\n",
       "      <td>-9.594178</td>\n",
       "      <td>2.044971</td>\n",
       "    </tr>\n",
       "    <tr>\n",
       "      <th>3</th>\n",
       "      <td>4658150</td>\n",
       "      <td>172.141953</td>\n",
       "      <td>193.335145</td>\n",
       "      <td>170.549744</td>\n",
       "      <td>175.999878</td>\n",
       "    </tr>\n",
       "    <tr>\n",
       "      <th>4</th>\n",
       "      <td>4658151</td>\n",
       "      <td>10.297093</td>\n",
       "      <td>13.102951</td>\n",
       "      <td>-3.612982</td>\n",
       "      <td>9.387045</td>\n",
       "    </tr>\n",
       "  </tbody>\n",
       "</table>\n",
       "</div>"
      ],
      "text/plain": [
       "        id      champ0      champ1      champ2      champ3\n",
       "0  4658147    9.850896   13.068462   -3.612952    9.660213\n",
       "1  4658148  174.456394  193.281711  171.926682  178.438538\n",
       "2  4658149    3.025961    4.732296   -9.594178    2.044971\n",
       "3  4658150  172.141953  193.335145  170.549744  175.999878\n",
       "4  4658151   10.297093   13.102951   -3.612982    9.387045"
      ]
     },
     "execution_count": 64,
     "metadata": {},
     "output_type": "execute_result"
    }
   ],
   "source": [
    "# Read and concatenate submissions\n",
    "outs = [pd.read_csv(os.path.join(sub_path, f), index_col=0) for f in selected_files]\n",
    "concat_sub = pd.concat(outs, axis=1)\n",
    "cols = list(map(lambda x: \"champ\" + str(x), range(len(concat_sub.columns))))\n",
    "concat_sub.columns = cols\n",
    "concat_sub.reset_index(inplace=True)\n",
    "ncol = concat_sub.shape[1]\n",
    "concat_sub.head()"
   ]
  },
  {
   "cell_type": "code",
   "execution_count": 65,
   "metadata": {
    "_cell_guid": "a193cac9-e544-4749-8622-2c0a7d882193",
    "_uuid": "37b39229e34b71032d8d2371c6b731ed452b8eb2"
   },
   "outputs": [
    {
     "data": {
      "text/html": [
       "<div>\n",
       "<style scoped>\n",
       "    .dataframe tbody tr th:only-of-type {\n",
       "        vertical-align: middle;\n",
       "    }\n",
       "\n",
       "    .dataframe tbody tr th {\n",
       "        vertical-align: top;\n",
       "    }\n",
       "\n",
       "    .dataframe thead th {\n",
       "        text-align: right;\n",
       "    }\n",
       "</style>\n",
       "<table border=\"1\" class=\"dataframe\">\n",
       "  <thead>\n",
       "    <tr style=\"text-align: right;\">\n",
       "      <th></th>\n",
       "      <th>champ0</th>\n",
       "      <th>champ1</th>\n",
       "      <th>champ2</th>\n",
       "      <th>champ3</th>\n",
       "    </tr>\n",
       "  </thead>\n",
       "  <tbody>\n",
       "    <tr>\n",
       "      <th>champ0</th>\n",
       "      <td>1.000000</td>\n",
       "      <td>0.999997</td>\n",
       "      <td>0.999910</td>\n",
       "      <td>0.999985</td>\n",
       "    </tr>\n",
       "    <tr>\n",
       "      <th>champ1</th>\n",
       "      <td>0.999997</td>\n",
       "      <td>1.000000</td>\n",
       "      <td>0.999908</td>\n",
       "      <td>0.999981</td>\n",
       "    </tr>\n",
       "    <tr>\n",
       "      <th>champ2</th>\n",
       "      <td>0.999910</td>\n",
       "      <td>0.999908</td>\n",
       "      <td>1.000000</td>\n",
       "      <td>0.999893</td>\n",
       "    </tr>\n",
       "    <tr>\n",
       "      <th>champ3</th>\n",
       "      <td>0.999985</td>\n",
       "      <td>0.999981</td>\n",
       "      <td>0.999893</td>\n",
       "      <td>1.000000</td>\n",
       "    </tr>\n",
       "  </tbody>\n",
       "</table>\n",
       "</div>"
      ],
      "text/plain": [
       "          champ0    champ1    champ2    champ3\n",
       "champ0  1.000000  0.999997  0.999910  0.999985\n",
       "champ1  0.999997  1.000000  0.999908  0.999981\n",
       "champ2  0.999910  0.999908  1.000000  0.999893\n",
       "champ3  0.999985  0.999981  0.999893  1.000000"
      ]
     },
     "execution_count": 65,
     "metadata": {},
     "output_type": "execute_result"
    }
   ],
   "source": [
    "# check correlation\n",
    "concat_sub.iloc[:,1:ncol].corr()"
   ]
  },
  {
   "cell_type": "code",
   "execution_count": 66,
   "metadata": {
    "_cell_guid": "c7be9be8-b999-42d9-a0cc-6bf2a035b25b",
    "_uuid": "07cdbb447c11008557c1773e464d08f798d8b2b2"
   },
   "outputs": [],
   "source": [
    "# get the data fields ready for stacking\n",
    "concat_sub['champ_max'] = concat_sub.iloc[:, 1:ncol].max(axis=1)\n",
    "concat_sub['champ_min'] = concat_sub.iloc[:, 1:ncol].min(axis=1)\n",
    "concat_sub['champ_mean'] = concat_sub.iloc[:, 1:ncol].mean(axis=1)\n",
    "concat_sub['champ_median'] = concat_sub.iloc[:, 1:ncol].median(axis=1)"
   ]
  },
  {
   "cell_type": "code",
   "execution_count": 67,
   "metadata": {},
   "outputs": [
    {
     "data": {
      "text/html": [
       "<div>\n",
       "<style scoped>\n",
       "    .dataframe tbody tr th:only-of-type {\n",
       "        vertical-align: middle;\n",
       "    }\n",
       "\n",
       "    .dataframe tbody tr th {\n",
       "        vertical-align: top;\n",
       "    }\n",
       "\n",
       "    .dataframe thead th {\n",
       "        text-align: right;\n",
       "    }\n",
       "</style>\n",
       "<table border=\"1\" class=\"dataframe\">\n",
       "  <thead>\n",
       "    <tr style=\"text-align: right;\">\n",
       "      <th></th>\n",
       "      <th>champ0</th>\n",
       "      <th>champ1</th>\n",
       "      <th>champ2</th>\n",
       "      <th>champ3</th>\n",
       "    </tr>\n",
       "  </thead>\n",
       "  <tbody>\n",
       "    <tr>\n",
       "      <th>count</th>\n",
       "      <td>2.505542e+06</td>\n",
       "      <td>2.505542e+06</td>\n",
       "      <td>2.505542e+06</td>\n",
       "      <td>2.505542e+06</td>\n",
       "    </tr>\n",
       "    <tr>\n",
       "      <th>mean</th>\n",
       "      <td>1.588334e+01</td>\n",
       "      <td>1.588621e+01</td>\n",
       "      <td>1.588313e+01</td>\n",
       "      <td>1.587908e+01</td>\n",
       "    </tr>\n",
       "    <tr>\n",
       "      <th>std</th>\n",
       "      <td>3.486591e+01</td>\n",
       "      <td>3.487205e+01</td>\n",
       "      <td>3.487360e+01</td>\n",
       "      <td>3.485419e+01</td>\n",
       "    </tr>\n",
       "    <tr>\n",
       "      <th>min</th>\n",
       "      <td>-3.388117e+01</td>\n",
       "      <td>-3.390320e+01</td>\n",
       "      <td>-3.422949e+01</td>\n",
       "      <td>-3.783190e+01</td>\n",
       "    </tr>\n",
       "    <tr>\n",
       "      <th>25%</th>\n",
       "      <td>-2.410323e-01</td>\n",
       "      <td>-2.413528e-01</td>\n",
       "      <td>-2.477051e-01</td>\n",
       "      <td>-2.420567e-01</td>\n",
       "    </tr>\n",
       "    <tr>\n",
       "      <th>50%</th>\n",
       "      <td>2.275754e+00</td>\n",
       "      <td>2.278306e+00</td>\n",
       "      <td>2.270318e+00</td>\n",
       "      <td>2.280677e+00</td>\n",
       "    </tr>\n",
       "    <tr>\n",
       "      <th>75%</th>\n",
       "      <td>7.352585e+00</td>\n",
       "      <td>7.354508e+00</td>\n",
       "      <td>7.345815e+00</td>\n",
       "      <td>7.351396e+00</td>\n",
       "    </tr>\n",
       "    <tr>\n",
       "      <th>max</th>\n",
       "      <td>2.046100e+02</td>\n",
       "      <td>2.035005e+02</td>\n",
       "      <td>7.002148e+02</td>\n",
       "      <td>2.044298e+02</td>\n",
       "    </tr>\n",
       "  </tbody>\n",
       "</table>\n",
       "</div>"
      ],
      "text/plain": [
       "             champ0        champ1        champ2        champ3\n",
       "count  2.505542e+06  2.505542e+06  2.505542e+06  2.505542e+06\n",
       "mean   1.588334e+01  1.588621e+01  1.588313e+01  1.587908e+01\n",
       "std    3.486591e+01  3.487205e+01  3.487360e+01  3.485419e+01\n",
       "min   -3.388117e+01 -3.390320e+01 -3.422949e+01 -3.783190e+01\n",
       "25%   -2.410323e-01 -2.413528e-01 -2.477051e-01 -2.420567e-01\n",
       "50%    2.275754e+00  2.278306e+00  2.270318e+00  2.280677e+00\n",
       "75%    7.352585e+00  7.354508e+00  7.345815e+00  7.351396e+00\n",
       "max    2.046100e+02  2.035005e+02  7.002148e+02  2.044298e+02"
      ]
     },
     "execution_count": 67,
     "metadata": {},
     "output_type": "execute_result"
    }
   ],
   "source": [
    "concat_sub.iloc[:, 1:ncol].describe()"
   ]
  },
  {
   "cell_type": "code",
   "execution_count": 68,
   "metadata": {
    "_cell_guid": "2b115d55-48f4-43c6-9b22-dbd8cd5a28a8",
    "_uuid": "d412b01db3dd513eef9158bfaaebe96617e79d5b"
   },
   "outputs": [],
   "source": [
    "cutoff_lo = -35\n",
    "cutoff_hi = 207"
   ]
  },
  {
   "cell_type": "markdown",
   "metadata": {
    "_cell_guid": "103f2414-04a8-40bd-8ffc-4e77e510e023",
    "_uuid": "d213635b179fc8d07a6985d257c8c3e0007e0f7a"
   },
   "source": [
    "# Median Stacking"
   ]
  },
  {
   "cell_type": "code",
   "execution_count": 70,
   "metadata": {
    "_cell_guid": "9d5af2c0-1cc5-4adc-9153-d20d19c69bd6",
    "_uuid": "76fc5734615b45bf6234df1f450c9a24ca518834"
   },
   "outputs": [],
   "source": [
    "concat_sub['scalar_coupling_constant'] = concat_sub['champ_median']\n",
    "concat_sub[['id', 'scalar_coupling_constant']].to_csv('data/subs/blends/best_subs3.csv', index=False)"
   ]
  },
  {
   "cell_type": "markdown",
   "metadata": {
    "_cell_guid": "3da1db01-1922-4d34-ae02-1d3acfa59fca",
    "_uuid": "a1a1754ba1c9ca956da71920dcc5bf2f0ee78172"
   },
   "source": [
    "**LB -2.170**"
   ]
  },
  {
   "cell_type": "markdown",
   "metadata": {
    "_cell_guid": "fba2a588-19a4-41fd-a495-af6a3a551777",
    "_uuid": "caa0cb178c1f4921cb7c5b6552bfe4e0fb91475e"
   },
   "source": [
    "# PushOut + Median Stacking \n",
    "\n",
    "Pushout strategy is a bit agressive given what it does..."
   ]
  },
  {
   "cell_type": "code",
   "execution_count": 11,
   "metadata": {
    "_cell_guid": "f8646a39-f2cc-483a-912b-46af12b5de64",
    "_uuid": "e6038b30485244cf144ede75fb3ecab55afa3f84"
   },
   "outputs": [],
   "source": [
    "concat_sub['scalar_coupling_constant'] = np.where(np.all(concat_sub.iloc[:,1:ncol] > cutoff_lo, axis=1), 1, \n",
    "                                    np.where(np.all(concat_sub.iloc[:,1:ncol] < cutoff_hi, axis=1),\n",
    "                                             0, concat_sub['champ_median']))\n",
    "concat_sub[['id', 'scalar_coupling_constant']].to_csv('data/subs/blends/stack_pushout_median.csv', index=False)"
   ]
  },
  {
   "cell_type": "markdown",
   "metadata": {
    "_cell_guid": "f016ad2f-ddc9-4182-a288-32f4dcb466d3",
    "_uuid": "ed7b3420cf44929c977970605c9c231714926e0e"
   },
   "source": [
    "> **LB -----**"
   ]
  },
  {
   "cell_type": "markdown",
   "metadata": {
    "_cell_guid": "26fa22e0-4f00-455b-8328-3e3cdf34adfb",
    "_uuid": "9244a9d9ddce162fa7ddd7d32e271097b0b405df"
   },
   "source": [
    "# MinMax + Mean Stacking\n",
    "\n",
    "MinMax seems more gentle and it outperforms the previous one given its peformance score."
   ]
  },
  {
   "cell_type": "code",
   "execution_count": 12,
   "metadata": {
    "_cell_guid": "7634aaa4-2466-45b1-afbf-32dedb8691a4",
    "_uuid": "4ffd0c65d59a03ee04d5452b853efac717f3f3f7"
   },
   "outputs": [],
   "source": [
    "concat_sub['scalar_coupling_constant'] = np.where(np.all(concat_sub.iloc[:,1:ncol] > cutoff_lo, axis=1), \n",
    "                                    concat_sub['champ_max'], \n",
    "                                    np.where(np.all(concat_sub.iloc[:,1:ncol] < cutoff_hi, axis=1),\n",
    "                                             concat_sub['champ_min'], \n",
    "                                             concat_sub['champ_mean']))\n",
    "concat_sub[['id', 'scalar_coupling_constant']].to_csv('data/subs/blends/stack_minmax_mean.csv', index=False)"
   ]
  },
  {
   "cell_type": "markdown",
   "metadata": {
    "_cell_guid": "de9e7a52-2a3e-440a-9056-93ed4d9f87f9",
    "_uuid": "c4da0e0b2530daf4fdcb362980ad9fbfce5b3476"
   },
   "source": [
    "> **LB ----**\n",
    "\n"
   ]
  },
  {
   "cell_type": "markdown",
   "metadata": {
    "_cell_guid": "61831c59-a583-45d6-9bba-1102d1f80862",
    "_uuid": "95b5ccf95505b498dede6966f2a899c376d855dd"
   },
   "source": [
    "# MinMax + Median Stacking "
   ]
  },
  {
   "cell_type": "code",
   "execution_count": 14,
   "metadata": {
    "_cell_guid": "8aa75397-da75-4d93-916e-d88f464e13fe",
    "_uuid": "d4b7e91489d86452dc6d13340109e07da40f9fa9"
   },
   "outputs": [],
   "source": [
    "concat_sub['scalar_coupling_constant'] = np.where(np.all(concat_sub.iloc[:,1:ncol] > cutoff_lo, axis=1), \n",
    "                                    concat_sub['champ_max'], \n",
    "                                    np.where(np.all(concat_sub.iloc[:,1:ncol] < cutoff_hi, axis=1),\n",
    "                                             concat_sub['champ_min'], \n",
    "                                             concat_sub['champ_median']))\n",
    "concat_sub[['id', 'scalar_coupling_constant']].to_csv('data/subs/blends/stack_minmax_median.csv', index=False)"
   ]
  },
  {
   "cell_type": "markdown",
   "metadata": {
    "_cell_guid": "b9d1df47-6c0b-4bca-9357-ceaf61746171",
    "_uuid": "1abbdcd40aca61b375ee4dd0e3e90b814cecceba"
   },
   "source": [
    "**LB ----** -"
   ]
  },
  {
   "cell_type": "markdown",
   "metadata": {
    "_cell_guid": "307ebff0-d690-4dbf-8496-3fc8340bcc60",
    "_uuid": "935499734e508b98e7d694606bd2851a4b3cbce5"
   },
   "source": [
    "# MinMax + BestBase Stacking"
   ]
  },
  {
   "cell_type": "code",
   "execution_count": 14,
   "metadata": {
    "_cell_guid": "59f60095-f1ff-4c26-8d51-e0111e80f3ba",
    "_kg_hide-input": true,
    "_uuid": "8e3f2ac12368eac5fc2b69e9e899873dd33adef8"
   },
   "outputs": [],
   "source": [
    "# load the model with best base performance\n",
    "sub_base = pd.read_csv('data/subs/submission_type_important_features.csv')"
   ]
  },
  {
   "cell_type": "code",
   "execution_count": 17,
   "metadata": {
    "_cell_guid": "2758287f-0e47-4dc6-ab11-004ce8812f8f",
    "_uuid": "2ac62e85fbafd2a9095e71d576633a65694787d8"
   },
   "outputs": [],
   "source": [
    "concat_sub['champ_base'] = sub_base['scalar_coupling_constant']\n",
    "concat_sub['id'] = sub_base['id']\n",
    "concat_sub['scalar_coupling_constant'] = np.where(np.all(concat_sub.iloc[:,1:ncol] > cutoff_lo, axis=1), \n",
    "                                    concat_sub['champ_max'], \n",
    "                                    np.where(np.all(concat_sub.iloc[:,1:ncol] < cutoff_hi, axis=1),\n",
    "                                             concat_sub['champ_min'], \n",
    "                                             concat_sub['champ_base']))\n",
    "concat_sub[['id', 'scalar_coupling_constant']].to_csv('data/subs/blends/stack_minmax_bestbase.csv', index=False)"
   ]
  },
  {
   "cell_type": "markdown",
   "metadata": {
    "_cell_guid": "c493ff8f-99bd-4b20-8e68-80b4f85682c9",
    "_uuid": "f4a0c7572916fd1ace3a3b0b7ea9fd9564c96d4d"
   },
   "source": [
    "> **LB----** -"
   ]
  },
  {
   "cell_type": "markdown",
   "metadata": {},
   "source": [
    "### Weighted Average"
   ]
  },
  {
   "cell_type": "code",
   "execution_count": 62,
   "metadata": {},
   "outputs": [],
   "source": [
    "selected_files = ['sub_qm9_babel_ascf_11fold_extreme_AND_stack_median_AVG.csv',\n",
    "                  'semgcn_1c_w12_24k.csv', 'sagpooling_larger_mpnn.csv', ]"
   ]
  },
  {
   "cell_type": "code",
   "execution_count": 63,
   "metadata": {},
   "outputs": [],
   "source": [
    "sub_lgbm = pd.read_csv(os.path.join(sub_path, selected_files[0]), index_col=0)\n",
    "sub_semgcn = pd.read_csv(os.path.join(sub_path, selected_files[1]), index_col=0)\n",
    "sub_mpnn = pd.read_csv(os.path.join(sub_path, selected_files[2]), index_col=0)"
   ]
  },
  {
   "cell_type": "code",
   "execution_count": 69,
   "metadata": {},
   "outputs": [],
   "source": [
    "cc = sub_semgcn.copy()"
   ]
  },
  {
   "cell_type": "code",
   "execution_count": 76,
   "metadata": {},
   "outputs": [],
   "source": [
    "cc['scalar_coupling_constant'] = (0.2*sub_lgbm['scalar_coupling_constant'] + 0.5*sub_semgcn['scalar_coupling_constant']\n",
    "                                + 0.3*sub_mpnn['scalar_coupling_constant'])"
   ]
  },
  {
   "cell_type": "code",
   "execution_count": 77,
   "metadata": {},
   "outputs": [
    {
     "name": "stdout",
     "output_type": "stream",
     "text": [
      "-0.0014508007425977354\n",
      "-0.00979137145056086\n",
      "0.0172861529099535\n"
     ]
    }
   ],
   "source": [
    "print(cc['scalar_coupling_constant'].mean()-sub_lgbm['scalar_coupling_constant'].mean())\n",
    "print(cc['scalar_coupling_constant'].mean()-sub_semgcn['scalar_coupling_constant'].mean())\n",
    "print(cc['scalar_coupling_constant'].mean()-sub_mpnn['scalar_coupling_constant'].mean())"
   ]
  },
  {
   "cell_type": "code",
   "execution_count": 79,
   "metadata": {},
   "outputs": [],
   "source": [
    "cc.to_csv('weighted_average_lgbm_semgcn_mpnn.csv')"
   ]
  },
  {
   "cell_type": "code",
   "execution_count": 80,
   "metadata": {},
   "outputs": [
    {
     "data": {
      "text/html": [
       "<div>\n",
       "<style scoped>\n",
       "    .dataframe tbody tr th:only-of-type {\n",
       "        vertical-align: middle;\n",
       "    }\n",
       "\n",
       "    .dataframe tbody tr th {\n",
       "        vertical-align: top;\n",
       "    }\n",
       "\n",
       "    .dataframe thead th {\n",
       "        text-align: right;\n",
       "    }\n",
       "</style>\n",
       "<table border=\"1\" class=\"dataframe\">\n",
       "  <thead>\n",
       "    <tr style=\"text-align: right;\">\n",
       "      <th></th>\n",
       "      <th>scalar_coupling_constant</th>\n",
       "    </tr>\n",
       "    <tr>\n",
       "      <th>id</th>\n",
       "      <th></th>\n",
       "    </tr>\n",
       "  </thead>\n",
       "  <tbody>\n",
       "    <tr>\n",
       "      <th>4658147</th>\n",
       "      <td>12.421384</td>\n",
       "    </tr>\n",
       "    <tr>\n",
       "      <th>4658148</th>\n",
       "      <td>170.516021</td>\n",
       "    </tr>\n",
       "    <tr>\n",
       "      <th>4658149</th>\n",
       "      <td>3.776587</td>\n",
       "    </tr>\n",
       "    <tr>\n",
       "      <th>4658150</th>\n",
       "      <td>169.577651</td>\n",
       "    </tr>\n",
       "    <tr>\n",
       "      <th>4658151</th>\n",
       "      <td>12.334907</td>\n",
       "    </tr>\n",
       "  </tbody>\n",
       "</table>\n",
       "</div>"
      ],
      "text/plain": [
       "         scalar_coupling_constant\n",
       "id                               \n",
       "4658147                 12.421384\n",
       "4658148                170.516021\n",
       "4658149                  3.776587\n",
       "4658150                169.577651\n",
       "4658151                 12.334907"
      ]
     },
     "execution_count": 80,
     "metadata": {},
     "output_type": "execute_result"
    }
   ],
   "source": [
    "cc.head()"
   ]
  },
  {
   "cell_type": "code",
   "execution_count": null,
   "metadata": {},
   "outputs": [],
   "source": []
  }
 ],
 "metadata": {
  "kernelspec": {
   "display_name": "Python 3",
   "language": "python",
   "name": "python3"
  },
  "language_info": {
   "codemirror_mode": {
    "name": "ipython",
    "version": 3
   },
   "file_extension": ".py",
   "mimetype": "text/x-python",
   "name": "python",
   "nbconvert_exporter": "python",
   "pygments_lexer": "ipython3",
   "version": "3.6.8"
  }
 },
 "nbformat": 4,
 "nbformat_minor": 1
}
