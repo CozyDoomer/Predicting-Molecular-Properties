{
 "cells": [
  {
   "cell_type": "markdown",
   "metadata": {},
   "source": [
    "Thanks @DSEverything for https://www.kaggle.com/dongxu027/explore-stacking-lb-0-1463"
   ]
  },
  {
   "cell_type": "code",
   "execution_count": 1,
   "metadata": {
    "_cell_guid": "28a96b13-fb54-43af-aeb9-ccb40526ec1f",
    "_uuid": "518b490c58f98a59d25d8d5d8c39dca0673564e1"
   },
   "outputs": [],
   "source": [
    "import os\n",
    "import numpy as np \n",
    "import pandas as pd \n",
    "from subprocess import check_output\n",
    "import seaborn as sns; sns.set()\n",
    "import matplotlib.pyplot as plt"
   ]
  },
  {
   "cell_type": "markdown",
   "metadata": {
    "_cell_guid": "1840df41-7524-4305-93d9-423a2a6fe5bd",
    "_uuid": "aae1d396e2fad44a15fcb8e970c5affa8fb6ddc6"
   },
   "source": [
    "# Data Load"
   ]
  },
  {
   "cell_type": "code",
   "execution_count": 2,
   "metadata": {
    "_kg_hide-output": true
   },
   "outputs": [
    {
     "data": {
      "text/plain": [
       "['submission-l2-R.csv',\n",
       " 'submission_cnn.csv',\n",
       " 'submission_per_type.csv',\n",
       " 'submission_per_type_inflated.csv',\n",
       " 'submission_type_important_features.csv',\n",
       " 'submission_type_l1_different_lambda.csv',\n",
       " 'submission_type_l1_without_fc.csv',\n",
       " 'submission_type_l2.csv',\n",
       " 'submission_type_testing.csv',\n",
       " 'weighted-avg-blend-1.csv',\n",
       " 'weighted-avg-blend-2.csv',\n",
       " 'weighted-avg-blend-3.csv']"
      ]
     },
     "execution_count": 2,
     "metadata": {},
     "output_type": "execute_result"
    }
   ],
   "source": [
    "sub_path = \"data/subs\"\n",
    "all_files = os.listdir(sub_path)\n",
    "all_files"
   ]
  },
  {
   "cell_type": "code",
   "execution_count": 3,
   "metadata": {},
   "outputs": [
    {
     "data": {
      "text/plain": [
       "['submission-l2-R.csv',\n",
       " 'submission_per_type_inflated.csv',\n",
       " 'submission_type_l1_different_lambda.csv',\n",
       " 'submission_type_l2.csv',\n",
       " 'submission_per_type.csv',\n",
       " 'submission_type_important_features.csv',\n",
       " 'submission_cnn.csv']"
      ]
     },
     "execution_count": 3,
     "metadata": {},
     "output_type": "execute_result"
    }
   ],
   "source": [
    "list_to_remove = ['submission_type_testing.csv', 'submission_type_l1_without_fc.csv']\n",
    "selected_files = all_files[:9]\n",
    "selected_files = list(set(selected_files).difference(set(list_to_remove)))\n",
    "selected_files"
   ]
  },
  {
   "cell_type": "code",
   "execution_count": 9,
   "metadata": {
    "_cell_guid": "c978c838-8a87-45ef-a118-b6bd565bdb2e",
    "_uuid": "1fa9dd2434873dc5bc918b102a3a69649d0f35c7"
   },
   "outputs": [
    {
     "data": {
      "text/html": [
       "<div>\n",
       "<style scoped>\n",
       "    .dataframe tbody tr th:only-of-type {\n",
       "        vertical-align: middle;\n",
       "    }\n",
       "\n",
       "    .dataframe tbody tr th {\n",
       "        vertical-align: top;\n",
       "    }\n",
       "\n",
       "    .dataframe thead th {\n",
       "        text-align: right;\n",
       "    }\n",
       "</style>\n",
       "<table border=\"1\" class=\"dataframe\">\n",
       "  <thead>\n",
       "    <tr style=\"text-align: right;\">\n",
       "      <th></th>\n",
       "      <th>id</th>\n",
       "      <th>champ0</th>\n",
       "      <th>champ1</th>\n",
       "      <th>champ2</th>\n",
       "      <th>champ3</th>\n",
       "      <th>champ4</th>\n",
       "      <th>champ5</th>\n",
       "      <th>champ6</th>\n",
       "    </tr>\n",
       "  </thead>\n",
       "  <tbody>\n",
       "    <tr>\n",
       "      <th>0</th>\n",
       "      <td>4658147</td>\n",
       "      <td>9.946665</td>\n",
       "      <td>13.409721</td>\n",
       "      <td>16.566085</td>\n",
       "      <td>16.857134</td>\n",
       "      <td>9.373112</td>\n",
       "      <td>17.300541</td>\n",
       "      <td>9.397905</td>\n",
       "    </tr>\n",
       "    <tr>\n",
       "      <th>1</th>\n",
       "      <td>4658148</td>\n",
       "      <td>147.101689</td>\n",
       "      <td>195.441915</td>\n",
       "      <td>197.012499</td>\n",
       "      <td>193.993892</td>\n",
       "      <td>155.638529</td>\n",
       "      <td>194.840166</td>\n",
       "      <td>175.418076</td>\n",
       "    </tr>\n",
       "    <tr>\n",
       "      <th>2</th>\n",
       "      <td>4658149</td>\n",
       "      <td>2.331709</td>\n",
       "      <td>5.799049</td>\n",
       "      <td>5.221424</td>\n",
       "      <td>5.561650</td>\n",
       "      <td>5.528845</td>\n",
       "      <td>5.606836</td>\n",
       "      <td>5.084437</td>\n",
       "    </tr>\n",
       "    <tr>\n",
       "      <th>3</th>\n",
       "      <td>4658150</td>\n",
       "      <td>150.967498</td>\n",
       "      <td>192.220371</td>\n",
       "      <td>190.912648</td>\n",
       "      <td>187.995414</td>\n",
       "      <td>156.410454</td>\n",
       "      <td>189.396811</td>\n",
       "      <td>176.916229</td>\n",
       "    </tr>\n",
       "    <tr>\n",
       "      <th>4</th>\n",
       "      <td>4658151</td>\n",
       "      <td>12.678644</td>\n",
       "      <td>6.345233</td>\n",
       "      <td>16.827829</td>\n",
       "      <td>15.808855</td>\n",
       "      <td>8.042887</td>\n",
       "      <td>17.137294</td>\n",
       "      <td>9.667832</td>\n",
       "    </tr>\n",
       "  </tbody>\n",
       "</table>\n",
       "</div>"
      ],
      "text/plain": [
       "        id      champ0      champ1      champ2      champ3      champ4  \\\n",
       "0  4658147    9.946665   13.409721   16.566085   16.857134    9.373112   \n",
       "1  4658148  147.101689  195.441915  197.012499  193.993892  155.638529   \n",
       "2  4658149    2.331709    5.799049    5.221424    5.561650    5.528845   \n",
       "3  4658150  150.967498  192.220371  190.912648  187.995414  156.410454   \n",
       "4  4658151   12.678644    6.345233   16.827829   15.808855    8.042887   \n",
       "\n",
       "       champ5      champ6  \n",
       "0   17.300541    9.397905  \n",
       "1  194.840166  175.418076  \n",
       "2    5.606836    5.084437  \n",
       "3  189.396811  176.916229  \n",
       "4   17.137294    9.667832  "
      ]
     },
     "execution_count": 9,
     "metadata": {},
     "output_type": "execute_result"
    }
   ],
   "source": [
    "# Read and concatenate submissions\n",
    "outs = [pd.read_csv(os.path.join(sub_path, f), index_col=0) for f in selected_files]\n",
    "concat_sub = pd.concat(outs, axis=1)\n",
    "cols = list(map(lambda x: \"champ\" + str(x), range(len(concat_sub.columns))))\n",
    "concat_sub.columns = cols\n",
    "concat_sub.reset_index(inplace=True)\n",
    "ncol = concat_sub.shape[1]\n",
    "concat_sub.head()"
   ]
  },
  {
   "cell_type": "code",
   "execution_count": 10,
   "metadata": {
    "_cell_guid": "a193cac9-e544-4749-8622-2c0a7d882193",
    "_uuid": "37b39229e34b71032d8d2371c6b731ed452b8eb2"
   },
   "outputs": [
    {
     "data": {
      "text/html": [
       "<div>\n",
       "<style scoped>\n",
       "    .dataframe tbody tr th:only-of-type {\n",
       "        vertical-align: middle;\n",
       "    }\n",
       "\n",
       "    .dataframe tbody tr th {\n",
       "        vertical-align: top;\n",
       "    }\n",
       "\n",
       "    .dataframe thead th {\n",
       "        text-align: right;\n",
       "    }\n",
       "</style>\n",
       "<table border=\"1\" class=\"dataframe\">\n",
       "  <thead>\n",
       "    <tr style=\"text-align: right;\">\n",
       "      <th></th>\n",
       "      <th>champ0</th>\n",
       "      <th>champ1</th>\n",
       "      <th>champ2</th>\n",
       "      <th>champ3</th>\n",
       "      <th>champ4</th>\n",
       "      <th>champ5</th>\n",
       "      <th>champ6</th>\n",
       "    </tr>\n",
       "  </thead>\n",
       "  <tbody>\n",
       "    <tr>\n",
       "      <th>champ0</th>\n",
       "      <td>1.000000</td>\n",
       "      <td>0.999733</td>\n",
       "      <td>0.999839</td>\n",
       "      <td>0.999846</td>\n",
       "      <td>0.999624</td>\n",
       "      <td>0.999843</td>\n",
       "      <td>0.999525</td>\n",
       "    </tr>\n",
       "    <tr>\n",
       "      <th>champ1</th>\n",
       "      <td>0.999733</td>\n",
       "      <td>1.000000</td>\n",
       "      <td>0.999748</td>\n",
       "      <td>0.999753</td>\n",
       "      <td>0.999706</td>\n",
       "      <td>0.999750</td>\n",
       "      <td>0.999523</td>\n",
       "    </tr>\n",
       "    <tr>\n",
       "      <th>champ2</th>\n",
       "      <td>0.999839</td>\n",
       "      <td>0.999748</td>\n",
       "      <td>1.000000</td>\n",
       "      <td>0.999974</td>\n",
       "      <td>0.999563</td>\n",
       "      <td>0.999973</td>\n",
       "      <td>0.999561</td>\n",
       "    </tr>\n",
       "    <tr>\n",
       "      <th>champ3</th>\n",
       "      <td>0.999846</td>\n",
       "      <td>0.999753</td>\n",
       "      <td>0.999974</td>\n",
       "      <td>1.000000</td>\n",
       "      <td>0.999570</td>\n",
       "      <td>0.999987</td>\n",
       "      <td>0.999566</td>\n",
       "    </tr>\n",
       "    <tr>\n",
       "      <th>champ4</th>\n",
       "      <td>0.999624</td>\n",
       "      <td>0.999706</td>\n",
       "      <td>0.999563</td>\n",
       "      <td>0.999570</td>\n",
       "      <td>1.000000</td>\n",
       "      <td>0.999567</td>\n",
       "      <td>0.999419</td>\n",
       "    </tr>\n",
       "    <tr>\n",
       "      <th>champ5</th>\n",
       "      <td>0.999843</td>\n",
       "      <td>0.999750</td>\n",
       "      <td>0.999973</td>\n",
       "      <td>0.999987</td>\n",
       "      <td>0.999567</td>\n",
       "      <td>1.000000</td>\n",
       "      <td>0.999565</td>\n",
       "    </tr>\n",
       "    <tr>\n",
       "      <th>champ6</th>\n",
       "      <td>0.999525</td>\n",
       "      <td>0.999523</td>\n",
       "      <td>0.999561</td>\n",
       "      <td>0.999566</td>\n",
       "      <td>0.999419</td>\n",
       "      <td>0.999565</td>\n",
       "      <td>1.000000</td>\n",
       "    </tr>\n",
       "  </tbody>\n",
       "</table>\n",
       "</div>"
      ],
      "text/plain": [
       "          champ0    champ1    champ2    champ3    champ4    champ5    champ6\n",
       "champ0  1.000000  0.999733  0.999839  0.999846  0.999624  0.999843  0.999525\n",
       "champ1  0.999733  1.000000  0.999748  0.999753  0.999706  0.999750  0.999523\n",
       "champ2  0.999839  0.999748  1.000000  0.999974  0.999563  0.999973  0.999561\n",
       "champ3  0.999846  0.999753  0.999974  1.000000  0.999570  0.999987  0.999566\n",
       "champ4  0.999624  0.999706  0.999563  0.999570  1.000000  0.999567  0.999419\n",
       "champ5  0.999843  0.999750  0.999973  0.999987  0.999567  1.000000  0.999565\n",
       "champ6  0.999525  0.999523  0.999561  0.999566  0.999419  0.999565  1.000000"
      ]
     },
     "execution_count": 10,
     "metadata": {},
     "output_type": "execute_result"
    }
   ],
   "source": [
    "# check correlation\n",
    "concat_sub.iloc[:,1:ncol].corr()"
   ]
  },
  {
   "cell_type": "code",
   "execution_count": 11,
   "metadata": {
    "_cell_guid": "c7be9be8-b999-42d9-a0cc-6bf2a035b25b",
    "_uuid": "07cdbb447c11008557c1773e464d08f798d8b2b2"
   },
   "outputs": [],
   "source": [
    "# get the data fields ready for stacking\n",
    "concat_sub['champ_max'] = concat_sub.iloc[:, 1:ncol].max(axis=1)\n",
    "concat_sub['champ_min'] = concat_sub.iloc[:, 1:ncol].min(axis=1)\n",
    "concat_sub['champ_mean'] = concat_sub.iloc[:, 1:ncol].mean(axis=1)\n",
    "concat_sub['champ_median'] = concat_sub.iloc[:, 1:ncol].median(axis=1)"
   ]
  },
  {
   "cell_type": "code",
   "execution_count": 12,
   "metadata": {},
   "outputs": [
    {
     "data": {
      "text/html": [
       "<div>\n",
       "<style scoped>\n",
       "    .dataframe tbody tr th:only-of-type {\n",
       "        vertical-align: middle;\n",
       "    }\n",
       "\n",
       "    .dataframe tbody tr th {\n",
       "        vertical-align: top;\n",
       "    }\n",
       "\n",
       "    .dataframe thead th {\n",
       "        text-align: right;\n",
       "    }\n",
       "</style>\n",
       "<table border=\"1\" class=\"dataframe\">\n",
       "  <thead>\n",
       "    <tr style=\"text-align: right;\">\n",
       "      <th></th>\n",
       "      <th>champ0</th>\n",
       "      <th>champ1</th>\n",
       "      <th>champ2</th>\n",
       "      <th>champ3</th>\n",
       "      <th>champ4</th>\n",
       "      <th>champ5</th>\n",
       "      <th>champ6</th>\n",
       "    </tr>\n",
       "  </thead>\n",
       "  <tbody>\n",
       "    <tr>\n",
       "      <th>count</th>\n",
       "      <td>2.505542e+06</td>\n",
       "      <td>2.505542e+06</td>\n",
       "      <td>2.505542e+06</td>\n",
       "      <td>2.505542e+06</td>\n",
       "      <td>2.505542e+06</td>\n",
       "      <td>2.505542e+06</td>\n",
       "      <td>2.505542e+06</td>\n",
       "    </tr>\n",
       "    <tr>\n",
       "      <th>mean</th>\n",
       "      <td>1.588675e+01</td>\n",
       "      <td>1.588474e+01</td>\n",
       "      <td>1.588540e+01</td>\n",
       "      <td>1.588493e+01</td>\n",
       "      <td>1.588759e+01</td>\n",
       "      <td>1.588510e+01</td>\n",
       "      <td>1.587349e+01</td>\n",
       "    </tr>\n",
       "    <tr>\n",
       "      <th>std</th>\n",
       "      <td>3.485679e+01</td>\n",
       "      <td>3.485558e+01</td>\n",
       "      <td>3.486563e+01</td>\n",
       "      <td>3.486503e+01</td>\n",
       "      <td>3.484533e+01</td>\n",
       "      <td>3.486513e+01</td>\n",
       "      <td>3.482888e+01</td>\n",
       "    </tr>\n",
       "    <tr>\n",
       "      <th>min</th>\n",
       "      <td>-3.224456e+01</td>\n",
       "      <td>-3.193704e+01</td>\n",
       "      <td>-3.157250e+01</td>\n",
       "      <td>-3.155207e+01</td>\n",
       "      <td>-3.079447e+01</td>\n",
       "      <td>-3.155304e+01</td>\n",
       "      <td>-3.230405e+01</td>\n",
       "    </tr>\n",
       "    <tr>\n",
       "      <th>25%</th>\n",
       "      <td>-2.086306e-01</td>\n",
       "      <td>-1.986067e-01</td>\n",
       "      <td>-2.285737e-01</td>\n",
       "      <td>-2.283203e-01</td>\n",
       "      <td>-1.752141e-01</td>\n",
       "      <td>-2.290635e-01</td>\n",
       "      <td>-2.472747e-01</td>\n",
       "    </tr>\n",
       "    <tr>\n",
       "      <th>50%</th>\n",
       "      <td>2.305326e+00</td>\n",
       "      <td>2.271676e+00</td>\n",
       "      <td>2.277338e+00</td>\n",
       "      <td>2.277121e+00</td>\n",
       "      <td>2.295203e+00</td>\n",
       "      <td>2.276754e+00</td>\n",
       "      <td>2.277905e+00</td>\n",
       "    </tr>\n",
       "    <tr>\n",
       "      <th>75%</th>\n",
       "      <td>7.255698e+00</td>\n",
       "      <td>7.258927e+00</td>\n",
       "      <td>7.343182e+00</td>\n",
       "      <td>7.340137e+00</td>\n",
       "      <td>7.161042e+00</td>\n",
       "      <td>7.343286e+00</td>\n",
       "      <td>7.360947e+00</td>\n",
       "    </tr>\n",
       "    <tr>\n",
       "      <th>max</th>\n",
       "      <td>2.032142e+02</td>\n",
       "      <td>2.031041e+02</td>\n",
       "      <td>2.035224e+02</td>\n",
       "      <td>2.035096e+02</td>\n",
       "      <td>2.041285e+02</td>\n",
       "      <td>2.032151e+02</td>\n",
       "      <td>2.032168e+02</td>\n",
       "    </tr>\n",
       "  </tbody>\n",
       "</table>\n",
       "</div>"
      ],
      "text/plain": [
       "             champ0        champ1        champ2        champ3        champ4  \\\n",
       "count  2.505542e+06  2.505542e+06  2.505542e+06  2.505542e+06  2.505542e+06   \n",
       "mean   1.588675e+01  1.588474e+01  1.588540e+01  1.588493e+01  1.588759e+01   \n",
       "std    3.485679e+01  3.485558e+01  3.486563e+01  3.486503e+01  3.484533e+01   \n",
       "min   -3.224456e+01 -3.193704e+01 -3.157250e+01 -3.155207e+01 -3.079447e+01   \n",
       "25%   -2.086306e-01 -1.986067e-01 -2.285737e-01 -2.283203e-01 -1.752141e-01   \n",
       "50%    2.305326e+00  2.271676e+00  2.277338e+00  2.277121e+00  2.295203e+00   \n",
       "75%    7.255698e+00  7.258927e+00  7.343182e+00  7.340137e+00  7.161042e+00   \n",
       "max    2.032142e+02  2.031041e+02  2.035224e+02  2.035096e+02  2.041285e+02   \n",
       "\n",
       "             champ5        champ6  \n",
       "count  2.505542e+06  2.505542e+06  \n",
       "mean   1.588510e+01  1.587349e+01  \n",
       "std    3.486513e+01  3.482888e+01  \n",
       "min   -3.155304e+01 -3.230405e+01  \n",
       "25%   -2.290635e-01 -2.472747e-01  \n",
       "50%    2.276754e+00  2.277905e+00  \n",
       "75%    7.343286e+00  7.360947e+00  \n",
       "max    2.032151e+02  2.032168e+02  "
      ]
     },
     "execution_count": 12,
     "metadata": {},
     "output_type": "execute_result"
    }
   ],
   "source": [
    "concat_sub.iloc[:, 1:ncol].describe()"
   ]
  },
  {
   "cell_type": "code",
   "execution_count": 13,
   "metadata": {
    "_cell_guid": "2b115d55-48f4-43c6-9b22-dbd8cd5a28a8",
    "_uuid": "d412b01db3dd513eef9158bfaaebe96617e79d5b"
   },
   "outputs": [],
   "source": [
    "cutoff_lo = -35\n",
    "cutoff_hi = 207"
   ]
  },
  {
   "cell_type": "markdown",
   "metadata": {
    "_cell_guid": "d0493bc1-1d92-4bc7-aa84-107fcb6d7324",
    "_uuid": "698574b4531ce5ec1c59d5afaf451392169af5e0"
   },
   "source": [
    "# Mean Stacking"
   ]
  },
  {
   "cell_type": "code",
   "execution_count": 15,
   "metadata": {
    "_cell_guid": "f1169e63-b019-4a39-87b5-8fa1d0488f09",
    "_uuid": "a6642e2884dacc8c5095413e6a0945c6791ee1b5"
   },
   "outputs": [],
   "source": [
    "concat_sub['scalar_coupling_constant'] = concat_sub['champ_mean']\n",
    "concat_sub[['id', 'scalar_coupling_constant']].to_csv('data/subs/blends/stack_mean.csv', index=False)"
   ]
  },
  {
   "cell_type": "markdown",
   "metadata": {
    "_cell_guid": "64a7aeea-ac14-4ae8-ac62-0c58b13c1f9e",
    "_uuid": "a24eecfd51f4f6665d751f3f1c126e46a44426bd"
   },
   "source": [
    "**LB----**"
   ]
  },
  {
   "cell_type": "markdown",
   "metadata": {
    "_cell_guid": "103f2414-04a8-40bd-8ffc-4e77e510e023",
    "_uuid": "d213635b179fc8d07a6985d257c8c3e0007e0f7a"
   },
   "source": [
    "# Median Stacking"
   ]
  },
  {
   "cell_type": "code",
   "execution_count": 17,
   "metadata": {
    "_cell_guid": "9d5af2c0-1cc5-4adc-9153-d20d19c69bd6",
    "_uuid": "76fc5734615b45bf6234df1f450c9a24ca518834"
   },
   "outputs": [],
   "source": [
    "concat_sub['scalar_coupling_constant'] = concat_sub['champ_median']\n",
    "concat_sub[['id', 'scalar_coupling_constant']].to_csv('data/subs/blends/stack_median.csv', index=False)"
   ]
  },
  {
   "cell_type": "markdown",
   "metadata": {
    "_cell_guid": "3da1db01-1922-4d34-ae02-1d3acfa59fca",
    "_uuid": "a1a1754ba1c9ca956da71920dcc5bf2f0ee78172"
   },
   "source": [
    "**LB -1.609**"
   ]
  },
  {
   "cell_type": "markdown",
   "metadata": {
    "_cell_guid": "fba2a588-19a4-41fd-a495-af6a3a551777",
    "_uuid": "caa0cb178c1f4921cb7c5b6552bfe4e0fb91475e"
   },
   "source": [
    "# PushOut + Median Stacking \n",
    "\n",
    "Pushout strategy is a bit agressive given what it does..."
   ]
  },
  {
   "cell_type": "code",
   "execution_count": 11,
   "metadata": {
    "_cell_guid": "f8646a39-f2cc-483a-912b-46af12b5de64",
    "_uuid": "e6038b30485244cf144ede75fb3ecab55afa3f84"
   },
   "outputs": [],
   "source": [
    "concat_sub['scalar_coupling_constant'] = np.where(np.all(concat_sub.iloc[:,1:ncol] > cutoff_lo, axis=1), 1, \n",
    "                                    np.where(np.all(concat_sub.iloc[:,1:ncol] < cutoff_hi, axis=1),\n",
    "                                             0, concat_sub['champ_median']))\n",
    "concat_sub[['id', 'scalar_coupling_constant']].to_csv('data/subs/blends/stack_pushout_median.csv', index=False)"
   ]
  },
  {
   "cell_type": "markdown",
   "metadata": {
    "_cell_guid": "f016ad2f-ddc9-4182-a288-32f4dcb466d3",
    "_uuid": "ed7b3420cf44929c977970605c9c231714926e0e"
   },
   "source": [
    "> **LB -----**"
   ]
  },
  {
   "cell_type": "markdown",
   "metadata": {
    "_cell_guid": "26fa22e0-4f00-455b-8328-3e3cdf34adfb",
    "_uuid": "9244a9d9ddce162fa7ddd7d32e271097b0b405df"
   },
   "source": [
    "# MinMax + Mean Stacking\n",
    "\n",
    "MinMax seems more gentle and it outperforms the previous one given its peformance score."
   ]
  },
  {
   "cell_type": "code",
   "execution_count": 12,
   "metadata": {
    "_cell_guid": "7634aaa4-2466-45b1-afbf-32dedb8691a4",
    "_uuid": "4ffd0c65d59a03ee04d5452b853efac717f3f3f7"
   },
   "outputs": [],
   "source": [
    "concat_sub['scalar_coupling_constant'] = np.where(np.all(concat_sub.iloc[:,1:ncol] > cutoff_lo, axis=1), \n",
    "                                    concat_sub['champ_max'], \n",
    "                                    np.where(np.all(concat_sub.iloc[:,1:ncol] < cutoff_hi, axis=1),\n",
    "                                             concat_sub['champ_min'], \n",
    "                                             concat_sub['champ_mean']))\n",
    "concat_sub[['id', 'scalar_coupling_constant']].to_csv('data/subs/blends/stack_minmax_mean.csv', index=False)"
   ]
  },
  {
   "cell_type": "markdown",
   "metadata": {
    "_cell_guid": "de9e7a52-2a3e-440a-9056-93ed4d9f87f9",
    "_uuid": "c4da0e0b2530daf4fdcb362980ad9fbfce5b3476"
   },
   "source": [
    "> **LB ----**\n",
    "\n"
   ]
  },
  {
   "cell_type": "markdown",
   "metadata": {
    "_cell_guid": "61831c59-a583-45d6-9bba-1102d1f80862",
    "_uuid": "95b5ccf95505b498dede6966f2a899c376d855dd"
   },
   "source": [
    "# MinMax + Median Stacking "
   ]
  },
  {
   "cell_type": "code",
   "execution_count": 14,
   "metadata": {
    "_cell_guid": "8aa75397-da75-4d93-916e-d88f464e13fe",
    "_uuid": "d4b7e91489d86452dc6d13340109e07da40f9fa9"
   },
   "outputs": [],
   "source": [
    "concat_sub['scalar_coupling_constant'] = np.where(np.all(concat_sub.iloc[:,1:ncol] > cutoff_lo, axis=1), \n",
    "                                    concat_sub['champ_max'], \n",
    "                                    np.where(np.all(concat_sub.iloc[:,1:ncol] < cutoff_hi, axis=1),\n",
    "                                             concat_sub['champ_min'], \n",
    "                                             concat_sub['champ_median']))\n",
    "concat_sub[['id', 'scalar_coupling_constant']].to_csv('data/subs/blends/stack_minmax_median.csv', index=False)"
   ]
  },
  {
   "cell_type": "markdown",
   "metadata": {
    "_cell_guid": "b9d1df47-6c0b-4bca-9357-ceaf61746171",
    "_uuid": "1abbdcd40aca61b375ee4dd0e3e90b814cecceba"
   },
   "source": [
    "**LB ----** -"
   ]
  },
  {
   "cell_type": "markdown",
   "metadata": {
    "_cell_guid": "307ebff0-d690-4dbf-8496-3fc8340bcc60",
    "_uuid": "935499734e508b98e7d694606bd2851a4b3cbce5"
   },
   "source": [
    "# MinMax + BestBase Stacking"
   ]
  },
  {
   "cell_type": "code",
   "execution_count": 14,
   "metadata": {
    "_cell_guid": "59f60095-f1ff-4c26-8d51-e0111e80f3ba",
    "_kg_hide-input": true,
    "_uuid": "8e3f2ac12368eac5fc2b69e9e899873dd33adef8"
   },
   "outputs": [],
   "source": [
    "# load the model with best base performance\n",
    "sub_base = pd.read_csv('data/subs/submission_type_important_features.csv')"
   ]
  },
  {
   "cell_type": "code",
   "execution_count": 17,
   "metadata": {
    "_cell_guid": "2758287f-0e47-4dc6-ab11-004ce8812f8f",
    "_uuid": "2ac62e85fbafd2a9095e71d576633a65694787d8"
   },
   "outputs": [],
   "source": [
    "concat_sub['champ_base'] = sub_base['scalar_coupling_constant']\n",
    "concat_sub['id'] = sub_base['id']\n",
    "concat_sub['scalar_coupling_constant'] = np.where(np.all(concat_sub.iloc[:,1:ncol] > cutoff_lo, axis=1), \n",
    "                                    concat_sub['champ_max'], \n",
    "                                    np.where(np.all(concat_sub.iloc[:,1:ncol] < cutoff_hi, axis=1),\n",
    "                                             concat_sub['champ_min'], \n",
    "                                             concat_sub['champ_base']))\n",
    "concat_sub[['id', 'scalar_coupling_constant']].to_csv('data/subs/blends/stack_minmax_bestbase.csv', index=False)"
   ]
  },
  {
   "cell_type": "markdown",
   "metadata": {
    "_cell_guid": "c493ff8f-99bd-4b20-8e68-80b4f85682c9",
    "_uuid": "f4a0c7572916fd1ace3a3b0b7ea9fd9564c96d4d"
   },
   "source": [
    "> **LB----** -"
   ]
  }
 ],
 "metadata": {
  "kernelspec": {
   "display_name": "Python 3",
   "language": "python",
   "name": "python3"
  },
  "language_info": {
   "codemirror_mode": {
    "name": "ipython",
    "version": 3
   },
   "file_extension": ".py",
   "mimetype": "text/x-python",
   "name": "python",
   "nbconvert_exporter": "python",
   "pygments_lexer": "ipython3",
   "version": "3.6.7"
  }
 },
 "nbformat": 4,
 "nbformat_minor": 1
}
