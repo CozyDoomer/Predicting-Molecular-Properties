{
 "cells": [
  {
   "cell_type": "markdown",
   "metadata": {},
   "source": [
    "# Weighted Average example"
   ]
  },
  {
   "cell_type": "markdown",
   "metadata": {},
   "source": [
    "Blending is the best way to explore diversity from models."
   ]
  },
  {
   "cell_type": "code",
   "execution_count": 1,
   "metadata": {
    "_cell_guid": "b1076dfc-b9ad-4769-8c92-a6c4dae69d19",
    "_uuid": "8f2839f25d086af736a60e9eeb907d3b93b6e0e5"
   },
   "outputs": [
    {
     "name": "stdout",
     "output_type": "stream",
     "text": [
      "['blends', 'submission-l2-R.csv', 'submission_cnn.csv', 'submission_per_type.csv', 'submission_per_type_inflated.csv', 'submission_type_important_features.csv', 'submission_type_l1_different_lambda.csv', 'submission_type_l1_without_fc.csv', 'submission_type_l2.csv', 'submission_type_testing.csv']\n"
     ]
    }
   ],
   "source": [
    "import numpy as np # linear algebra\n",
    "import pandas as pd # data processing, CSV file I/O (e.g. pd.read_csv)\n",
    "import os\n",
    "from pathlib import Path\n",
    "print(os.listdir('data/subs'))"
   ]
  },
  {
   "cell_type": "code",
   "execution_count": 2,
   "metadata": {},
   "outputs": [],
   "source": [
    "sub_path = Path('data/subs/')"
   ]
  },
  {
   "cell_type": "markdown",
   "metadata": {},
   "source": [
    "## first try"
   ]
  },
  {
   "cell_type": "code",
   "execution_count": 3,
   "metadata": {},
   "outputs": [
    {
     "name": "stdout",
     "output_type": "stream",
     "text": [
      "count    2.505542e+06\n",
      "mean     1.588510e+01\n",
      "std      3.486513e+01\n",
      "min     -3.155304e+01\n",
      "25%     -2.290635e-01\n",
      "50%      2.276754e+00\n",
      "75%      7.343286e+00\n",
      "max      2.032151e+02\n",
      "Name: scalar_coupling_constant, dtype: float64\n",
      "count    2.505542e+06\n",
      "mean     1.588675e+01\n",
      "std      3.485679e+01\n",
      "min     -3.224456e+01\n",
      "25%     -2.086306e-01\n",
      "50%      2.305326e+00\n",
      "75%      7.255698e+00\n",
      "max      2.032142e+02\n",
      "Name: scalar_coupling_constant, dtype: float64\n",
      "count    2.505542e+06\n",
      "mean     1.587349e+01\n",
      "std      3.482888e+01\n",
      "min     -3.230405e+01\n",
      "25%     -2.472747e-01\n",
      "50%      2.277905e+00\n",
      "75%      7.360947e+00\n",
      "max      2.032168e+02\n",
      "Name: scalar_coupling_constant, dtype: float64\n"
     ]
    }
   ],
   "source": [
    "sub1 = pd.read_csv(sub_path/'submission_type_important_features.csv')\n",
    "sub2 = pd.read_csv(sub_path/'submission-l2-R.csv')\n",
    "sub3 = pd.read_csv(sub_path/'submission_cnn.csv')\n",
    "print(sub1['scalar_coupling_constant'].describe())\n",
    "print(sub2['scalar_coupling_constant'].describe())\n",
    "print(sub3['scalar_coupling_constant'].describe())"
   ]
  },
  {
   "cell_type": "code",
   "execution_count": 24,
   "metadata": {},
   "outputs": [
    {
     "name": "stdout",
     "output_type": "stream",
     "text": [
      "0.3597435773909075\n",
      "0.5313792224301376\n",
      "0.47055922235984465\n"
     ]
    }
   ],
   "source": [
    "#Mean absolute difference\n",
    "print((sub1['scalar_coupling_constant'] - sub2['scalar_coupling_constant']).abs().mean())\n",
    "print((sub2['scalar_coupling_constant'] - sub3['scalar_coupling_constant']).abs().mean())\n",
    "print((sub1['scalar_coupling_constant'] - sub3['scalar_coupling_constant']).abs().mean())"
   ]
  },
  {
   "cell_type": "code",
   "execution_count": 28,
   "metadata": {},
   "outputs": [],
   "source": [
    "#only one better so far: 0.7*sub1 + 0.2*sub2 + 0.1*sub3"
   ]
  },
  {
   "cell_type": "code",
   "execution_count": 27,
   "metadata": {},
   "outputs": [
    {
     "data": {
      "text/plain": [
       "count    2.505542e+06\n",
       "mean     1.588553e+01\n",
       "std      3.485639e+01\n",
       "min     -3.201029e+01\n",
       "25%     -2.069837e-01\n",
       "50%      2.292249e+00\n",
       "75%      7.282941e+00\n",
       "max      2.031252e+02\n",
       "Name: scalar_coupling_constant, dtype: float64"
      ]
     },
     "execution_count": 27,
     "metadata": {},
     "output_type": "execute_result"
    }
   ],
   "source": [
    "sub1['scalar_coupling_constant'] = 0.7*sub1['scalar_coupling_constant'] + 0.2*sub2['scalar_coupling_constant'] + \\\n",
    "                                   0.1*sub3['scalar_coupling_constant']\n",
    "sub1.to_csv(sub_path/'weighted-avg-blend-2.csv', index=False )\n",
    "sub1['scalar_coupling_constant'].describe()"
   ]
  },
  {
   "cell_type": "code",
   "execution_count": null,
   "metadata": {},
   "outputs": [],
   "source": []
  },
  {
   "cell_type": "markdown",
   "metadata": {},
   "source": [
    "## first try, with lightgbm and external submissions"
   ]
  },
  {
   "cell_type": "code",
   "execution_count": 3,
   "metadata": {},
   "outputs": [
    {
     "name": "stdout",
     "output_type": "stream",
     "text": [
      "count    2.505542e+06\n",
      "mean     1.588510e+01\n",
      "std      3.486513e+01\n",
      "min     -3.155304e+01\n",
      "25%     -2.290635e-01\n",
      "50%      2.276754e+00\n",
      "75%      7.343286e+00\n",
      "max      2.032151e+02\n",
      "Name: scalar_coupling_constant, dtype: float64\n",
      "count    2.505542e+06\n",
      "mean     1.588675e+01\n",
      "std      3.485679e+01\n",
      "min     -3.224456e+01\n",
      "25%     -2.086306e-01\n",
      "50%      2.305326e+00\n",
      "75%      7.255698e+00\n",
      "max      2.032142e+02\n",
      "Name: scalar_coupling_constant, dtype: float64\n",
      "count    2.505542e+06\n",
      "mean     1.587349e+01\n",
      "std      3.482888e+01\n",
      "min     -3.230405e+01\n",
      "25%     -2.472747e-01\n",
      "50%      2.277905e+00\n",
      "75%      7.360947e+00\n",
      "max      2.032168e+02\n",
      "Name: scalar_coupling_constant, dtype: float64\n"
     ]
    }
   ],
   "source": [
    "sub1 = pd.read_csv(sub_path/'submission_type_important_features.csv')\n",
    "sub2 = pd.read_csv(sub_path/'submission-l2-R.csv')\n",
    "sub3 = pd.read_csv(sub_path/'submission_cnn.csv')\n",
    "print(sub1['scalar_coupling_constant'].describe())\n",
    "print(sub2['scalar_coupling_constant'].describe())\n",
    "print(sub3['scalar_coupling_constant'].describe())"
   ]
  },
  {
   "cell_type": "code",
   "execution_count": 24,
   "metadata": {},
   "outputs": [
    {
     "name": "stdout",
     "output_type": "stream",
     "text": [
      "0.3597435773909075\n",
      "0.5313792224301376\n",
      "0.47055922235984465\n"
     ]
    }
   ],
   "source": [
    "#Mean absolute difference\n",
    "print((sub1['scalar_coupling_constant'] - sub2['scalar_coupling_constant']).abs().mean())\n",
    "print((sub2['scalar_coupling_constant'] - sub3['scalar_coupling_constant']).abs().mean())\n",
    "print((sub1['scalar_coupling_constant'] - sub3['scalar_coupling_constant']).abs().mean())"
   ]
  },
  {
   "cell_type": "code",
   "execution_count": 28,
   "metadata": {},
   "outputs": [],
   "source": [
    "#only one better so far: 0.7*sub1 + 0.2*sub2 + 0.1*sub3"
   ]
  },
  {
   "cell_type": "code",
   "execution_count": 27,
   "metadata": {},
   "outputs": [
    {
     "data": {
      "text/plain": [
       "count    2.505542e+06\n",
       "mean     1.588553e+01\n",
       "std      3.485639e+01\n",
       "min     -3.201029e+01\n",
       "25%     -2.069837e-01\n",
       "50%      2.292249e+00\n",
       "75%      7.282941e+00\n",
       "max      2.031252e+02\n",
       "Name: scalar_coupling_constant, dtype: float64"
      ]
     },
     "execution_count": 27,
     "metadata": {},
     "output_type": "execute_result"
    }
   ],
   "source": [
    "sub1['scalar_coupling_constant'] = 0.7*sub1['scalar_coupling_constant'] + 0.2*sub2['scalar_coupling_constant'] + \\\n",
    "                                   0.1*sub3['scalar_coupling_constant']\n",
    "sub1.to_csv(sub_path/'weighted-avg-blend-2.csv', index=False )\n",
    "sub1['scalar_coupling_constant'].describe()"
   ]
  },
  {
   "cell_type": "markdown",
   "metadata": {},
   "source": [
    "## second try, with mpnn and lightgbm"
   ]
  },
  {
   "cell_type": "code",
   "execution_count": 133,
   "metadata": {},
   "outputs": [],
   "source": [
    "mpnn_path = Path('graph_cnn/data/submission/zzz/submit')"
   ]
  },
  {
   "cell_type": "code",
   "execution_count": 134,
   "metadata": {},
   "outputs": [
    {
     "name": "stdout",
     "output_type": "stream",
     "text": [
      "count    2.505542e+06\n",
      "mean     1.588668e+01\n",
      "std      3.485453e+01\n",
      "min     -2.778079e+01\n",
      "25%     -2.372454e-01\n",
      "50%      2.301130e+00\n",
      "75%      7.332769e+00\n",
      "max      2.044768e+02\n",
      "Name: scalar_coupling_constant, dtype: float64\n",
      "count    2.505542e+06\n",
      "mean     1.588510e+01\n",
      "std      3.486513e+01\n",
      "min     -3.155304e+01\n",
      "25%     -2.290635e-01\n",
      "50%      2.276754e+00\n",
      "75%      7.343286e+00\n",
      "max      2.032151e+02\n",
      "Name: scalar_coupling_constant, dtype: float64\n"
     ]
    }
   ],
   "source": [
    "sub1 = pd.read_csv(mpnn_path/'submit-00197500_model-larger.csv')\n",
    "sub2 = pd.read_csv(sub_path/'submission_type_important_features.csv')\n",
    "#sub3 = pd.read_csv(sub_path/'weighted-avg-blend-2.csv')\n",
    "print(sub1['scalar_coupling_constant'].describe())\n",
    "print(sub2['scalar_coupling_constant'].describe())\n",
    "#print(sub3['scalar_coupling_constant'].describe())"
   ]
  },
  {
   "cell_type": "code",
   "execution_count": 135,
   "metadata": {},
   "outputs": [],
   "source": [
    "test = pd.read_csv('data/test.csv')"
   ]
  },
  {
   "cell_type": "code",
   "execution_count": 136,
   "metadata": {},
   "outputs": [],
   "source": [
    "#                   '1JHC',  '2JHC',  '3JHC',  '1JHN',  '2JHH',  '3JHH',  '2JHN',  '3JHN'\n",
    "\n",
    "# mpnn          |  -0.702,  -1.431,  -1.122,  -0.648,  -1.683,  -1.761,  -1.625,  -1.467   |\n",
    "# lightgbm      |  -0.3981, -1.2033, -0.9857, -0.9291, -1.7055, -1.5529, -1.6048, -1.8029  |"
   ]
  },
  {
   "cell_type": "code",
   "execution_count": 137,
   "metadata": {},
   "outputs": [],
   "source": [
    "# better type in mpnn: '1JHC', '2JHC', '3JHC', '3JHH', '2JHN'"
   ]
  },
  {
   "cell_type": "code",
   "execution_count": 138,
   "metadata": {},
   "outputs": [],
   "source": [
    "#['1JHC', '2JHC', '3JHC', '1JHN', '2JHH', '3JHH', '2JHN', '3JHN']\n",
    "\n",
    "#[0, 3, 1, 4, 2, 6, 5, 7] original types encoded\n",
    "#[0, 2, 5, 1, 3, 6, 4, 7] correctly sorted encoded"
   ]
  },
  {
   "cell_type": "code",
   "execution_count": 139,
   "metadata": {},
   "outputs": [],
   "source": [
    "type_dict = {'1JHC':0, '2JHC':2, '3JHC':5, '1JHN':1, '2JHH':3, '3JHH':6, '2JHN':4, '3JHN':7}"
   ]
  },
  {
   "cell_type": "code",
   "execution_count": 140,
   "metadata": {},
   "outputs": [],
   "source": [
    "mpnn_types = ['1JHC', '2JHC', '3JHH']"
   ]
  },
  {
   "cell_type": "code",
   "execution_count": 141,
   "metadata": {},
   "outputs": [],
   "source": [
    "sub_final = sub2.copy()"
   ]
  },
  {
   "cell_type": "code",
   "execution_count": 142,
   "metadata": {
    "scrolled": true
   },
   "outputs": [
    {
     "name": "stdout",
     "output_type": "stream",
     "text": [
      "0\n",
      "100000\n",
      "200000\n",
      "300000\n",
      "400000\n",
      "500000\n",
      "600000\n",
      "700000\n",
      "800000\n",
      "900000\n",
      "1000000\n",
      "1100000\n",
      "1200000\n",
      "1300000\n",
      "1400000\n",
      "1500000\n",
      "1600000\n",
      "1700000\n",
      "1800000\n",
      "1900000\n",
      "2000000\n",
      "2100000\n",
      "2200000\n",
      "2300000\n",
      "2400000\n",
      "2500000\n"
     ]
    }
   ],
   "source": [
    "for i in test.index:\n",
    "    if i % 100000 == 0: print(i) \n",
    "    test_type = test.at[i,'type']\n",
    "    if test_type in mpnn_types:\n",
    "        sub_final.at[i,'scalar_coupling_constant'] = sub1.at[i, 'scalar_coupling_constant']"
   ]
  },
  {
   "cell_type": "code",
   "execution_count": 143,
   "metadata": {},
   "outputs": [
    {
     "data": {
      "text/plain": [
       "count    2.505542e+06\n",
       "mean     1.587802e+01\n",
       "std      3.485644e+01\n",
       "min     -2.875114e+01\n",
       "25%     -2.346990e-01\n",
       "50%      2.279296e+00\n",
       "75%      7.345073e+00\n",
       "max      2.044768e+02\n",
       "Name: scalar_coupling_constant, dtype: float64"
      ]
     },
     "execution_count": 143,
     "metadata": {},
     "output_type": "execute_result"
    }
   ],
   "source": [
    "sub_final['scalar_coupling_constant'].describe()"
   ]
  },
  {
   "cell_type": "code",
   "execution_count": 144,
   "metadata": {},
   "outputs": [],
   "source": [
    "sub_final.to_csv(sub_path/'blends/different-models-for-types3.csv', index=False)"
   ]
  },
  {
   "cell_type": "code",
   "execution_count": 42,
   "metadata": {},
   "outputs": [],
   "source": [
    "#sub1['scalar_coupling_constant'] = 0.7*sub1['scalar_coupling_constant'] + 0.2*sub2['scalar_coupling_constant']\n",
    "#sub1.to_csv(sub_path/'weighted-avg-blend-2.csv', index=False)\n",
    "#sub1['scalar_coupling_constant'].describe()"
   ]
  }
 ],
 "metadata": {
  "kernelspec": {
   "display_name": "Python 3",
   "language": "python",
   "name": "python3"
  },
  "language_info": {
   "codemirror_mode": {
    "name": "ipython",
    "version": 3
   },
   "file_extension": ".py",
   "mimetype": "text/x-python",
   "name": "python",
   "nbconvert_exporter": "python",
   "pygments_lexer": "ipython3",
   "version": "3.6.7"
  }
 },
 "nbformat": 4,
 "nbformat_minor": 1
}
