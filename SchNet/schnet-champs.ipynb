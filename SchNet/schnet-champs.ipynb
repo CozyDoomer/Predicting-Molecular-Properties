{
 "cells": [
  {
   "cell_type": "markdown",
   "metadata": {},
   "source": [
    "This kernel presents how to build an ASE database from CHAMPS data and create a dataset, and then uses it for molecular property predictions.\n",
    "\n",
    "First, please see an SchNet tutorial on QM9:\n",
    "\n",
    "[SchNet QM9](https://www.kaggle.com/tonyyy/schnet-qm9)\n",
    "\n",
    "which contains references of the SchNet architecture.\n",
    "\n",
    "This kernel uses only potential energies and dipole moments in CHAMPS data. Mulliken charges and magnetic shielding tensors are used in the following kernels:\n",
    "* [SchNet Mulliken Charges](https://www.kaggle.com/tonyyy/schnet-mulliken-charges)\n",
    "* [SchNet Magnetic Shielding](https://www.kaggle.com/tonyyy/schnet-magnetic-shielding)"
   ]
  },
  {
   "cell_type": "code",
   "execution_count": 1,
   "metadata": {
    "_kg_hide-output": true
   },
   "outputs": [
    {
     "name": "stdout",
     "output_type": "stream",
     "text": [
      "Collecting schnetpack\r\n",
      "\u001b[?25l  Downloading https://files.pythonhosted.org/packages/df/4d/467856b38f9f1686342629ca65ade1c84b0824d7f33e436bead3b08aa38c/schnetpack-0.2.1.tar.gz (52kB)\r\n",
      "\u001b[K     |████████████████████████████████| 61kB 5.1MB/s \r\n",
      "\u001b[?25hRequirement already satisfied: torch>=0.4 in /opt/conda/lib/python3.6/site-packages (from schnetpack) (1.1.0)\r\n",
      "Requirement already satisfied: numpy in /opt/conda/lib/python3.6/site-packages (from schnetpack) (1.16.4)\r\n",
      "Collecting ase>=3.16 (from schnetpack)\r\n",
      "\u001b[?25l  Downloading https://files.pythonhosted.org/packages/a7/af/ea30928def88748d76946c0af0e6a8f9c2d2e65e3d65da527fe80e9ba06e/ase-3.17.0-py3-none-any.whl (1.8MB)\r\n",
      "\u001b[K     |████████████████████████████████| 1.8MB 15.6MB/s \r\n",
      "\u001b[?25hRequirement already satisfied: tensorboardX in /opt/conda/lib/python3.6/site-packages (from schnetpack) (1.7)\r\n",
      "Requirement already satisfied: h5py in /opt/conda/lib/python3.6/site-packages (from schnetpack) (2.9.0)\r\n",
      "Requirement already satisfied: scipy in /opt/conda/lib/python3.6/site-packages (from ase>=3.16->schnetpack) (1.3.0)\r\n",
      "Requirement already satisfied: flask in /opt/conda/lib/python3.6/site-packages (from ase>=3.16->schnetpack) (1.0.3)\r\n",
      "Requirement already satisfied: matplotlib in /opt/conda/lib/python3.6/site-packages (from ase>=3.16->schnetpack) (3.1.0)\r\n",
      "Requirement already satisfied: protobuf>=3.2.0 in /opt/conda/lib/python3.6/site-packages (from tensorboardX->schnetpack) (3.7.1)\r\n",
      "Requirement already satisfied: six in /opt/conda/lib/python3.6/site-packages (from tensorboardX->schnetpack) (1.12.0)\r\n",
      "Requirement already satisfied: click>=5.1 in /opt/conda/lib/python3.6/site-packages (from flask->ase>=3.16->schnetpack) (7.0)\r\n",
      "Requirement already satisfied: Jinja2>=2.10 in /opt/conda/lib/python3.6/site-packages (from flask->ase>=3.16->schnetpack) (2.10.1)\r\n",
      "Requirement already satisfied: Werkzeug>=0.14 in /opt/conda/lib/python3.6/site-packages (from flask->ase>=3.16->schnetpack) (0.15.4)\r\n",
      "Requirement already satisfied: itsdangerous>=0.24 in /opt/conda/lib/python3.6/site-packages (from flask->ase>=3.16->schnetpack) (1.1.0)\r\n",
      "Requirement already satisfied: cycler>=0.10 in /opt/conda/lib/python3.6/site-packages (from matplotlib->ase>=3.16->schnetpack) (0.10.0)\r\n",
      "Requirement already satisfied: python-dateutil>=2.1 in /opt/conda/lib/python3.6/site-packages (from matplotlib->ase>=3.16->schnetpack) (2.8.0)\r\n",
      "Requirement already satisfied: kiwisolver>=1.0.1 in /opt/conda/lib/python3.6/site-packages (from matplotlib->ase>=3.16->schnetpack) (1.1.0)\r\n",
      "Requirement already satisfied: pyparsing!=2.0.4,!=2.1.2,!=2.1.6,>=2.0.1 in /opt/conda/lib/python3.6/site-packages (from matplotlib->ase>=3.16->schnetpack) (2.4.0)\r\n",
      "Requirement already satisfied: setuptools in /opt/conda/lib/python3.6/site-packages (from protobuf>=3.2.0->tensorboardX->schnetpack) (41.0.1)\r\n",
      "Requirement already satisfied: MarkupSafe>=0.23 in /opt/conda/lib/python3.6/site-packages (from Jinja2>=2.10->flask->ase>=3.16->schnetpack) (1.1.1)\r\n",
      "Building wheels for collected packages: schnetpack\r\n",
      "  Building wheel for schnetpack (setup.py) ... \u001b[?25l-\b \b\\\b \bdone\r\n",
      "\u001b[?25h  Stored in directory: /tmp/.cache/pip/wheels/4e/28/d3/1748daf79d0a526f1a2de70e9a3abcdb50eb01b45eeec4b786\r\n",
      "Successfully built schnetpack\r\n",
      "Installing collected packages: ase, schnetpack\r\n",
      "Successfully installed ase-3.17.0 schnetpack-0.2.1\r\n"
     ]
    }
   ],
   "source": [
    "!pip install schnetpack"
   ]
  },
  {
   "cell_type": "code",
   "execution_count": 2,
   "metadata": {
    "_kg_hide-input": true
   },
   "outputs": [
    {
     "name": "stdout",
     "output_type": "stream",
     "text": [
      "dipole_moments.csv\t\tsample_submission.csv\t\t   test.csv\r\n",
      "magnetic_shielding_tensors.csv\tscalar_coupling_contributions.csv  train.csv\r\n",
      "mulliken_charges.csv\t\tstructures\r\n",
      "potential_energy.csv\t\tstructures.csv\r\n"
     ]
    }
   ],
   "source": [
    "!ls ../input"
   ]
  },
  {
   "cell_type": "markdown",
   "metadata": {},
   "source": [
    "# CHAMPS data"
   ]
  },
  {
   "cell_type": "code",
   "execution_count": 3,
   "metadata": {},
   "outputs": [],
   "source": [
    "import numpy as np\n",
    "import pandas as pd\n",
    "molecules = pd.read_csv('../input/structures.csv')\n",
    "molecules = molecules.groupby('molecule_name')\n",
    "energies = pd.read_csv('../input/potential_energy.csv')\n",
    "dipoles = pd.read_csv('../input/dipole_moments.csv')\n",
    "dipoles['scalar'] = np.sqrt(np.square(dipoles[['X', 'Y', 'Z']]).sum(axis=1))"
   ]
  },
  {
   "cell_type": "markdown",
   "metadata": {},
   "source": [
    "The total number of molecules:"
   ]
  },
  {
   "cell_type": "code",
   "execution_count": 4,
   "metadata": {},
   "outputs": [
    {
     "data": {
      "text/plain": [
       "130775"
      ]
     },
     "execution_count": 4,
     "metadata": {},
     "output_type": "execute_result"
    }
   ],
   "source": [
    "molecules.ngroups"
   ]
  },
  {
   "cell_type": "markdown",
   "metadata": {},
   "source": [
    "### Potential Energy"
   ]
  },
  {
   "cell_type": "code",
   "execution_count": 5,
   "metadata": {},
   "outputs": [
    {
     "data": {
      "text/html": [
       "<div>\n",
       "<style scoped>\n",
       "    .dataframe tbody tr th:only-of-type {\n",
       "        vertical-align: middle;\n",
       "    }\n",
       "\n",
       "    .dataframe tbody tr th {\n",
       "        vertical-align: top;\n",
       "    }\n",
       "\n",
       "    .dataframe thead th {\n",
       "        text-align: right;\n",
       "    }\n",
       "</style>\n",
       "<table border=\"1\" class=\"dataframe\">\n",
       "  <thead>\n",
       "    <tr style=\"text-align: right;\">\n",
       "      <th></th>\n",
       "      <th>molecule_name</th>\n",
       "      <th>potential_energy</th>\n",
       "    </tr>\n",
       "  </thead>\n",
       "  <tbody>\n",
       "    <tr>\n",
       "      <th>0</th>\n",
       "      <td>dsgdb9nsd_000001</td>\n",
       "      <td>-40.52368</td>\n",
       "    </tr>\n",
       "    <tr>\n",
       "      <th>1</th>\n",
       "      <td>dsgdb9nsd_000002</td>\n",
       "      <td>-56.56025</td>\n",
       "    </tr>\n",
       "    <tr>\n",
       "      <th>2</th>\n",
       "      <td>dsgdb9nsd_000003</td>\n",
       "      <td>-76.42608</td>\n",
       "    </tr>\n",
       "    <tr>\n",
       "      <th>3</th>\n",
       "      <td>dsgdb9nsd_000005</td>\n",
       "      <td>-93.42849</td>\n",
       "    </tr>\n",
       "    <tr>\n",
       "      <th>4</th>\n",
       "      <td>dsgdb9nsd_000007</td>\n",
       "      <td>-79.83869</td>\n",
       "    </tr>\n",
       "  </tbody>\n",
       "</table>\n",
       "</div>"
      ],
      "text/plain": [
       "      molecule_name  potential_energy\n",
       "0  dsgdb9nsd_000001         -40.52368\n",
       "1  dsgdb9nsd_000002         -56.56025\n",
       "2  dsgdb9nsd_000003         -76.42608\n",
       "3  dsgdb9nsd_000005         -93.42849\n",
       "4  dsgdb9nsd_000007         -79.83869"
      ]
     },
     "execution_count": 5,
     "metadata": {},
     "output_type": "execute_result"
    }
   ],
   "source": [
    "energies.head()"
   ]
  },
  {
   "cell_type": "code",
   "execution_count": 6,
   "metadata": {},
   "outputs": [
    {
     "data": {
      "text/plain": [
       "85003"
      ]
     },
     "execution_count": 6,
     "metadata": {},
     "output_type": "execute_result"
    }
   ],
   "source": [
    "len(energies)"
   ]
  },
  {
   "cell_type": "code",
   "execution_count": 7,
   "metadata": {},
   "outputs": [
    {
     "data": {
      "text/plain": [
       "count    85003.000000\n",
       "mean      -410.874055\n",
       "std         39.828871\n",
       "min       -714.626200\n",
       "25%       -438.000750\n",
       "50%       -416.921700\n",
       "75%       -387.218950\n",
       "max        -40.523680\n",
       "Name: potential_energy, dtype: float64"
      ]
     },
     "execution_count": 7,
     "metadata": {},
     "output_type": "execute_result"
    }
   ],
   "source": [
    "energy_series = pd.Series(energies.set_index('molecule_name')['potential_energy'])\n",
    "energy_series.describe()"
   ]
  },
  {
   "cell_type": "code",
   "execution_count": 8,
   "metadata": {},
   "outputs": [
    {
     "data": {
      "image/png": "[encoded data removed]",
      "text/plain": [
       "<Figure size 432x288 with 1 Axes>"
      ]
     },
     "metadata": {
      "needs_background": "light"
     },
     "output_type": "display_data"
    }
   ],
   "source": [
    "ax = energy_series.hist(bins=50)\n",
    "_ = ax.set_xlabel(\"Potential Energy\")"
   ]
  },
  {
   "cell_type": "markdown",
   "metadata": {},
   "source": [
    "### Dipole Moment"
   ]
  },
  {
   "cell_type": "code",
   "execution_count": 9,
   "metadata": {},
   "outputs": [
    {
     "data": {
      "text/html": [
       "<div>\n",
       "<style scoped>\n",
       "    .dataframe tbody tr th:only-of-type {\n",
       "        vertical-align: middle;\n",
       "    }\n",
       "\n",
       "    .dataframe tbody tr th {\n",
       "        vertical-align: top;\n",
       "    }\n",
       "\n",
       "    .dataframe thead th {\n",
       "        text-align: right;\n",
       "    }\n",
       "</style>\n",
       "<table border=\"1\" class=\"dataframe\">\n",
       "  <thead>\n",
       "    <tr style=\"text-align: right;\">\n",
       "      <th></th>\n",
       "      <th>molecule_name</th>\n",
       "      <th>X</th>\n",
       "      <th>Y</th>\n",
       "      <th>Z</th>\n",
       "      <th>scalar</th>\n",
       "    </tr>\n",
       "  </thead>\n",
       "  <tbody>\n",
       "    <tr>\n",
       "      <th>0</th>\n",
       "      <td>dsgdb9nsd_000001</td>\n",
       "      <td>0.0000</td>\n",
       "      <td>0.0</td>\n",
       "      <td>0.0000</td>\n",
       "      <td>0.0000</td>\n",
       "    </tr>\n",
       "    <tr>\n",
       "      <th>1</th>\n",
       "      <td>dsgdb9nsd_000002</td>\n",
       "      <td>-0.0002</td>\n",
       "      <td>0.0</td>\n",
       "      <td>1.6256</td>\n",
       "      <td>1.6256</td>\n",
       "    </tr>\n",
       "    <tr>\n",
       "      <th>2</th>\n",
       "      <td>dsgdb9nsd_000003</td>\n",
       "      <td>0.0000</td>\n",
       "      <td>0.0</td>\n",
       "      <td>-1.8511</td>\n",
       "      <td>1.8511</td>\n",
       "    </tr>\n",
       "    <tr>\n",
       "      <th>3</th>\n",
       "      <td>dsgdb9nsd_000005</td>\n",
       "      <td>0.0000</td>\n",
       "      <td>0.0</td>\n",
       "      <td>-2.8937</td>\n",
       "      <td>2.8937</td>\n",
       "    </tr>\n",
       "    <tr>\n",
       "      <th>4</th>\n",
       "      <td>dsgdb9nsd_000007</td>\n",
       "      <td>0.0000</td>\n",
       "      <td>0.0</td>\n",
       "      <td>0.0000</td>\n",
       "      <td>0.0000</td>\n",
       "    </tr>\n",
       "  </tbody>\n",
       "</table>\n",
       "</div>"
      ],
      "text/plain": [
       "      molecule_name       X    Y       Z  scalar\n",
       "0  dsgdb9nsd_000001  0.0000  0.0  0.0000  0.0000\n",
       "1  dsgdb9nsd_000002 -0.0002  0.0  1.6256  1.6256\n",
       "2  dsgdb9nsd_000003  0.0000  0.0 -1.8511  1.8511\n",
       "3  dsgdb9nsd_000005  0.0000  0.0 -2.8937  2.8937\n",
       "4  dsgdb9nsd_000007  0.0000  0.0  0.0000  0.0000"
      ]
     },
     "execution_count": 9,
     "metadata": {},
     "output_type": "execute_result"
    }
   ],
   "source": [
    "dipoles.head()"
   ]
  },
  {
   "cell_type": "code",
   "execution_count": 10,
   "metadata": {},
   "outputs": [
    {
     "data": {
      "text/plain": [
       "85003"
      ]
     },
     "execution_count": 10,
     "metadata": {},
     "output_type": "execute_result"
    }
   ],
   "source": [
    "len(dipoles)"
   ]
  },
  {
   "cell_type": "code",
   "execution_count": 11,
   "metadata": {},
   "outputs": [
    {
     "data": {
      "text/plain": [
       "count    85003.000000\n",
       "mean         2.672361\n",
       "std          1.492801\n",
       "min          0.000000\n",
       "25%          1.581295\n",
       "50%          2.474998\n",
       "75%          3.600646\n",
       "max         22.960504\n",
       "Name: scalar, dtype: float64"
      ]
     },
     "execution_count": 11,
     "metadata": {},
     "output_type": "execute_result"
    }
   ],
   "source": [
    "dipole_series = pd.Series(dipoles.set_index('molecule_name')['scalar'])\n",
    "dipole_series.describe()"
   ]
  },
  {
   "cell_type": "code",
   "execution_count": 12,
   "metadata": {},
   "outputs": [
    {
     "data": {
      "image/png": "[encoded data removed]",
      "text/plain": [
       "<Figure size 432x288 with 1 Axes>"
      ]
     },
     "metadata": {
      "needs_background": "light"
     },
     "output_type": "display_data"
    }
   ],
   "source": [
    "ax = dipole_series.hist(bins=50)\n",
    "_ = ax.set_xlabel(\"Dipole Moment\")"
   ]
  },
  {
   "cell_type": "markdown",
   "metadata": {},
   "source": [
    "# ASE Database\n",
    "\n",
    "A dataset object used in SchNetPack is built on an ASE database. Please see the document of the ASE database:\n",
    "\n",
    "https://wiki.fysik.dtu.dk/ase/ase/db/db.html"
   ]
  },
  {
   "cell_type": "code",
   "execution_count": 13,
   "metadata": {},
   "outputs": [
    {
     "data": {
      "text/html": [
       "<div>\n",
       "<style scoped>\n",
       "    .dataframe tbody tr th:only-of-type {\n",
       "        vertical-align: middle;\n",
       "    }\n",
       "\n",
       "    .dataframe tbody tr th {\n",
       "        vertical-align: top;\n",
       "    }\n",
       "\n",
       "    .dataframe thead th {\n",
       "        text-align: right;\n",
       "    }\n",
       "</style>\n",
       "<table border=\"1\" class=\"dataframe\">\n",
       "  <thead>\n",
       "    <tr style=\"text-align: right;\">\n",
       "      <th></th>\n",
       "      <th>id</th>\n",
       "      <th>molecule_name</th>\n",
       "      <th>atom_index_0</th>\n",
       "      <th>atom_index_1</th>\n",
       "      <th>type</th>\n",
       "      <th>scalar_coupling_constant</th>\n",
       "    </tr>\n",
       "  </thead>\n",
       "  <tbody>\n",
       "    <tr>\n",
       "      <th>0</th>\n",
       "      <td>0</td>\n",
       "      <td>dsgdb9nsd_000001</td>\n",
       "      <td>1</td>\n",
       "      <td>0</td>\n",
       "      <td>1JHC</td>\n",
       "      <td>84.8076</td>\n",
       "    </tr>\n",
       "    <tr>\n",
       "      <th>1</th>\n",
       "      <td>1</td>\n",
       "      <td>dsgdb9nsd_000001</td>\n",
       "      <td>1</td>\n",
       "      <td>2</td>\n",
       "      <td>2JHH</td>\n",
       "      <td>-11.2570</td>\n",
       "    </tr>\n",
       "    <tr>\n",
       "      <th>2</th>\n",
       "      <td>2</td>\n",
       "      <td>dsgdb9nsd_000001</td>\n",
       "      <td>1</td>\n",
       "      <td>3</td>\n",
       "      <td>2JHH</td>\n",
       "      <td>-11.2548</td>\n",
       "    </tr>\n",
       "    <tr>\n",
       "      <th>3</th>\n",
       "      <td>3</td>\n",
       "      <td>dsgdb9nsd_000001</td>\n",
       "      <td>1</td>\n",
       "      <td>4</td>\n",
       "      <td>2JHH</td>\n",
       "      <td>-11.2543</td>\n",
       "    </tr>\n",
       "    <tr>\n",
       "      <th>4</th>\n",
       "      <td>4</td>\n",
       "      <td>dsgdb9nsd_000001</td>\n",
       "      <td>2</td>\n",
       "      <td>0</td>\n",
       "      <td>1JHC</td>\n",
       "      <td>84.8074</td>\n",
       "    </tr>\n",
       "  </tbody>\n",
       "</table>\n",
       "</div>"
      ],
      "text/plain": [
       "   id           ...            scalar_coupling_constant\n",
       "0   0           ...                             84.8076\n",
       "1   1           ...                            -11.2570\n",
       "2   2           ...                            -11.2548\n",
       "3   3           ...                            -11.2543\n",
       "4   4           ...                             84.8074\n",
       "\n",
       "[5 rows x 6 columns]"
      ]
     },
     "execution_count": 13,
     "metadata": {},
     "output_type": "execute_result"
    }
   ],
   "source": [
    "train = pd.read_csv('../input/train.csv')\n",
    "train.head()"
   ]
  },
  {
   "cell_type": "code",
   "execution_count": 14,
   "metadata": {},
   "outputs": [
    {
     "data": {
      "text/plain": [
       "85003"
      ]
     },
     "execution_count": 14,
     "metadata": {},
     "output_type": "execute_result"
    }
   ],
   "source": [
    "train_molecule_names = train.molecule_name.unique()\n",
    "len(train_molecule_names)"
   ]
  },
  {
   "cell_type": "code",
   "execution_count": 15,
   "metadata": {
    "_cell_guid": "79c7e3d0-c299-4dcb-8224-4455121ee9b0",
    "_uuid": "d629ff2d2480ee46fbb7e2d37f6b5fab8052498a"
   },
   "outputs": [],
   "source": [
    "from ase import Atoms\n",
    "from ase.db import connect\n",
    "\n",
    "def create_db(db_path, molecule_names):\n",
    "    with connect(db_path) as db:\n",
    "        for name in molecule_names:\n",
    "            mol = molecules.get_group(name)\n",
    "            atoms = Atoms(symbols=mol.atom.values,\n",
    "                          positions=[(row.x,row.y,row.z) for row in mol.itertuples()])\n",
    "            db.write(atoms, name=name,\n",
    "                     potential_energy=energy_series.get(name, default=float('nan')),\n",
    "                     scalar_dipole=dipole_series.get(name, default=float('nan'))\n",
    "                    )"
   ]
  },
  {
   "cell_type": "code",
   "execution_count": 16,
   "metadata": {},
   "outputs": [],
   "source": [
    "champs_path = 'CHAMPS_train.db'\n",
    "dataset_size = len(train_molecule_names) # 20000\n",
    "dataset_molecule_names = train_molecule_names[:dataset_size]\n",
    "create_db(db_path=champs_path, molecule_names=dataset_molecule_names)"
   ]
  },
  {
   "cell_type": "code",
   "execution_count": 17,
   "metadata": {},
   "outputs": [
    {
     "name": "stdout",
     "output_type": "stream",
     "text": [
      "85003\n"
     ]
    }
   ],
   "source": [
    "with connect(champs_path) as db:\n",
    "    print(len(db))"
   ]
  },
  {
   "cell_type": "code",
   "execution_count": 18,
   "metadata": {},
   "outputs": [],
   "source": [
    "import schnetpack\n",
    "\n",
    "properties=['potential_energy', 'scalar_dipole']\n",
    "\n",
    "dataset = dict()\n",
    "for p in properties:\n",
    "    dataset[p] = schnetpack.data.AtomsData(champs_path, properties=[p])"
   ]
  },
  {
   "cell_type": "code",
   "execution_count": 19,
   "metadata": {},
   "outputs": [
    {
     "name": "stdout",
     "output_type": "stream",
     "text": [
      "potential_energy 85003\n",
      "scalar_dipole 85003\n"
     ]
    }
   ],
   "source": [
    "for p in properties:\n",
    "    print(p, len(dataset[p]))"
   ]
  },
  {
   "cell_type": "markdown",
   "metadata": {},
   "source": [
    "# SchNet Model\n",
    "\n",
    "Please see the SchNetPack API document:\n",
    "\n",
    "https://schnetpack.readthedocs.io/en/stable/modules/index.html"
   ]
  },
  {
   "cell_type": "code",
   "execution_count": 20,
   "metadata": {},
   "outputs": [],
   "source": [
    "import pandas as pd\n",
    "\n",
    "import torch\n",
    "import torch.nn.functional as F\n",
    "from torch.optim import Adam\n",
    "\n",
    "import schnetpack as spk\n",
    "import schnetpack.atomistic as atm\n",
    "import schnetpack.representation as rep\n",
    "from schnetpack.datasets import *\n",
    "\n",
    "device = torch.device(\"cuda\")"
   ]
  },
  {
   "cell_type": "code",
   "execution_count": 21,
   "metadata": {},
   "outputs": [],
   "source": [
    "# This function comes from the following script:\n",
    "# https://github.com/atomistic-machine-learning/schnetpack/blob/v0.2.1/src/scripts/schnetpack_qm9.py\n",
    "def evaluate_dataset(metrics, model, loader, device):\n",
    "    for metric in metrics:\n",
    "        metric.reset()\n",
    "\n",
    "    with torch.no_grad():\n",
    "        for batch in loader:\n",
    "            batch = {\n",
    "                k: v.to(device)\n",
    "                for k, v in batch.items()\n",
    "            }\n",
    "            result = model(batch)\n",
    "\n",
    "            for metric in metrics:\n",
    "                metric.add_batch(batch, result)\n",
    "\n",
    "    results = [\n",
    "        metric.aggregate() for metric in metrics\n",
    "    ]\n",
    "    return results"
   ]
  },
  {
   "cell_type": "code",
   "execution_count": 22,
   "metadata": {},
   "outputs": [],
   "source": [
    "def schnet_model(property):\n",
    "    reps = rep.SchNet(n_interactions=6)\n",
    "    if 'dipole' in property:\n",
    "        print('use dipole moment')\n",
    "        output = atm.DipoleMoment(n_in=128, predict_magnitude=True)\n",
    "    else:\n",
    "        output = atm.Atomwise()\n",
    "    model = atm.AtomisticModel(reps, output)\n",
    "    model = model.to(device)\n",
    "    \n",
    "    return model"
   ]
  },
  {
   "cell_type": "code",
   "execution_count": 23,
   "metadata": {},
   "outputs": [],
   "source": [
    "def train_model(property, max_epochs=500):\n",
    "    # split in train and val\n",
    "    n_dataset = len(dataset[property])\n",
    "    n_val = n_dataset // 10\n",
    "    train_data, val_data, test_data = dataset[property].create_splits(n_dataset-n_val*2, n_val)\n",
    "    train_loader = spk.data.AtomsLoader(train_data, batch_size=128, num_workers=2)\n",
    "    val_loader = spk.data.AtomsLoader(val_data, batch_size=256, num_workers=2)\n",
    "\n",
    "    # create model\n",
    "    model = schnet_model(property)\n",
    "\n",
    "    # create trainer\n",
    "    opt = Adam(model.parameters(), lr=2e-4, weight_decay=1e-6)\n",
    "    loss = lambda b, p: F.mse_loss(p[\"y\"], b[property])\n",
    "    metrics = [\n",
    "        spk.metrics.MeanAbsoluteError(property, \"y\"),\n",
    "        spk.metrics.RootMeanSquaredError(property, \"y\"),\n",
    "    ]\n",
    "    hooks = [\n",
    "        spk.train.MaxEpochHook(max_epochs),\n",
    "        spk.train.CSVHook(property+'/log', metrics, every_n_epochs=1),\n",
    "    ]\n",
    "    trainer = spk.train.Trainer(property+'/output', model, loss,\n",
    "                            opt, train_loader, val_loader, hooks=hooks)\n",
    "\n",
    "    # start training\n",
    "    trainer.train(device)\n",
    "    \n",
    "    # evaluation\n",
    "    model.load_state_dict(torch.load(property+'/output/best_model'))\n",
    "    test_loader = spk.data.AtomsLoader(test_data, batch_size=256, num_workers=2)\n",
    "    model.eval()\n",
    "\n",
    "    df = pd.DataFrame()\n",
    "    df['metric'] = ['MAE', 'RMSE']\n",
    "    df['training'] = evaluate_dataset(metrics, model, train_loader, device)\n",
    "    df['validation'] = evaluate_dataset(metrics, model, val_loader, device)\n",
    "    df['test'] = evaluate_dataset(metrics, model, test_loader, device)\n",
    "    display(df)\n",
    "    \n",
    "    return test_data"
   ]
  },
  {
   "cell_type": "code",
   "execution_count": 24,
   "metadata": {},
   "outputs": [],
   "source": [
    "def show_history(property):\n",
    "    df = pd.read_csv(property+'/log/log.csv')\n",
    "    display(df.tail())\n",
    "    max_value = None # df['RMSE_'+property].min()*5\n",
    "    _ = df[['MAE_'+property,'RMSE_'+property]].plot(ylim=(0,max_value))"
   ]
  },
  {
   "cell_type": "code",
   "execution_count": 25,
   "metadata": {},
   "outputs": [],
   "source": [
    "def test_prediction(dataset, property):\n",
    "    # create model\n",
    "    model = schnet_model(property)\n",
    "    \n",
    "    # load the best parameters\n",
    "    model.load_state_dict(torch.load(property+'/output/best_model'))\n",
    "    loader = spk.data.AtomsLoader(dataset, batch_size=256, num_workers=2)\n",
    "    model.eval()\n",
    "    \n",
    "    # predict molecular properties\n",
    "    targets = []\n",
    "    predictions = []\n",
    "    with torch.no_grad():\n",
    "        for batch in loader:\n",
    "            batch = {\n",
    "                k: v.to(device)\n",
    "                for k, v in batch.items()\n",
    "            }\n",
    "            result = model(batch)\n",
    "            targets += batch[property].squeeze().tolist()\n",
    "            predictions += result['y'].squeeze().tolist()\n",
    "    return targets, predictions"
   ]
  },
  {
   "cell_type": "code",
   "execution_count": 26,
   "metadata": {},
   "outputs": [],
   "source": [
    "def show_predictions(dataset, property):\n",
    "    targets, predictions = test_prediction(dataset, property)\n",
    "    df_pred = pd.DataFrame()\n",
    "    df_pred['Target'] = targets\n",
    "    df_pred['Prediction'] = predictions\n",
    "    df_pred.plot.scatter(x='Target', y='Prediction', title=property)"
   ]
  },
  {
   "cell_type": "markdown",
   "metadata": {},
   "source": [
    "# Results"
   ]
  },
  {
   "cell_type": "code",
   "execution_count": 27,
   "metadata": {},
   "outputs": [
    {
     "name": "stdout",
     "output_type": "stream",
     "text": [
      "potential_energy\n"
     ]
    },
    {
     "data": {
      "text/html": [
       "<div>\n",
       "<style scoped>\n",
       "    .dataframe tbody tr th:only-of-type {\n",
       "        vertical-align: middle;\n",
       "    }\n",
       "\n",
       "    .dataframe tbody tr th {\n",
       "        vertical-align: top;\n",
       "    }\n",
       "\n",
       "    .dataframe thead th {\n",
       "        text-align: right;\n",
       "    }\n",
       "</style>\n",
       "<table border=\"1\" class=\"dataframe\">\n",
       "  <thead>\n",
       "    <tr style=\"text-align: right;\">\n",
       "      <th></th>\n",
       "      <th>metric</th>\n",
       "      <th>training</th>\n",
       "      <th>validation</th>\n",
       "      <th>test</th>\n",
       "    </tr>\n",
       "  </thead>\n",
       "  <tbody>\n",
       "    <tr>\n",
       "      <th>0</th>\n",
       "      <td>MAE</td>\n",
       "      <td>0.108276</td>\n",
       "      <td>0.108030</td>\n",
       "      <td>0.110248</td>\n",
       "    </tr>\n",
       "    <tr>\n",
       "      <th>1</th>\n",
       "      <td>RMSE</td>\n",
       "      <td>0.156052</td>\n",
       "      <td>0.154651</td>\n",
       "      <td>0.203153</td>\n",
       "    </tr>\n",
       "  </tbody>\n",
       "</table>\n",
       "</div>"
      ],
      "text/plain": [
       "  metric  training  validation      test\n",
       "0    MAE  0.108276    0.108030  0.110248\n",
       "1   RMSE  0.156052    0.154651  0.203153"
      ]
     },
     "metadata": {},
     "output_type": "display_data"
    },
    {
     "data": {
      "text/html": [
       "<div>\n",
       "<style scoped>\n",
       "    .dataframe tbody tr th:only-of-type {\n",
       "        vertical-align: middle;\n",
       "    }\n",
       "\n",
       "    .dataframe tbody tr th {\n",
       "        vertical-align: top;\n",
       "    }\n",
       "\n",
       "    .dataframe thead th {\n",
       "        text-align: right;\n",
       "    }\n",
       "</style>\n",
       "<table border=\"1\" class=\"dataframe\">\n",
       "  <thead>\n",
       "    <tr style=\"text-align: right;\">\n",
       "      <th></th>\n",
       "      <th>Time</th>\n",
       "      <th>Learning rate</th>\n",
       "      <th>Train loss</th>\n",
       "      <th>Validation loss</th>\n",
       "      <th>MAE_potential_energy</th>\n",
       "      <th>RMSE_potential_energy</th>\n",
       "    </tr>\n",
       "  </thead>\n",
       "  <tbody>\n",
       "    <tr>\n",
       "      <th>95</th>\n",
       "      <td>10826.145489</td>\n",
       "      <td>0.0002</td>\n",
       "      <td>325.225906</td>\n",
       "      <td>0.035993</td>\n",
       "      <td>0.139643</td>\n",
       "      <td>0.189719</td>\n",
       "    </tr>\n",
       "    <tr>\n",
       "      <th>96</th>\n",
       "      <td>10941.673172</td>\n",
       "      <td>0.0002</td>\n",
       "      <td>86.791151</td>\n",
       "      <td>0.081091</td>\n",
       "      <td>0.251176</td>\n",
       "      <td>0.284765</td>\n",
       "    </tr>\n",
       "    <tr>\n",
       "      <th>97</th>\n",
       "      <td>11057.247860</td>\n",
       "      <td>0.0002</td>\n",
       "      <td>142.982768</td>\n",
       "      <td>2.050616</td>\n",
       "      <td>1.211110</td>\n",
       "      <td>1.431997</td>\n",
       "    </tr>\n",
       "    <tr>\n",
       "      <th>98</th>\n",
       "      <td>11173.105372</td>\n",
       "      <td>0.0002</td>\n",
       "      <td>191.592895</td>\n",
       "      <td>0.509969</td>\n",
       "      <td>0.601874</td>\n",
       "      <td>0.714121</td>\n",
       "    </tr>\n",
       "    <tr>\n",
       "      <th>99</th>\n",
       "      <td>11289.696398</td>\n",
       "      <td>0.0002</td>\n",
       "      <td>211.111011</td>\n",
       "      <td>0.132101</td>\n",
       "      <td>0.308596</td>\n",
       "      <td>0.363457</td>\n",
       "    </tr>\n",
       "  </tbody>\n",
       "</table>\n",
       "</div>"
      ],
      "text/plain": [
       "            Time          ...            RMSE_potential_energy\n",
       "95  10826.145489          ...                         0.189719\n",
       "96  10941.673172          ...                         0.284765\n",
       "97  11057.247860          ...                         1.431997\n",
       "98  11173.105372          ...                         0.714121\n",
       "99  11289.696398          ...                         0.363457\n",
       "\n",
       "[5 rows x 6 columns]"
      ]
     },
     "metadata": {},
     "output_type": "display_data"
    },
    {
     "name": "stdout",
     "output_type": "stream",
     "text": [
      "scalar_dipole\n",
      "use dipole moment\n"
     ]
    },
    {
     "data": {
      "text/html": [
       "<div>\n",
       "<style scoped>\n",
       "    .dataframe tbody tr th:only-of-type {\n",
       "        vertical-align: middle;\n",
       "    }\n",
       "\n",
       "    .dataframe tbody tr th {\n",
       "        vertical-align: top;\n",
       "    }\n",
       "\n",
       "    .dataframe thead th {\n",
       "        text-align: right;\n",
       "    }\n",
       "</style>\n",
       "<table border=\"1\" class=\"dataframe\">\n",
       "  <thead>\n",
       "    <tr style=\"text-align: right;\">\n",
       "      <th></th>\n",
       "      <th>metric</th>\n",
       "      <th>training</th>\n",
       "      <th>validation</th>\n",
       "      <th>test</th>\n",
       "    </tr>\n",
       "  </thead>\n",
       "  <tbody>\n",
       "    <tr>\n",
       "      <th>0</th>\n",
       "      <td>MAE</td>\n",
       "      <td>0.045937</td>\n",
       "      <td>0.056131</td>\n",
       "      <td>0.055776</td>\n",
       "    </tr>\n",
       "    <tr>\n",
       "      <th>1</th>\n",
       "      <td>RMSE</td>\n",
       "      <td>0.063371</td>\n",
       "      <td>0.091292</td>\n",
       "      <td>0.085729</td>\n",
       "    </tr>\n",
       "  </tbody>\n",
       "</table>\n",
       "</div>"
      ],
      "text/plain": [
       "  metric  training  validation      test\n",
       "0    MAE  0.045937    0.056131  0.055776\n",
       "1   RMSE  0.063371    0.091292  0.085729"
      ]
     },
     "metadata": {},
     "output_type": "display_data"
    },
    {
     "data": {
      "text/html": [
       "<div>\n",
       "<style scoped>\n",
       "    .dataframe tbody tr th:only-of-type {\n",
       "        vertical-align: middle;\n",
       "    }\n",
       "\n",
       "    .dataframe tbody tr th {\n",
       "        vertical-align: top;\n",
       "    }\n",
       "\n",
       "    .dataframe thead th {\n",
       "        text-align: right;\n",
       "    }\n",
       "</style>\n",
       "<table border=\"1\" class=\"dataframe\">\n",
       "  <thead>\n",
       "    <tr style=\"text-align: right;\">\n",
       "      <th></th>\n",
       "      <th>Time</th>\n",
       "      <th>Learning rate</th>\n",
       "      <th>Train loss</th>\n",
       "      <th>Validation loss</th>\n",
       "      <th>MAE_scalar_dipole</th>\n",
       "      <th>RMSE_scalar_dipole</th>\n",
       "    </tr>\n",
       "  </thead>\n",
       "  <tbody>\n",
       "    <tr>\n",
       "      <th>95</th>\n",
       "      <td>10222.832104</td>\n",
       "      <td>0.0002</td>\n",
       "      <td>3.277130</td>\n",
       "      <td>0.009312</td>\n",
       "      <td>0.057885</td>\n",
       "      <td>0.096498</td>\n",
       "    </tr>\n",
       "    <tr>\n",
       "      <th>96</th>\n",
       "      <td>10323.589116</td>\n",
       "      <td>0.0002</td>\n",
       "      <td>2.610765</td>\n",
       "      <td>0.008959</td>\n",
       "      <td>0.060342</td>\n",
       "      <td>0.094650</td>\n",
       "    </tr>\n",
       "    <tr>\n",
       "      <th>97</th>\n",
       "      <td>10424.347646</td>\n",
       "      <td>0.0002</td>\n",
       "      <td>3.306240</td>\n",
       "      <td>0.008862</td>\n",
       "      <td>0.057782</td>\n",
       "      <td>0.094139</td>\n",
       "    </tr>\n",
       "    <tr>\n",
       "      <th>98</th>\n",
       "      <td>10525.306760</td>\n",
       "      <td>0.0002</td>\n",
       "      <td>2.562179</td>\n",
       "      <td>0.009329</td>\n",
       "      <td>0.057540</td>\n",
       "      <td>0.096588</td>\n",
       "    </tr>\n",
       "    <tr>\n",
       "      <th>99</th>\n",
       "      <td>10626.811887</td>\n",
       "      <td>0.0002</td>\n",
       "      <td>4.514397</td>\n",
       "      <td>0.008334</td>\n",
       "      <td>0.056131</td>\n",
       "      <td>0.091292</td>\n",
       "    </tr>\n",
       "  </tbody>\n",
       "</table>\n",
       "</div>"
      ],
      "text/plain": [
       "            Time         ...          RMSE_scalar_dipole\n",
       "95  10222.832104         ...                    0.096498\n",
       "96  10323.589116         ...                    0.094650\n",
       "97  10424.347646         ...                    0.094139\n",
       "98  10525.306760         ...                    0.096588\n",
       "99  10626.811887         ...                    0.091292\n",
       "\n",
       "[5 rows x 6 columns]"
      ]
     },
     "metadata": {},
     "output_type": "display_data"
    },
    {
     "data": {
      "image/png": "[encoded data removed]",
      "text/plain": [
       "<Figure size 432x288 with 1 Axes>"
      ]
     },
     "metadata": {
      "needs_background": "light"
     },
     "output_type": "display_data"
    },
    {
     "data": {
      "image/png": "[encoded data removed]",
      "text/plain": [
       "<Figure size 432x288 with 1 Axes>"
      ]
     },
     "metadata": {
      "needs_background": "light"
     },
     "output_type": "display_data"
    }
   ],
   "source": [
    "used_test_data = dict()\n",
    "for p in properties:\n",
    "    print(p)\n",
    "    used_test_data[p] = train_model(p, max_epochs=100)\n",
    "    show_history(p)"
   ]
  },
  {
   "cell_type": "code",
   "execution_count": 28,
   "metadata": {},
   "outputs": [
    {
     "name": "stdout",
     "output_type": "stream",
     "text": [
      "use dipole moment\n"
     ]
    },
    {
     "data": {
      "image/png": "[encoded data removed]",
      "text/plain": [
       "<Figure size 432x288 with 1 Axes>"
      ]
     },
     "metadata": {
      "needs_background": "light"
     },
     "output_type": "display_data"
    },
    {
     "data": {
      "image/png": "[encoded data removed]",
      "text/plain": [
       "<Figure size 432x288 with 1 Axes>"
      ]
     },
     "metadata": {
      "needs_background": "light"
     },
     "output_type": "display_data"
    }
   ],
   "source": [
    "for p in properties:\n",
    "    show_predictions(used_test_data[p], p)"
   ]
  },
  {
   "cell_type": "code",
   "execution_count": 29,
   "metadata": {
    "_kg_hide-input": true,
    "_kg_hide-output": true
   },
   "outputs": [],
   "source": [
    "!mv potential_energy/log/log.csv log_potential.csv\n",
    "!mv scalar_dipole/log/log.csv log_dipole.csv\n",
    "!mv potential_energy/output/best_model best_model_potential\n",
    "!mv scalar_dipole/output/best_model best_model_dipole\n",
    "!rm -r potential_energy\n",
    "!rm -r scalar_dipole"
   ]
  },
  {
   "cell_type": "code",
   "execution_count": 30,
   "metadata": {},
   "outputs": [
    {
     "name": "stdout",
     "output_type": "stream",
     "text": [
      "CHAMPS_train.db     __output__.json    best_model_potential  log_potential.csv\r\n",
      "__notebook__.ipynb  best_model_dipole  log_dipole.csv\r\n"
     ]
    }
   ],
   "source": [
    "!ls"
   ]
  }
 ],
 "metadata": {
  "kernelspec": {
   "display_name": "Python 3",
   "language": "python",
   "name": "python3"
  },
  "language_info": {
   "codemirror_mode": {
    "name": "ipython",
    "version": 3
   },
   "file_extension": ".py",
   "mimetype": "text/x-python",
   "name": "python",
   "nbconvert_exporter": "python",
   "pygments_lexer": "ipython3",
   "version": "3.6.6"
  }
 },
 "nbformat": 4,
 "nbformat_minor": 1
}
