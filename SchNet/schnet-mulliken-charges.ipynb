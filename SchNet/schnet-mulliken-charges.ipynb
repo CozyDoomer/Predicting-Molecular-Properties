{
 "cells": [
  {
   "cell_type": "markdown",
   "metadata": {},
   "source": [
    "This kernel presents how to predict mulliken charges using SchNetPack."
   ]
  },
  {
   "cell_type": "code",
   "execution_count": 1,
   "metadata": {
    "_cell_guid": "79c7e3d0-c299-4dcb-8224-4455121ee9b0",
    "_kg_hide-output": true,
    "_uuid": "d629ff2d2480ee46fbb7e2d37f6b5fab8052498a"
   },
   "outputs": [
    {
     "name": "stdout",
     "output_type": "stream",
     "text": [
      "Collecting schnetpack\r\n",
      "\u001b[?25l  Downloading https://files.pythonhosted.org/packages/df/4d/467856b38f9f1686342629ca65ade1c84b0824d7f33e436bead3b08aa38c/schnetpack-0.2.1.tar.gz (52kB)\r\n",
      "\u001b[K     |████████████████████████████████| 61kB 5.4MB/s \r\n",
      "\u001b[?25hRequirement already satisfied: torch>=0.4 in /opt/conda/lib/python3.6/site-packages (from schnetpack) (1.1.0)\r\n",
      "Requirement already satisfied: numpy in /opt/conda/lib/python3.6/site-packages (from schnetpack) (1.16.4)\r\n",
      "Collecting ase>=3.16 (from schnetpack)\r\n",
      "\u001b[?25l  Downloading https://files.pythonhosted.org/packages/a7/af/ea30928def88748d76946c0af0e6a8f9c2d2e65e3d65da527fe80e9ba06e/ase-3.17.0-py3-none-any.whl (1.8MB)\r\n",
      "\u001b[K     |████████████████████████████████| 1.8MB 16.1MB/s \r\n",
      "\u001b[?25hRequirement already satisfied: tensorboardX in /opt/conda/lib/python3.6/site-packages (from schnetpack) (1.7)\r\n",
      "Requirement already satisfied: h5py in /opt/conda/lib/python3.6/site-packages (from schnetpack) (2.9.0)\r\n",
      "Requirement already satisfied: flask in /opt/conda/lib/python3.6/site-packages (from ase>=3.16->schnetpack) (1.0.3)\r\n",
      "Requirement already satisfied: matplotlib in /opt/conda/lib/python3.6/site-packages (from ase>=3.16->schnetpack) (3.1.0)\r\n",
      "Requirement already satisfied: scipy in /opt/conda/lib/python3.6/site-packages (from ase>=3.16->schnetpack) (1.3.0)\r\n",
      "Requirement already satisfied: protobuf>=3.2.0 in /opt/conda/lib/python3.6/site-packages (from tensorboardX->schnetpack) (3.7.1)\r\n",
      "Requirement already satisfied: six in /opt/conda/lib/python3.6/site-packages (from tensorboardX->schnetpack) (1.12.0)\r\n",
      "Requirement already satisfied: Jinja2>=2.10 in /opt/conda/lib/python3.6/site-packages (from flask->ase>=3.16->schnetpack) (2.10.1)\r\n",
      "Requirement already satisfied: itsdangerous>=0.24 in /opt/conda/lib/python3.6/site-packages (from flask->ase>=3.16->schnetpack) (1.1.0)\r\n",
      "Requirement already satisfied: click>=5.1 in /opt/conda/lib/python3.6/site-packages (from flask->ase>=3.16->schnetpack) (7.0)\r\n",
      "Requirement already satisfied: Werkzeug>=0.14 in /opt/conda/lib/python3.6/site-packages (from flask->ase>=3.16->schnetpack) (0.15.4)\r\n",
      "Requirement already satisfied: cycler>=0.10 in /opt/conda/lib/python3.6/site-packages (from matplotlib->ase>=3.16->schnetpack) (0.10.0)\r\n",
      "Requirement already satisfied: kiwisolver>=1.0.1 in /opt/conda/lib/python3.6/site-packages (from matplotlib->ase>=3.16->schnetpack) (1.1.0)\r\n",
      "Requirement already satisfied: pyparsing!=2.0.4,!=2.1.2,!=2.1.6,>=2.0.1 in /opt/conda/lib/python3.6/site-packages (from matplotlib->ase>=3.16->schnetpack) (2.4.0)\r\n",
      "Requirement already satisfied: python-dateutil>=2.1 in /opt/conda/lib/python3.6/site-packages (from matplotlib->ase>=3.16->schnetpack) (2.8.0)\r\n",
      "Requirement already satisfied: setuptools in /opt/conda/lib/python3.6/site-packages (from protobuf>=3.2.0->tensorboardX->schnetpack) (41.0.1)\r\n",
      "Requirement already satisfied: MarkupSafe>=0.23 in /opt/conda/lib/python3.6/site-packages (from Jinja2>=2.10->flask->ase>=3.16->schnetpack) (1.1.1)\r\n",
      "Building wheels for collected packages: schnetpack\r\n",
      "  Building wheel for schnetpack (setup.py) ... \u001b[?25l-\b \b\\\b \bdone\r\n",
      "\u001b[?25h  Stored in directory: /tmp/.cache/pip/wheels/4e/28/d3/1748daf79d0a526f1a2de70e9a3abcdb50eb01b45eeec4b786\r\n",
      "Successfully built schnetpack\r\n",
      "Installing collected packages: ase, schnetpack\r\n",
      "Successfully installed ase-3.17.0 schnetpack-0.2.1\r\n"
     ]
    }
   ],
   "source": [
    "!pip install schnetpack"
   ]
  },
  {
   "cell_type": "markdown",
   "metadata": {},
   "source": [
    "# Mulliken Charges"
   ]
  },
  {
   "cell_type": "code",
   "execution_count": 2,
   "metadata": {},
   "outputs": [],
   "source": [
    "import numpy as np\n",
    "import pandas as pd\n",
    "molecules = pd.read_csv('../input/structures.csv')\n",
    "molecules = molecules.groupby('molecule_name')\n",
    "mulliken_charges = pd.read_csv('../input/mulliken_charges.csv')\n",
    "mulliken_charges = mulliken_charges.groupby('molecule_name')"
   ]
  },
  {
   "cell_type": "code",
   "execution_count": 3,
   "metadata": {},
   "outputs": [
    {
     "data": {
      "text/html": [
       "<div>\n",
       "<style scoped>\n",
       "    .dataframe tbody tr th:only-of-type {\n",
       "        vertical-align: middle;\n",
       "    }\n",
       "\n",
       "    .dataframe tbody tr th {\n",
       "        vertical-align: top;\n",
       "    }\n",
       "\n",
       "    .dataframe thead th {\n",
       "        text-align: right;\n",
       "    }\n",
       "</style>\n",
       "<table border=\"1\" class=\"dataframe\">\n",
       "  <thead>\n",
       "    <tr style=\"text-align: right;\">\n",
       "      <th></th>\n",
       "      <th>molecule_name</th>\n",
       "      <th>atom_index</th>\n",
       "      <th>mulliken_charge</th>\n",
       "    </tr>\n",
       "  </thead>\n",
       "  <tbody>\n",
       "    <tr>\n",
       "      <th>9</th>\n",
       "      <td>dsgdb9nsd_000003</td>\n",
       "      <td>0</td>\n",
       "      <td>-0.589706</td>\n",
       "    </tr>\n",
       "    <tr>\n",
       "      <th>10</th>\n",
       "      <td>dsgdb9nsd_000003</td>\n",
       "      <td>1</td>\n",
       "      <td>0.294853</td>\n",
       "    </tr>\n",
       "    <tr>\n",
       "      <th>11</th>\n",
       "      <td>dsgdb9nsd_000003</td>\n",
       "      <td>2</td>\n",
       "      <td>0.294853</td>\n",
       "    </tr>\n",
       "  </tbody>\n",
       "</table>\n",
       "</div>"
      ],
      "text/plain": [
       "       molecule_name  atom_index  mulliken_charge\n",
       "9   dsgdb9nsd_000003           0        -0.589706\n",
       "10  dsgdb9nsd_000003           1         0.294853\n",
       "11  dsgdb9nsd_000003           2         0.294853"
      ]
     },
     "execution_count": 3,
     "metadata": {},
     "output_type": "execute_result"
    }
   ],
   "source": [
    "mulliken_charges.get_group('dsgdb9nsd_000003')"
   ]
  },
  {
   "cell_type": "code",
   "execution_count": 4,
   "metadata": {},
   "outputs": [
    {
     "data": {
      "text/plain": [
       "0.0"
      ]
     },
     "execution_count": 4,
     "metadata": {},
     "output_type": "execute_result"
    }
   ],
   "source": [
    "mulliken_charges.get_group('dsgdb9nsd_000003').mulliken_charge.sum()"
   ]
  },
  {
   "cell_type": "code",
   "execution_count": 5,
   "metadata": {},
   "outputs": [
    {
     "data": {
      "text/plain": [
       "count    1.533537e+06\n",
       "mean    -2.256222e-10\n",
       "std      2.254392e-01\n",
       "min     -7.334500e-01\n",
       "25%     -1.915330e-01\n",
       "50%      9.867800e-02\n",
       "75%      1.273960e-01\n",
       "max      7.289810e-01\n",
       "Name: mulliken_charge, dtype: float64"
      ]
     },
     "execution_count": 5,
     "metadata": {},
     "output_type": "execute_result"
    }
   ],
   "source": [
    "pd.read_csv('../input/mulliken_charges.csv').mulliken_charge.describe()"
   ]
  },
  {
   "cell_type": "code",
   "execution_count": 6,
   "metadata": {},
   "outputs": [
    {
     "data": {
      "text/plain": [
       "<matplotlib.axes._subplots.AxesSubplot at 0x7f737e101b00>"
      ]
     },
     "execution_count": 6,
     "metadata": {},
     "output_type": "execute_result"
    },
    {
     "data": {
      "image/png": "[encoded data removed]",
      "text/plain": [
       "<Figure size 432x288 with 1 Axes>"
      ]
     },
     "metadata": {
      "needs_background": "light"
     },
     "output_type": "display_data"
    }
   ],
   "source": [
    "pd.read_csv('../input/mulliken_charges.csv').mulliken_charge.hist(bins=50)"
   ]
  },
  {
   "cell_type": "code",
   "execution_count": 7,
   "metadata": {},
   "outputs": [],
   "source": [
    "from ase import Atoms\n",
    "from ase.db import connect\n",
    "\n",
    "def create_db(db_path, molecule_names):\n",
    "    with connect(db_path) as db:\n",
    "        for name in molecule_names:\n",
    "            mol = molecules.get_group(name)\n",
    "            atoms = Atoms(symbols=mol.atom.values,\n",
    "                          positions=[(row.x,row.y,row.z) for row in mol.itertuples()])\n",
    "            try:\n",
    "                charges = mulliken_charges.get_group(name).mulliken_charge.values.reshape(-1,1)\n",
    "                total_charge = 0.0\n",
    "            except KeyError:\n",
    "                charges = None\n",
    "                total_charge = None\n",
    "            db.write(atoms, name=name,\n",
    "                     data={'mulliken_charges': charges, 'total_charge': total_charge})"
   ]
  },
  {
   "cell_type": "code",
   "execution_count": 8,
   "metadata": {},
   "outputs": [],
   "source": [
    "train = pd.read_csv('../input/train.csv')\n",
    "train_molecule_names = train.molecule_name.unique()\n",
    "\n",
    "champs_path = 'CHAMPS_train.db'\n",
    "dataset_size =  len(train_molecule_names) # 12000\n",
    "dataset_molecule_names = train_molecule_names[:dataset_size]\n",
    "create_db(db_path=champs_path, molecule_names=dataset_molecule_names)"
   ]
  },
  {
   "cell_type": "code",
   "execution_count": 9,
   "metadata": {},
   "outputs": [],
   "source": [
    "import schnetpack\n",
    "database = schnetpack.data.AtomsData(champs_path,\n",
    "                properties=['mulliken_charges', 'total_charge'])"
   ]
  },
  {
   "cell_type": "markdown",
   "metadata": {},
   "source": [
    "# SchNet Model"
   ]
  },
  {
   "cell_type": "code",
   "execution_count": 10,
   "metadata": {},
   "outputs": [],
   "source": [
    "import pandas as pd\n",
    "\n",
    "import torch\n",
    "import torch.nn.functional as F\n",
    "from torch.optim import Adam\n",
    "\n",
    "import schnetpack as spk\n",
    "import schnetpack.atomistic as atm\n",
    "import schnetpack.representation as rep\n",
    "from schnetpack.datasets import *\n",
    "\n",
    "device = torch.device(\"cuda\")"
   ]
  },
  {
   "cell_type": "code",
   "execution_count": 11,
   "metadata": {
    "_kg_hide-input": true
   },
   "outputs": [],
   "source": [
    "# This function comes from the following script:\n",
    "# https://github.com/atomistic-machine-learning/schnetpack/blob/v0.2.1/src/scripts/schnetpack_qm9.py\n",
    "def evaluate_dataset(metrics, model, loader, device):\n",
    "    for metric in metrics:\n",
    "        metric.reset()\n",
    "\n",
    "    with torch.no_grad():\n",
    "        for batch in loader:\n",
    "            batch = {\n",
    "                k: v.to(device)\n",
    "                for k, v in batch.items()\n",
    "            }\n",
    "            result = model(batch)\n",
    "\n",
    "            for metric in metrics:\n",
    "                metric.add_batch(batch, result)\n",
    "\n",
    "    results = [\n",
    "        metric.aggregate() for metric in metrics\n",
    "    ]\n",
    "    return results"
   ]
  },
  {
   "cell_type": "code",
   "execution_count": 12,
   "metadata": {},
   "outputs": [],
   "source": [
    "from schnetpack.data import Structure\n",
    "\n",
    "class Mulliken(atm.Atomwise):\n",
    "    def __init__(self):\n",
    "        super(Mulliken, self).__init__(return_contributions=True)\n",
    "        \n",
    "    def forward(self, inputs):\n",
    "        result = super().forward(inputs)\n",
    "        \n",
    "        atom_mask = inputs[Structure.atom_mask].byte()\n",
    "        \n",
    "        yi = inputs['mulliken_charges']\n",
    "        yi = torch.masked_select(yi.squeeze(dim=2), atom_mask)\n",
    "        inputs['mulliken_true'] = yi\n",
    "        \n",
    "        yi = result['yi']\n",
    "        yi = torch.masked_select(yi.squeeze(dim=2), atom_mask)\n",
    "        result['mulliken_pred'] = yi\n",
    "        \n",
    "        return result\n",
    "        "
   ]
  },
  {
   "cell_type": "code",
   "execution_count": 13,
   "metadata": {},
   "outputs": [],
   "source": [
    "def schnet_model():\n",
    "    reps = rep.SchNet(n_interactions=6)\n",
    "    output = Mulliken()\n",
    "    model = atm.AtomisticModel(reps, output)\n",
    "    model = model.to(device)\n",
    "    return model"
   ]
  },
  {
   "cell_type": "code",
   "execution_count": 14,
   "metadata": {},
   "outputs": [],
   "source": [
    "def train_model(max_epochs=500):\n",
    "    # split in train and val\n",
    "    n_dataset = len(database)\n",
    "    n_val = n_dataset // 10\n",
    "    train_data, val_data, test_data = database.create_splits(n_dataset - 2*n_val, n_val)\n",
    "    train_loader = spk.data.AtomsLoader(train_data, batch_size=128, num_workers=2)\n",
    "    val_loader = spk.data.AtomsLoader(val_data, batch_size=256, num_workers=2)\n",
    "\n",
    "    # create model\n",
    "    model = schnet_model()\n",
    "\n",
    "    # create trainer\n",
    "    true_key = 'mulliken_true'\n",
    "    pred_key = 'mulliken_pred'\n",
    "    opt = Adam(model.parameters(), lr=1e-4)\n",
    "    loss = lambda b, p: F.mse_loss(p[pred_key], b[true_key])\n",
    "    metrics = [\n",
    "        spk.metrics.MeanAbsoluteError(true_key, pred_key, name='MAE_mulliken'),\n",
    "        spk.metrics.RootMeanSquaredError(true_key, pred_key, name='RMSE_mulliken'),\n",
    "    ]\n",
    "    hooks = [\n",
    "        spk.train.MaxEpochHook(max_epochs),\n",
    "        spk.train.CSVHook('log', metrics, every_n_epochs=1),\n",
    "    ]\n",
    "    trainer = spk.train.Trainer('output', model, loss,\n",
    "                            opt, train_loader, val_loader, hooks=hooks)\n",
    "\n",
    "    # start training\n",
    "    trainer.train(device)\n",
    "    \n",
    "    # evaluation\n",
    "    model.load_state_dict(torch.load('output/best_model'))\n",
    "    test_loader = spk.data.AtomsLoader(test_data, batch_size=256, num_workers=2)\n",
    "    model.eval()\n",
    "\n",
    "    df = pd.DataFrame()\n",
    "    df['metric'] = ['MAE_mulliken', 'RMSE_mulliken']\n",
    "    df['training'] = evaluate_dataset(metrics, model, train_loader, device)\n",
    "    df['validation'] = evaluate_dataset(metrics, model, val_loader, device)\n",
    "    df['test'] = evaluate_dataset(metrics, model, test_loader, device)\n",
    "    display(df)\n",
    "    \n",
    "    return test_data"
   ]
  },
  {
   "cell_type": "code",
   "execution_count": 15,
   "metadata": {},
   "outputs": [],
   "source": [
    "def show_history():\n",
    "    df = pd.read_csv('log/log.csv')\n",
    "    display(df.tail())\n",
    "    max_value = None # df['RMSE_mulliken'].min()*5\n",
    "    _ = df[['MAE_mulliken','RMSE_mulliken']].plot(ylim=(0,max_value))"
   ]
  },
  {
   "cell_type": "code",
   "execution_count": 16,
   "metadata": {},
   "outputs": [],
   "source": [
    "def test_prediction(dataset):\n",
    "    # create model\n",
    "    model = schnet_model()\n",
    "    \n",
    "    # load best parameters\n",
    "    model.load_state_dict(torch.load('output/best_model'))\n",
    "    loader = spk.data.AtomsLoader(dataset, batch_size=256, num_workers=2)\n",
    "    model.eval()\n",
    "    \n",
    "    # predict mulliken charges\n",
    "    targets = []\n",
    "    predictions = []\n",
    "    with torch.no_grad():\n",
    "        for batch in loader:\n",
    "            batch = {\n",
    "                k: v.to(device)\n",
    "                for k, v in batch.items()\n",
    "            }\n",
    "            result = model(batch)\n",
    "            targets += batch['mulliken_true'].tolist()\n",
    "            predictions += result['mulliken_pred'].tolist()\n",
    "    return targets, predictions"
   ]
  },
  {
   "cell_type": "code",
   "execution_count": 17,
   "metadata": {},
   "outputs": [],
   "source": [
    "def show_predictions(dataset):\n",
    "    targets, predictions = test_prediction(dataset)\n",
    "    df_pred = pd.DataFrame()\n",
    "    df_pred['Target'] = targets\n",
    "    df_pred['Prediction'] = predictions\n",
    "    df_pred.plot.scatter(x='Target', y='Prediction')"
   ]
  },
  {
   "cell_type": "markdown",
   "metadata": {},
   "source": [
    "# Results"
   ]
  },
  {
   "cell_type": "code",
   "execution_count": 18,
   "metadata": {},
   "outputs": [
    {
     "data": {
      "text/html": [
       "<div>\n",
       "<style scoped>\n",
       "    .dataframe tbody tr th:only-of-type {\n",
       "        vertical-align: middle;\n",
       "    }\n",
       "\n",
       "    .dataframe tbody tr th {\n",
       "        vertical-align: top;\n",
       "    }\n",
       "\n",
       "    .dataframe thead th {\n",
       "        text-align: right;\n",
       "    }\n",
       "</style>\n",
       "<table border=\"1\" class=\"dataframe\">\n",
       "  <thead>\n",
       "    <tr style=\"text-align: right;\">\n",
       "      <th></th>\n",
       "      <th>metric</th>\n",
       "      <th>training</th>\n",
       "      <th>validation</th>\n",
       "      <th>test</th>\n",
       "    </tr>\n",
       "  </thead>\n",
       "  <tbody>\n",
       "    <tr>\n",
       "      <th>0</th>\n",
       "      <td>MAE_mulliken</td>\n",
       "      <td>0.003483</td>\n",
       "      <td>0.00365</td>\n",
       "      <td>0.003674</td>\n",
       "    </tr>\n",
       "    <tr>\n",
       "      <th>1</th>\n",
       "      <td>RMSE_mulliken</td>\n",
       "      <td>0.005054</td>\n",
       "      <td>0.00551</td>\n",
       "      <td>0.005447</td>\n",
       "    </tr>\n",
       "  </tbody>\n",
       "</table>\n",
       "</div>"
      ],
      "text/plain": [
       "          metric  training  validation      test\n",
       "0   MAE_mulliken  0.003483     0.00365  0.003674\n",
       "1  RMSE_mulliken  0.005054     0.00551  0.005447"
      ]
     },
     "metadata": {},
     "output_type": "display_data"
    },
    {
     "data": {
      "text/html": [
       "<div>\n",
       "<style scoped>\n",
       "    .dataframe tbody tr th:only-of-type {\n",
       "        vertical-align: middle;\n",
       "    }\n",
       "\n",
       "    .dataframe tbody tr th {\n",
       "        vertical-align: top;\n",
       "    }\n",
       "\n",
       "    .dataframe thead th {\n",
       "        text-align: right;\n",
       "    }\n",
       "</style>\n",
       "<table border=\"1\" class=\"dataframe\">\n",
       "  <thead>\n",
       "    <tr style=\"text-align: right;\">\n",
       "      <th></th>\n",
       "      <th>Time</th>\n",
       "      <th>Learning rate</th>\n",
       "      <th>Train loss</th>\n",
       "      <th>Validation loss</th>\n",
       "      <th>MAE_mulliken</th>\n",
       "      <th>RMSE_mulliken</th>\n",
       "    </tr>\n",
       "  </thead>\n",
       "  <tbody>\n",
       "    <tr>\n",
       "      <th>195</th>\n",
       "      <td>22314.875348</td>\n",
       "      <td>0.0001</td>\n",
       "      <td>0.014156</td>\n",
       "      <td>0.000032</td>\n",
       "      <td>0.003795</td>\n",
       "      <td>0.005662</td>\n",
       "    </tr>\n",
       "    <tr>\n",
       "      <th>196</th>\n",
       "      <td>22420.585965</td>\n",
       "      <td>0.0001</td>\n",
       "      <td>0.014103</td>\n",
       "      <td>0.000032</td>\n",
       "      <td>0.003752</td>\n",
       "      <td>0.005623</td>\n",
       "    </tr>\n",
       "    <tr>\n",
       "      <th>197</th>\n",
       "      <td>22526.058580</td>\n",
       "      <td>0.0001</td>\n",
       "      <td>0.014069</td>\n",
       "      <td>0.000031</td>\n",
       "      <td>0.003694</td>\n",
       "      <td>0.005565</td>\n",
       "    </tr>\n",
       "    <tr>\n",
       "      <th>198</th>\n",
       "      <td>22631.141318</td>\n",
       "      <td>0.0001</td>\n",
       "      <td>0.014071</td>\n",
       "      <td>0.000030</td>\n",
       "      <td>0.003650</td>\n",
       "      <td>0.005510</td>\n",
       "    </tr>\n",
       "    <tr>\n",
       "      <th>199</th>\n",
       "      <td>22736.413962</td>\n",
       "      <td>0.0001</td>\n",
       "      <td>0.014140</td>\n",
       "      <td>0.000032</td>\n",
       "      <td>0.003719</td>\n",
       "      <td>0.005613</td>\n",
       "    </tr>\n",
       "  </tbody>\n",
       "</table>\n",
       "</div>"
      ],
      "text/plain": [
       "             Time  Learning rate      ...        MAE_mulliken  RMSE_mulliken\n",
       "195  22314.875348         0.0001      ...            0.003795       0.005662\n",
       "196  22420.585965         0.0001      ...            0.003752       0.005623\n",
       "197  22526.058580         0.0001      ...            0.003694       0.005565\n",
       "198  22631.141318         0.0001      ...            0.003650       0.005510\n",
       "199  22736.413962         0.0001      ...            0.003719       0.005613\n",
       "\n",
       "[5 rows x 6 columns]"
      ]
     },
     "metadata": {},
     "output_type": "display_data"
    },
    {
     "data": {
      "image/png": "[encoded data removed]",
      "text/plain": [
       "<Figure size 432x288 with 1 Axes>"
      ]
     },
     "metadata": {
      "needs_background": "light"
     },
     "output_type": "display_data"
    }
   ],
   "source": [
    "used_test_data = train_model(max_epochs=200)\n",
    "show_history()"
   ]
  },
  {
   "cell_type": "code",
   "execution_count": 19,
   "metadata": {},
   "outputs": [
    {
     "data": {
      "image/png": "[encoded data removed]",
      "text/plain": [
       "<Figure size 432x288 with 1 Axes>"
      ]
     },
     "metadata": {
      "needs_background": "light"
     },
     "output_type": "display_data"
    }
   ],
   "source": [
    "show_predictions(used_test_data)"
   ]
  }
 ],
 "metadata": {
  "kernelspec": {
   "display_name": "Python 3",
   "language": "python",
   "name": "python3"
  },
  "language_info": {
   "codemirror_mode": {
    "name": "ipython",
    "version": 3
   },
   "file_extension": ".py",
   "mimetype": "text/x-python",
   "name": "python",
   "nbconvert_exporter": "python",
   "pygments_lexer": "ipython3",
   "version": "3.6.6"
  }
 },
 "nbformat": 4,
 "nbformat_minor": 1
}
