{
 "cells": [
  {
   "cell_type": "markdown",
   "metadata": {},
   "source": [
    "# Chemical Shielding\n",
    "\n",
    "CORY M. WIDDIFIELD, ROBERT W. SCHURKO.\n",
    "\"Understanding Chemical Shielding Tensors Using Group Theory, MO Analysis, and Modern Density- Functional Theory\"\n",
    "*Concepts in Magnetic Resonance Part A (Bridging Education and Research). (2009)\n",
    "https://onlinelibrary.wiley.com/doi/pdf/10.1002/cmr.a.20136\n",
    "\n",
    "The chemical shielding Hamiltonian:\n",
    "\n",
    "![Hamiltonian](https://user-images.githubusercontent.com/11532812/60358602-78018d80-9a11-11e9-894f-60b8122e8a4c.png)\n",
    "\n",
    "where gamma is the gyromagnetic ratio, I^ is the nuclear spin operator, and sigma is the magnetic shielding tensor."
   ]
  },
  {
   "cell_type": "code",
   "execution_count": 1,
   "metadata": {
    "_kg_hide-output": true
   },
   "outputs": [
    {
     "name": "stdout",
     "output_type": "stream",
     "text": [
      "Collecting schnetpack\r\n",
      "\u001b[?25l  Downloading https://files.pythonhosted.org/packages/df/4d/467856b38f9f1686342629ca65ade1c84b0824d7f33e436bead3b08aa38c/schnetpack-0.2.1.tar.gz (52kB)\r\n",
      "\u001b[K     |████████████████████████████████| 61kB 5.3MB/s \r\n",
      "\u001b[?25hRequirement already satisfied: torch>=0.4 in /opt/conda/lib/python3.6/site-packages (from schnetpack) (1.1.0)\r\n",
      "Requirement already satisfied: numpy in /opt/conda/lib/python3.6/site-packages (from schnetpack) (1.16.4)\r\n",
      "Collecting ase>=3.16 (from schnetpack)\r\n",
      "\u001b[?25l  Downloading https://files.pythonhosted.org/packages/a7/af/ea30928def88748d76946c0af0e6a8f9c2d2e65e3d65da527fe80e9ba06e/ase-3.17.0-py3-none-any.whl (1.8MB)\r\n",
      "\u001b[K     |████████████████████████████████| 1.8MB 16.2MB/s \r\n",
      "\u001b[?25hRequirement already satisfied: tensorboardX in /opt/conda/lib/python3.6/site-packages (from schnetpack) (1.7)\r\n",
      "Requirement already satisfied: h5py in /opt/conda/lib/python3.6/site-packages (from schnetpack) (2.9.0)\r\n",
      "Requirement already satisfied: scipy in /opt/conda/lib/python3.6/site-packages (from ase>=3.16->schnetpack) (1.3.0)\r\n",
      "Requirement already satisfied: flask in /opt/conda/lib/python3.6/site-packages (from ase>=3.16->schnetpack) (1.0.3)\r\n",
      "Requirement already satisfied: matplotlib in /opt/conda/lib/python3.6/site-packages (from ase>=3.16->schnetpack) (3.1.0)\r\n",
      "Requirement already satisfied: six in /opt/conda/lib/python3.6/site-packages (from tensorboardX->schnetpack) (1.12.0)\r\n",
      "Requirement already satisfied: protobuf>=3.2.0 in /opt/conda/lib/python3.6/site-packages (from tensorboardX->schnetpack) (3.7.1)\r\n",
      "Requirement already satisfied: Werkzeug>=0.14 in /opt/conda/lib/python3.6/site-packages (from flask->ase>=3.16->schnetpack) (0.15.4)\r\n",
      "Requirement already satisfied: click>=5.1 in /opt/conda/lib/python3.6/site-packages (from flask->ase>=3.16->schnetpack) (7.0)\r\n",
      "Requirement already satisfied: itsdangerous>=0.24 in /opt/conda/lib/python3.6/site-packages (from flask->ase>=3.16->schnetpack) (1.1.0)\r\n",
      "Requirement already satisfied: Jinja2>=2.10 in /opt/conda/lib/python3.6/site-packages (from flask->ase>=3.16->schnetpack) (2.10.1)\r\n",
      "Requirement already satisfied: python-dateutil>=2.1 in /opt/conda/lib/python3.6/site-packages (from matplotlib->ase>=3.16->schnetpack) (2.8.0)\r\n",
      "Requirement already satisfied: kiwisolver>=1.0.1 in /opt/conda/lib/python3.6/site-packages (from matplotlib->ase>=3.16->schnetpack) (1.1.0)\r\n",
      "Requirement already satisfied: cycler>=0.10 in /opt/conda/lib/python3.6/site-packages (from matplotlib->ase>=3.16->schnetpack) (0.10.0)\r\n",
      "Requirement already satisfied: pyparsing!=2.0.4,!=2.1.2,!=2.1.6,>=2.0.1 in /opt/conda/lib/python3.6/site-packages (from matplotlib->ase>=3.16->schnetpack) (2.4.0)\r\n",
      "Requirement already satisfied: setuptools in /opt/conda/lib/python3.6/site-packages (from protobuf>=3.2.0->tensorboardX->schnetpack) (41.0.1)\r\n",
      "Requirement already satisfied: MarkupSafe>=0.23 in /opt/conda/lib/python3.6/site-packages (from Jinja2>=2.10->flask->ase>=3.16->schnetpack) (1.1.1)\r\n",
      "Building wheels for collected packages: schnetpack\r\n",
      "  Building wheel for schnetpack (setup.py) ... \u001b[?25l-\b \b\\\b \bdone\r\n",
      "\u001b[?25h  Stored in directory: /tmp/.cache/pip/wheels/4e/28/d3/1748daf79d0a526f1a2de70e9a3abcdb50eb01b45eeec4b786\r\n",
      "Successfully built schnetpack\r\n",
      "Installing collected packages: ase, schnetpack\r\n",
      "Successfully installed ase-3.17.0 schnetpack-0.2.1\r\n"
     ]
    }
   ],
   "source": [
    "!pip install schnetpack"
   ]
  },
  {
   "cell_type": "code",
   "execution_count": 2,
   "metadata": {},
   "outputs": [],
   "source": [
    "import numpy as np\n",
    "import pandas as pd\n",
    "molecules = pd.read_csv('../input/structures.csv')\n",
    "molecules = molecules.groupby('molecule_name')\n",
    "magnetic_shielding_tensors = pd.read_csv('../input/magnetic_shielding_tensors.csv')"
   ]
  },
  {
   "cell_type": "code",
   "execution_count": 3,
   "metadata": {},
   "outputs": [
    {
     "data": {
      "text/html": [
       "<div>\n",
       "<style scoped>\n",
       "    .dataframe tbody tr th:only-of-type {\n",
       "        vertical-align: middle;\n",
       "    }\n",
       "\n",
       "    .dataframe tbody tr th {\n",
       "        vertical-align: top;\n",
       "    }\n",
       "\n",
       "    .dataframe thead th {\n",
       "        text-align: right;\n",
       "    }\n",
       "</style>\n",
       "<table border=\"1\" class=\"dataframe\">\n",
       "  <thead>\n",
       "    <tr style=\"text-align: right;\">\n",
       "      <th></th>\n",
       "      <th>molecule_name</th>\n",
       "      <th>atom_index</th>\n",
       "      <th>XX</th>\n",
       "      <th>YX</th>\n",
       "      <th>ZX</th>\n",
       "      <th>XY</th>\n",
       "      <th>YY</th>\n",
       "      <th>ZY</th>\n",
       "      <th>XZ</th>\n",
       "      <th>YZ</th>\n",
       "      <th>ZZ</th>\n",
       "    </tr>\n",
       "  </thead>\n",
       "  <tbody>\n",
       "    <tr>\n",
       "      <th>0</th>\n",
       "      <td>dsgdb9nsd_000001</td>\n",
       "      <td>0</td>\n",
       "      <td>195.3150</td>\n",
       "      <td>0.0000</td>\n",
       "      <td>-0.0001</td>\n",
       "      <td>0.0000</td>\n",
       "      <td>195.3170</td>\n",
       "      <td>0.0007</td>\n",
       "      <td>-0.0001</td>\n",
       "      <td>0.0007</td>\n",
       "      <td>195.3170</td>\n",
       "    </tr>\n",
       "    <tr>\n",
       "      <th>1</th>\n",
       "      <td>dsgdb9nsd_000001</td>\n",
       "      <td>1</td>\n",
       "      <td>31.3410</td>\n",
       "      <td>-1.2317</td>\n",
       "      <td>4.0544</td>\n",
       "      <td>-1.2317</td>\n",
       "      <td>28.9546</td>\n",
       "      <td>-1.7173</td>\n",
       "      <td>4.0546</td>\n",
       "      <td>-1.7173</td>\n",
       "      <td>34.0861</td>\n",
       "    </tr>\n",
       "    <tr>\n",
       "      <th>2</th>\n",
       "      <td>dsgdb9nsd_000001</td>\n",
       "      <td>2</td>\n",
       "      <td>31.5814</td>\n",
       "      <td>1.2173</td>\n",
       "      <td>-4.1474</td>\n",
       "      <td>1.2173</td>\n",
       "      <td>28.9036</td>\n",
       "      <td>-1.6036</td>\n",
       "      <td>-4.1476</td>\n",
       "      <td>-1.6036</td>\n",
       "      <td>33.8967</td>\n",
       "    </tr>\n",
       "    <tr>\n",
       "      <th>3</th>\n",
       "      <td>dsgdb9nsd_000001</td>\n",
       "      <td>3</td>\n",
       "      <td>31.5172</td>\n",
       "      <td>4.1086</td>\n",
       "      <td>1.2723</td>\n",
       "      <td>4.1088</td>\n",
       "      <td>33.9068</td>\n",
       "      <td>1.6950</td>\n",
       "      <td>1.2724</td>\n",
       "      <td>1.6951</td>\n",
       "      <td>28.9579</td>\n",
       "    </tr>\n",
       "    <tr>\n",
       "      <th>4</th>\n",
       "      <td>dsgdb9nsd_000001</td>\n",
       "      <td>4</td>\n",
       "      <td>31.4029</td>\n",
       "      <td>-4.0942</td>\n",
       "      <td>-1.1793</td>\n",
       "      <td>-4.0944</td>\n",
       "      <td>34.0776</td>\n",
       "      <td>1.6259</td>\n",
       "      <td>-1.1795</td>\n",
       "      <td>1.6260</td>\n",
       "      <td>28.9013</td>\n",
       "    </tr>\n",
       "    <tr>\n",
       "      <th>5</th>\n",
       "      <td>dsgdb9nsd_000002</td>\n",
       "      <td>0</td>\n",
       "      <td>275.6350</td>\n",
       "      <td>0.0003</td>\n",
       "      <td>0.0133</td>\n",
       "      <td>0.0003</td>\n",
       "      <td>275.6360</td>\n",
       "      <td>-0.0003</td>\n",
       "      <td>0.0161</td>\n",
       "      <td>-0.0004</td>\n",
       "      <td>237.4970</td>\n",
       "    </tr>\n",
       "    <tr>\n",
       "      <th>6</th>\n",
       "      <td>dsgdb9nsd_000002</td>\n",
       "      <td>1</td>\n",
       "      <td>31.2593</td>\n",
       "      <td>5.6126</td>\n",
       "      <td>-2.1025</td>\n",
       "      <td>5.6136</td>\n",
       "      <td>37.4364</td>\n",
       "      <td>-3.5567</td>\n",
       "      <td>-2.4461</td>\n",
       "      <td>-4.1372</td>\n",
       "      <td>27.9884</td>\n",
       "    </tr>\n",
       "    <tr>\n",
       "      <th>7</th>\n",
       "      <td>dsgdb9nsd_000002</td>\n",
       "      <td>2</td>\n",
       "      <td>31.0341</td>\n",
       "      <td>-5.4827</td>\n",
       "      <td>-2.0299</td>\n",
       "      <td>-5.4837</td>\n",
       "      <td>37.6618</td>\n",
       "      <td>3.5987</td>\n",
       "      <td>-2.3616</td>\n",
       "      <td>4.1861</td>\n",
       "      <td>27.9885</td>\n",
       "    </tr>\n",
       "    <tr>\n",
       "      <th>8</th>\n",
       "      <td>dsgdb9nsd_000002</td>\n",
       "      <td>3</td>\n",
       "      <td>40.7507</td>\n",
       "      <td>-0.1300</td>\n",
       "      <td>4.1318</td>\n",
       "      <td>-0.1300</td>\n",
       "      <td>27.9413</td>\n",
       "      <td>-0.0419</td>\n",
       "      <td>4.8083</td>\n",
       "      <td>-0.0488</td>\n",
       "      <td>27.9889</td>\n",
       "    </tr>\n",
       "    <tr>\n",
       "      <th>9</th>\n",
       "      <td>dsgdb9nsd_000003</td>\n",
       "      <td>0</td>\n",
       "      <td>310.0960</td>\n",
       "      <td>0.0000</td>\n",
       "      <td>0.0000</td>\n",
       "      <td>0.0000</td>\n",
       "      <td>355.7730</td>\n",
       "      <td>0.0000</td>\n",
       "      <td>0.0000</td>\n",
       "      <td>0.0000</td>\n",
       "      <td>324.1550</td>\n",
       "    </tr>\n",
       "  </tbody>\n",
       "</table>\n",
       "</div>"
      ],
      "text/plain": [
       "      molecule_name  atom_index        XX    ...         XZ      YZ        ZZ\n",
       "0  dsgdb9nsd_000001           0  195.3150    ...    -0.0001  0.0007  195.3170\n",
       "1  dsgdb9nsd_000001           1   31.3410    ...     4.0546 -1.7173   34.0861\n",
       "2  dsgdb9nsd_000001           2   31.5814    ...    -4.1476 -1.6036   33.8967\n",
       "3  dsgdb9nsd_000001           3   31.5172    ...     1.2724  1.6951   28.9579\n",
       "4  dsgdb9nsd_000001           4   31.4029    ...    -1.1795  1.6260   28.9013\n",
       "5  dsgdb9nsd_000002           0  275.6350    ...     0.0161 -0.0004  237.4970\n",
       "6  dsgdb9nsd_000002           1   31.2593    ...    -2.4461 -4.1372   27.9884\n",
       "7  dsgdb9nsd_000002           2   31.0341    ...    -2.3616  4.1861   27.9885\n",
       "8  dsgdb9nsd_000002           3   40.7507    ...     4.8083 -0.0488   27.9889\n",
       "9  dsgdb9nsd_000003           0  310.0960    ...     0.0000  0.0000  324.1550\n",
       "\n",
       "[10 rows x 11 columns]"
      ]
     },
     "execution_count": 3,
     "metadata": {},
     "output_type": "execute_result"
    }
   ],
   "source": [
    "magnetic_shielding_tensors.head(10)"
   ]
  },
  {
   "cell_type": "markdown",
   "metadata": {},
   "source": [
    "The magnetic shielding tensor:\n",
    "![Magnetic shielding tensor](https://user-images.githubusercontent.com/11532812/60358839-3ae9cb00-9a12-11e9-8f3a-0236f7bc072d.png)\n",
    "\n",
    "The symmetric portion of the shielding tensor can be diagonalized into its own principal axis system (PAS):\n",
    "\n",
    "![PAS](https://user-images.githubusercontent.com/11532812/60359035-c95e4c80-9a12-11e9-897d-2e422e0f2e83.png)"
   ]
  },
  {
   "cell_type": "code",
   "execution_count": 4,
   "metadata": {},
   "outputs": [],
   "source": [
    "x = magnetic_shielding_tensors.columns.values[2:]\n",
    "x = magnetic_shielding_tensors[x].values\n",
    "x = x.reshape(-1,3,3)\n",
    "x = x + np.transpose(x,(0,2,1))\n",
    "x = 0.5 * x\n",
    "w, v = np.linalg.eigh(x)"
   ]
  },
  {
   "cell_type": "markdown",
   "metadata": {},
   "source": [
    "The isotropic shielding value is defined as:\n",
    "\n",
    "![Isotropic shielding tensor](https://user-images.githubusercontent.com/11532812/60358900-75536800-9a12-11e9-850c-654dc81fc258.png)"
   ]
  },
  {
   "cell_type": "code",
   "execution_count": 5,
   "metadata": {},
   "outputs": [],
   "source": [
    "sigma_iso = np.sum(w, axis=1)/3 "
   ]
  },
  {
   "cell_type": "markdown",
   "metadata": {},
   "source": [
    "![span](https://user-images.githubusercontent.com/11532812/60359189-45589480-9a13-11e9-9016-42f8a90c1ddd.png)\n",
    "\n",
    "Ths span (Omega) describes the magnitude of the shielding anisotropy."
   ]
  },
  {
   "cell_type": "code",
   "execution_count": 6,
   "metadata": {},
   "outputs": [],
   "source": [
    "omega = w[:,2] - w[:,0]"
   ]
  },
  {
   "cell_type": "markdown",
   "metadata": {},
   "source": [
    "![skew](https://user-images.githubusercontent.com/11532812/60359338-c57efa00-9a13-11e9-9619-17ebd4f44ac8.png)\n",
    "\n",
    "The skew (kappa) describes degree of axial symmetry of the shielding tensor."
   ]
  },
  {
   "cell_type": "code",
   "execution_count": 7,
   "metadata": {},
   "outputs": [],
   "source": [
    "kappa = 3 * (sigma_iso - w[:,1])/omega"
   ]
  },
  {
   "cell_type": "code",
   "execution_count": 8,
   "metadata": {},
   "outputs": [
    {
     "data": {
      "text/html": [
       "<div>\n",
       "<style scoped>\n",
       "    .dataframe tbody tr th:only-of-type {\n",
       "        vertical-align: middle;\n",
       "    }\n",
       "\n",
       "    .dataframe tbody tr th {\n",
       "        vertical-align: top;\n",
       "    }\n",
       "\n",
       "    .dataframe thead th {\n",
       "        text-align: right;\n",
       "    }\n",
       "</style>\n",
       "<table border=\"1\" class=\"dataframe\">\n",
       "  <thead>\n",
       "    <tr style=\"text-align: right;\">\n",
       "      <th></th>\n",
       "      <th>molecule_name</th>\n",
       "      <th>atom_index</th>\n",
       "      <th>sigma_iso</th>\n",
       "      <th>omega</th>\n",
       "      <th>kappa</th>\n",
       "    </tr>\n",
       "  </thead>\n",
       "  <tbody>\n",
       "    <tr>\n",
       "      <th>0</th>\n",
       "      <td>dsgdb9nsd_000001</td>\n",
       "      <td>0</td>\n",
       "      <td>195.316333</td>\n",
       "      <td>0.002708</td>\n",
       "      <td>0.032697</td>\n",
       "    </tr>\n",
       "    <tr>\n",
       "      <th>1</th>\n",
       "      <td>dsgdb9nsd_000001</td>\n",
       "      <td>1</td>\n",
       "      <td>31.460567</td>\n",
       "      <td>9.082838</td>\n",
       "      <td>0.999975</td>\n",
       "    </tr>\n",
       "    <tr>\n",
       "      <th>2</th>\n",
       "      <td>dsgdb9nsd_000001</td>\n",
       "      <td>2</td>\n",
       "      <td>31.460567</td>\n",
       "      <td>9.082793</td>\n",
       "      <td>0.999984</td>\n",
       "    </tr>\n",
       "    <tr>\n",
       "      <th>3</th>\n",
       "      <td>dsgdb9nsd_000001</td>\n",
       "      <td>3</td>\n",
       "      <td>31.460633</td>\n",
       "      <td>9.082804</td>\n",
       "      <td>0.999977</td>\n",
       "    </tr>\n",
       "    <tr>\n",
       "      <th>4</th>\n",
       "      <td>dsgdb9nsd_000001</td>\n",
       "      <td>4</td>\n",
       "      <td>31.460600</td>\n",
       "      <td>9.082853</td>\n",
       "      <td>0.999971</td>\n",
       "    </tr>\n",
       "    <tr>\n",
       "      <th>5</th>\n",
       "      <td>dsgdb9nsd_000002</td>\n",
       "      <td>0</td>\n",
       "      <td>262.922667</td>\n",
       "      <td>38.139089</td>\n",
       "      <td>-0.999939</td>\n",
       "    </tr>\n",
       "    <tr>\n",
       "      <th>6</th>\n",
       "      <td>dsgdb9nsd_000002</td>\n",
       "      <td>1</td>\n",
       "      <td>32.228033</td>\n",
       "      <td>15.583995</td>\n",
       "      <td>0.825251</td>\n",
       "    </tr>\n",
       "    <tr>\n",
       "      <th>7</th>\n",
       "      <td>dsgdb9nsd_000002</td>\n",
       "      <td>2</td>\n",
       "      <td>32.228133</td>\n",
       "      <td>15.584143</td>\n",
       "      <td>0.825259</td>\n",
       "    </tr>\n",
       "    <tr>\n",
       "      <th>8</th>\n",
       "      <td>dsgdb9nsd_000002</td>\n",
       "      <td>3</td>\n",
       "      <td>32.226967</td>\n",
       "      <td>15.583030</td>\n",
       "      <td>0.825318</td>\n",
       "    </tr>\n",
       "    <tr>\n",
       "      <th>9</th>\n",
       "      <td>dsgdb9nsd_000003</td>\n",
       "      <td>0</td>\n",
       "      <td>330.008000</td>\n",
       "      <td>45.677000</td>\n",
       "      <td>0.384417</td>\n",
       "    </tr>\n",
       "  </tbody>\n",
       "</table>\n",
       "</div>"
      ],
      "text/plain": [
       "      molecule_name  atom_index   sigma_iso      omega     kappa\n",
       "0  dsgdb9nsd_000001           0  195.316333   0.002708  0.032697\n",
       "1  dsgdb9nsd_000001           1   31.460567   9.082838  0.999975\n",
       "2  dsgdb9nsd_000001           2   31.460567   9.082793  0.999984\n",
       "3  dsgdb9nsd_000001           3   31.460633   9.082804  0.999977\n",
       "4  dsgdb9nsd_000001           4   31.460600   9.082853  0.999971\n",
       "5  dsgdb9nsd_000002           0  262.922667  38.139089 -0.999939\n",
       "6  dsgdb9nsd_000002           1   32.228033  15.583995  0.825251\n",
       "7  dsgdb9nsd_000002           2   32.228133  15.584143  0.825259\n",
       "8  dsgdb9nsd_000002           3   32.226967  15.583030  0.825318\n",
       "9  dsgdb9nsd_000003           0  330.008000  45.677000  0.384417"
      ]
     },
     "execution_count": 8,
     "metadata": {},
     "output_type": "execute_result"
    }
   ],
   "source": [
    "magnetic_shielding_parameters = magnetic_shielding_tensors[magnetic_shielding_tensors.columns.values[:2]]\n",
    "magnetic_shielding_parameters = pd.DataFrame(magnetic_shielding_parameters)\n",
    "magnetic_shielding_parameters[\"sigma_iso\"] = sigma_iso\n",
    "magnetic_shielding_parameters[\"omega\"] = omega\n",
    "magnetic_shielding_parameters[\"kappa\"] = kappa\n",
    "\n",
    "magnetic_shielding_parameters.head(10)"
   ]
  },
  {
   "cell_type": "code",
   "execution_count": 9,
   "metadata": {},
   "outputs": [
    {
     "data": {
      "image/png": "[encoded data removed]",
      "text/plain": [
       "<Figure size 432x288 with 1 Axes>"
      ]
     },
     "metadata": {
      "needs_background": "light"
     },
     "output_type": "display_data"
    }
   ],
   "source": [
    "_ = magnetic_shielding_parameters.sigma_iso.hist(bins=100)"
   ]
  },
  {
   "cell_type": "code",
   "execution_count": 10,
   "metadata": {},
   "outputs": [
    {
     "data": {
      "image/png": "[encoded data removed]",
      "text/plain": [
       "<Figure size 432x288 with 1 Axes>"
      ]
     },
     "metadata": {
      "needs_background": "light"
     },
     "output_type": "display_data"
    }
   ],
   "source": [
    "_ = magnetic_shielding_parameters.omega.hist(bins=100)"
   ]
  },
  {
   "cell_type": "code",
   "execution_count": 11,
   "metadata": {},
   "outputs": [
    {
     "data": {
      "image/png": "[encoded data removed]",
      "text/plain": [
       "<Figure size 432x288 with 1 Axes>"
      ]
     },
     "metadata": {
      "needs_background": "light"
     },
     "output_type": "display_data"
    }
   ],
   "source": [
    "_ = magnetic_shielding_parameters.kappa.hist(bins=100)"
   ]
  },
  {
   "cell_type": "markdown",
   "metadata": {},
   "source": [
    "Please see LibreTexts [Chemical Shift][1] if you want to understand the meaning of the parameters.\n",
    "\n",
    "[1]: https://chem.libretexts.org/Bookshelves/Physical_and_Theoretical_Chemistry_Textbook_Maps/Supplemental_Modules_(Physical_and_Theoretical_Chemistry)/Spectroscopy/Magnetic_Resonance_Spectroscopies/Nuclear_Magnetic_Resonance/NMR%3A_Theory/NMR_Interactions/Chemical_Shift_(Shielding)"
   ]
  },
  {
   "cell_type": "markdown",
   "metadata": {},
   "source": [
    "# ASE Database"
   ]
  },
  {
   "cell_type": "code",
   "execution_count": 12,
   "metadata": {},
   "outputs": [],
   "source": [
    "train = pd.read_csv('../input/train.csv')\n",
    "train_molecule_names = train.molecule_name.unique()\n",
    "\n",
    "msp = magnetic_shielding_parameters.groupby('molecule_name')"
   ]
  },
  {
   "cell_type": "code",
   "execution_count": 13,
   "metadata": {},
   "outputs": [],
   "source": [
    "from ase import Atoms\n",
    "from ase.db import connect\n",
    "\n",
    "def create_db(db_path, molecule_names):\n",
    "    with connect(db_path) as db:\n",
    "        for name in molecule_names:\n",
    "            mol = molecules.get_group(name)\n",
    "            atoms = Atoms(symbols=mol.atom.values,\n",
    "                          positions=[(row.x,row.y,row.z) for row in mol.itertuples()])\n",
    "            try:\n",
    "                mol_msp = msp.get_group(name)\n",
    "                sigma_iso = mol_msp['sigma_iso'].values.reshape(-1,1)\n",
    "                omega = mol_msp['omega'].values.reshape(-1,1)\n",
    "                kappa = mol_msp['kappa'].values.reshape(-1,1)\n",
    "            except KeyError:\n",
    "                sigma_iso, omega, kappa = [None] * 3\n",
    "            db.write(atoms, name=name,\n",
    "                     data=dict(sigma_iso=sigma_iso, omega=omega, kappa=kappa)\n",
    "                    )"
   ]
  },
  {
   "cell_type": "code",
   "execution_count": 14,
   "metadata": {},
   "outputs": [],
   "source": [
    "champs_path = 'CHAMPS_train.db'\n",
    "dataset_size = len(train_molecule_names) # 40000\n",
    "dataset_molecule_names = train_molecule_names[:dataset_size]\n",
    "create_db(db_path=champs_path, molecule_names=dataset_molecule_names)"
   ]
  },
  {
   "cell_type": "code",
   "execution_count": 15,
   "metadata": {},
   "outputs": [
    {
     "name": "stdout",
     "output_type": "stream",
     "text": [
      "85003\n"
     ]
    }
   ],
   "source": [
    "with connect(champs_path) as db:\n",
    "    print(len(db))"
   ]
  },
  {
   "cell_type": "code",
   "execution_count": 16,
   "metadata": {},
   "outputs": [],
   "source": [
    "import schnetpack\n",
    "dataset = schnetpack.data.AtomsData(champs_path,\n",
    "                properties=['sigma_iso', 'omega', 'kappa'])"
   ]
  },
  {
   "cell_type": "code",
   "execution_count": 17,
   "metadata": {},
   "outputs": [
    {
     "data": {
      "text/plain": [
       "85003"
      ]
     },
     "execution_count": 17,
     "metadata": {},
     "output_type": "execute_result"
    }
   ],
   "source": [
    "len(dataset)"
   ]
  },
  {
   "cell_type": "markdown",
   "metadata": {},
   "source": [
    "# Shielding Parameter Prediction\n",
    "\n",
    "## SchNet Model"
   ]
  },
  {
   "cell_type": "code",
   "execution_count": 18,
   "metadata": {},
   "outputs": [],
   "source": [
    "import pandas as pd\n",
    "\n",
    "import torch\n",
    "import torch.nn.functional as F\n",
    "from torch.optim import Adam\n",
    "\n",
    "import schnetpack as spk\n",
    "import schnetpack.atomistic as atm\n",
    "import schnetpack.representation as rep\n",
    "from schnetpack.datasets import *\n",
    "\n",
    "device = torch.device(\"cuda\")"
   ]
  },
  {
   "cell_type": "code",
   "execution_count": 19,
   "metadata": {
    "_kg_hide-input": true
   },
   "outputs": [],
   "source": [
    "# This function comes from the following script:\n",
    "# https://github.com/atomistic-machine-learning/schnetpack/blob/v0.2.1/src/scripts/schnetpack_qm9.py\n",
    "def evaluate_dataset(metrics, model, loader, device):\n",
    "    for metric in metrics:\n",
    "        metric.reset()\n",
    "\n",
    "    with torch.no_grad():\n",
    "        for batch in loader:\n",
    "            batch = {\n",
    "                k: v.to(device)\n",
    "                for k, v in batch.items()\n",
    "            }\n",
    "            result = model(batch)\n",
    "\n",
    "            for metric in metrics:\n",
    "                metric.add_batch(batch, result)\n",
    "\n",
    "    results = [\n",
    "        metric.aggregate() for metric in metrics\n",
    "    ]\n",
    "    return results"
   ]
  },
  {
   "cell_type": "code",
   "execution_count": 20,
   "metadata": {},
   "outputs": [],
   "source": [
    "from schnetpack.data import Structure\n",
    "\n",
    "class MagneticShielding(atm.Atomwise):\n",
    "    def __init__(self, property):\n",
    "        super(MagneticShielding, self).__init__(return_contributions=True)\n",
    "        self.property = property\n",
    "        \n",
    "    def forward(self, inputs):\n",
    "        result = super().forward(inputs)\n",
    "        \n",
    "        atom_mask = inputs[Structure.atom_mask].byte()\n",
    "        \n",
    "        yi = inputs[self.property]\n",
    "        yi = torch.masked_select(yi.squeeze(dim=2), atom_mask)\n",
    "        inputs[self.property+'_true'] = yi\n",
    "        \n",
    "        yi = result['yi']\n",
    "        yi = torch.masked_select(yi.squeeze(dim=2), atom_mask)\n",
    "        result[self.property+'_pred'] = yi\n",
    "        \n",
    "        return result"
   ]
  },
  {
   "cell_type": "code",
   "execution_count": 21,
   "metadata": {},
   "outputs": [],
   "source": [
    "def schnet_model(property):\n",
    "    reps = rep.SchNet(n_interactions=6)\n",
    "    output = MagneticShielding(property=property)\n",
    "    model = atm.AtomisticModel(reps, output)\n",
    "    model = model.to(device)\n",
    "    return model"
   ]
  },
  {
   "cell_type": "code",
   "execution_count": 22,
   "metadata": {},
   "outputs": [],
   "source": [
    "def train_model(property, max_epochs=500):\n",
    "    # split in train and val\n",
    "    n_dataset = len(dataset)\n",
    "    n_val = n_dataset // 10\n",
    "    train_data, val_data, test_data = dataset.create_splits(n_dataset-n_val*2, n_val)\n",
    "    train_loader = spk.data.AtomsLoader(train_data, batch_size=128, num_workers=2)\n",
    "    val_loader = spk.data.AtomsLoader(val_data, batch_size=256, num_workers=2)\n",
    "\n",
    "    # create model\n",
    "    model = schnet_model(property)\n",
    "\n",
    "    # create trainer\n",
    "    target_key = property+'_true'\n",
    "    output_key = property+'_pred'\n",
    "    opt = Adam(model.parameters(), lr=1e-4)\n",
    "    loss = lambda b, p: F.mse_loss(p[output_key], b[target_key])\n",
    "    metrics = [\n",
    "        spk.metrics.MeanAbsoluteError(target_key, output_key, name='MAE_'+property),\n",
    "        spk.metrics.RootMeanSquaredError(target_key, output_key, name='RMSE_'+property),\n",
    "    ]\n",
    "    hooks = [\n",
    "        spk.train.MaxEpochHook(max_epochs),\n",
    "        spk.train.CSVHook(property+'/log', metrics, every_n_epochs=1),\n",
    "    ]\n",
    "    trainer = spk.train.Trainer(property+'/output', model, loss,\n",
    "                            opt, train_loader, val_loader, hooks=hooks)\n",
    "\n",
    "    # start training\n",
    "    trainer.train(device)\n",
    "    \n",
    "    # evaluation\n",
    "    model.load_state_dict(torch.load(property+'/output/best_model'))\n",
    "    test_loader = spk.data.AtomsLoader(test_data, batch_size=256, num_workers=2)\n",
    "    model.eval()\n",
    "\n",
    "    df = pd.DataFrame()\n",
    "    df['metric'] = ['MAE', 'RMSE']\n",
    "    df['training'] = evaluate_dataset(metrics, model, train_loader, device)\n",
    "    df['validation'] = evaluate_dataset(metrics, model, val_loader, device)\n",
    "    df['test'] = evaluate_dataset(metrics, model, test_loader, device)\n",
    "    display(df)\n",
    "    \n",
    "    return test_data"
   ]
  },
  {
   "cell_type": "code",
   "execution_count": 23,
   "metadata": {},
   "outputs": [],
   "source": [
    "def show_history(property):\n",
    "    df = pd.read_csv(property+'/log/log.csv')\n",
    "    display(df.tail())\n",
    "    max_value = None # df['RMSE_'+property].min()*5\n",
    "    _ = df[['MAE_'+property,'RMSE_'+property]].plot(ylim=(0,max_value))"
   ]
  },
  {
   "cell_type": "code",
   "execution_count": 24,
   "metadata": {},
   "outputs": [],
   "source": [
    "def test_prediction(dataset, property):\n",
    "    # create model\n",
    "    model = schnet_model(property)\n",
    "    \n",
    "    # load best parameters\n",
    "    model.load_state_dict(torch.load(property+'/output/best_model'))\n",
    "    loader = spk.data.AtomsLoader(dataset, batch_size=256, num_workers=2)\n",
    "    model.eval()\n",
    "    \n",
    "    # predict shielding parameters\n",
    "    targets = []\n",
    "    predictions = []\n",
    "    with torch.no_grad():\n",
    "        for batch in loader:\n",
    "            batch = {\n",
    "                k: v.to(device)\n",
    "                for k, v in batch.items()\n",
    "            }\n",
    "            result = model(batch)\n",
    "            targets += batch[property+'_true'].tolist()\n",
    "            predictions += result[property+'_pred'].tolist()\n",
    "    return targets, predictions"
   ]
  },
  {
   "cell_type": "code",
   "execution_count": 25,
   "metadata": {},
   "outputs": [],
   "source": [
    "def show_predictions(dataset, property):\n",
    "    targets, predictions = test_prediction(dataset, property)\n",
    "    df_pred = pd.DataFrame()\n",
    "    df_pred['Target'] = targets\n",
    "    df_pred['Prediction'] = predictions\n",
    "    df_pred.plot.scatter(x='Target', y='Prediction', title=property)"
   ]
  },
  {
   "cell_type": "markdown",
   "metadata": {},
   "source": [
    "## Results"
   ]
  },
  {
   "cell_type": "code",
   "execution_count": 26,
   "metadata": {},
   "outputs": [
    {
     "name": "stdout",
     "output_type": "stream",
     "text": [
      "sigma_iso\n"
     ]
    },
    {
     "data": {
      "text/html": [
       "<div>\n",
       "<style scoped>\n",
       "    .dataframe tbody tr th:only-of-type {\n",
       "        vertical-align: middle;\n",
       "    }\n",
       "\n",
       "    .dataframe tbody tr th {\n",
       "        vertical-align: top;\n",
       "    }\n",
       "\n",
       "    .dataframe thead th {\n",
       "        text-align: right;\n",
       "    }\n",
       "</style>\n",
       "<table border=\"1\" class=\"dataframe\">\n",
       "  <thead>\n",
       "    <tr style=\"text-align: right;\">\n",
       "      <th></th>\n",
       "      <th>metric</th>\n",
       "      <th>training</th>\n",
       "      <th>validation</th>\n",
       "      <th>test</th>\n",
       "    </tr>\n",
       "  </thead>\n",
       "  <tbody>\n",
       "    <tr>\n",
       "      <th>0</th>\n",
       "      <td>MAE</td>\n",
       "      <td>2.046518</td>\n",
       "      <td>2.111925</td>\n",
       "      <td>2.116055</td>\n",
       "    </tr>\n",
       "    <tr>\n",
       "      <th>1</th>\n",
       "      <td>RMSE</td>\n",
       "      <td>3.731469</td>\n",
       "      <td>3.936002</td>\n",
       "      <td>4.015504</td>\n",
       "    </tr>\n",
       "  </tbody>\n",
       "</table>\n",
       "</div>"
      ],
      "text/plain": [
       "  metric  training  validation      test\n",
       "0    MAE  2.046518    2.111925  2.116055\n",
       "1   RMSE  3.731469    3.936002  4.015504"
      ]
     },
     "metadata": {},
     "output_type": "display_data"
    },
    {
     "data": {
      "text/html": [
       "<div>\n",
       "<style scoped>\n",
       "    .dataframe tbody tr th:only-of-type {\n",
       "        vertical-align: middle;\n",
       "    }\n",
       "\n",
       "    .dataframe tbody tr th {\n",
       "        vertical-align: top;\n",
       "    }\n",
       "\n",
       "    .dataframe thead th {\n",
       "        text-align: right;\n",
       "    }\n",
       "</style>\n",
       "<table border=\"1\" class=\"dataframe\">\n",
       "  <thead>\n",
       "    <tr style=\"text-align: right;\">\n",
       "      <th></th>\n",
       "      <th>Time</th>\n",
       "      <th>Learning rate</th>\n",
       "      <th>Train loss</th>\n",
       "      <th>Validation loss</th>\n",
       "      <th>MAE_sigma_iso</th>\n",
       "      <th>RMSE_sigma_iso</th>\n",
       "    </tr>\n",
       "  </thead>\n",
       "  <tbody>\n",
       "    <tr>\n",
       "      <th>45</th>\n",
       "      <td>6043.529082</td>\n",
       "      <td>0.0001</td>\n",
       "      <td>7776.875316</td>\n",
       "      <td>16.532727</td>\n",
       "      <td>2.172407</td>\n",
       "      <td>4.065472</td>\n",
       "    </tr>\n",
       "    <tr>\n",
       "      <th>46</th>\n",
       "      <td>6172.649855</td>\n",
       "      <td>0.0001</td>\n",
       "      <td>7568.079619</td>\n",
       "      <td>16.549308</td>\n",
       "      <td>2.166143</td>\n",
       "      <td>4.067497</td>\n",
       "    </tr>\n",
       "    <tr>\n",
       "      <th>47</th>\n",
       "      <td>6302.216534</td>\n",
       "      <td>0.0001</td>\n",
       "      <td>7381.959784</td>\n",
       "      <td>16.359101</td>\n",
       "      <td>2.153676</td>\n",
       "      <td>4.044051</td>\n",
       "    </tr>\n",
       "    <tr>\n",
       "      <th>48</th>\n",
       "      <td>6431.600644</td>\n",
       "      <td>0.0001</td>\n",
       "      <td>7203.506982</td>\n",
       "      <td>16.051945</td>\n",
       "      <td>2.139333</td>\n",
       "      <td>4.005907</td>\n",
       "    </tr>\n",
       "    <tr>\n",
       "      <th>49</th>\n",
       "      <td>6562.511370</td>\n",
       "      <td>0.0001</td>\n",
       "      <td>7034.738407</td>\n",
       "      <td>15.496548</td>\n",
       "      <td>2.111925</td>\n",
       "      <td>3.936002</td>\n",
       "    </tr>\n",
       "  </tbody>\n",
       "</table>\n",
       "</div>"
      ],
      "text/plain": [
       "           Time  Learning rate       ...        MAE_sigma_iso  RMSE_sigma_iso\n",
       "45  6043.529082         0.0001       ...             2.172407        4.065472\n",
       "46  6172.649855         0.0001       ...             2.166143        4.067497\n",
       "47  6302.216534         0.0001       ...             2.153676        4.044051\n",
       "48  6431.600644         0.0001       ...             2.139333        4.005907\n",
       "49  6562.511370         0.0001       ...             2.111925        3.936002\n",
       "\n",
       "[5 rows x 6 columns]"
      ]
     },
     "metadata": {},
     "output_type": "display_data"
    },
    {
     "name": "stdout",
     "output_type": "stream",
     "text": [
      "omega\n"
     ]
    },
    {
     "data": {
      "text/html": [
       "<div>\n",
       "<style scoped>\n",
       "    .dataframe tbody tr th:only-of-type {\n",
       "        vertical-align: middle;\n",
       "    }\n",
       "\n",
       "    .dataframe tbody tr th {\n",
       "        vertical-align: top;\n",
       "    }\n",
       "\n",
       "    .dataframe thead th {\n",
       "        text-align: right;\n",
       "    }\n",
       "</style>\n",
       "<table border=\"1\" class=\"dataframe\">\n",
       "  <thead>\n",
       "    <tr style=\"text-align: right;\">\n",
       "      <th></th>\n",
       "      <th>metric</th>\n",
       "      <th>training</th>\n",
       "      <th>validation</th>\n",
       "      <th>test</th>\n",
       "    </tr>\n",
       "  </thead>\n",
       "  <tbody>\n",
       "    <tr>\n",
       "      <th>0</th>\n",
       "      <td>MAE</td>\n",
       "      <td>5.708259</td>\n",
       "      <td>5.863465</td>\n",
       "      <td>5.825453</td>\n",
       "    </tr>\n",
       "    <tr>\n",
       "      <th>1</th>\n",
       "      <td>RMSE</td>\n",
       "      <td>10.559502</td>\n",
       "      <td>10.936170</td>\n",
       "      <td>10.915119</td>\n",
       "    </tr>\n",
       "  </tbody>\n",
       "</table>\n",
       "</div>"
      ],
      "text/plain": [
       "  metric   training  validation       test\n",
       "0    MAE   5.708259    5.863465   5.825453\n",
       "1   RMSE  10.559502   10.936170  10.915119"
      ]
     },
     "metadata": {},
     "output_type": "display_data"
    },
    {
     "data": {
      "text/html": [
       "<div>\n",
       "<style scoped>\n",
       "    .dataframe tbody tr th:only-of-type {\n",
       "        vertical-align: middle;\n",
       "    }\n",
       "\n",
       "    .dataframe tbody tr th {\n",
       "        vertical-align: top;\n",
       "    }\n",
       "\n",
       "    .dataframe thead th {\n",
       "        text-align: right;\n",
       "    }\n",
       "</style>\n",
       "<table border=\"1\" class=\"dataframe\">\n",
       "  <thead>\n",
       "    <tr style=\"text-align: right;\">\n",
       "      <th></th>\n",
       "      <th>Time</th>\n",
       "      <th>Learning rate</th>\n",
       "      <th>Train loss</th>\n",
       "      <th>Validation loss</th>\n",
       "      <th>MAE_omega</th>\n",
       "      <th>RMSE_omega</th>\n",
       "    </tr>\n",
       "  </thead>\n",
       "  <tbody>\n",
       "    <tr>\n",
       "      <th>45</th>\n",
       "      <td>5982.046887</td>\n",
       "      <td>0.0001</td>\n",
       "      <td>68096.943649</td>\n",
       "      <td>132.638711</td>\n",
       "      <td>6.121336</td>\n",
       "      <td>11.513058</td>\n",
       "    </tr>\n",
       "    <tr>\n",
       "      <th>46</th>\n",
       "      <td>6110.284701</td>\n",
       "      <td>0.0001</td>\n",
       "      <td>66448.167877</td>\n",
       "      <td>129.544911</td>\n",
       "      <td>6.046933</td>\n",
       "      <td>11.378070</td>\n",
       "    </tr>\n",
       "    <tr>\n",
       "      <th>47</th>\n",
       "      <td>6238.524040</td>\n",
       "      <td>0.0001</td>\n",
       "      <td>65470.753624</td>\n",
       "      <td>129.073700</td>\n",
       "      <td>6.019260</td>\n",
       "      <td>11.357393</td>\n",
       "    </tr>\n",
       "    <tr>\n",
       "      <th>48</th>\n",
       "      <td>6366.484609</td>\n",
       "      <td>0.0001</td>\n",
       "      <td>64346.687141</td>\n",
       "      <td>119.685873</td>\n",
       "      <td>5.863465</td>\n",
       "      <td>10.936170</td>\n",
       "    </tr>\n",
       "    <tr>\n",
       "      <th>49</th>\n",
       "      <td>6495.774028</td>\n",
       "      <td>0.0001</td>\n",
       "      <td>63284.275070</td>\n",
       "      <td>123.950122</td>\n",
       "      <td>5.892435</td>\n",
       "      <td>11.129769</td>\n",
       "    </tr>\n",
       "  </tbody>\n",
       "</table>\n",
       "</div>"
      ],
      "text/plain": [
       "           Time  Learning rate     ...      MAE_omega  RMSE_omega\n",
       "45  5982.046887         0.0001     ...       6.121336   11.513058\n",
       "46  6110.284701         0.0001     ...       6.046933   11.378070\n",
       "47  6238.524040         0.0001     ...       6.019260   11.357393\n",
       "48  6366.484609         0.0001     ...       5.863465   10.936170\n",
       "49  6495.774028         0.0001     ...       5.892435   11.129769\n",
       "\n",
       "[5 rows x 6 columns]"
      ]
     },
     "metadata": {},
     "output_type": "display_data"
    },
    {
     "name": "stdout",
     "output_type": "stream",
     "text": [
      "kappa\n"
     ]
    },
    {
     "data": {
      "text/html": [
       "<div>\n",
       "<style scoped>\n",
       "    .dataframe tbody tr th:only-of-type {\n",
       "        vertical-align: middle;\n",
       "    }\n",
       "\n",
       "    .dataframe tbody tr th {\n",
       "        vertical-align: top;\n",
       "    }\n",
       "\n",
       "    .dataframe thead th {\n",
       "        text-align: right;\n",
       "    }\n",
       "</style>\n",
       "<table border=\"1\" class=\"dataframe\">\n",
       "  <thead>\n",
       "    <tr style=\"text-align: right;\">\n",
       "      <th></th>\n",
       "      <th>metric</th>\n",
       "      <th>training</th>\n",
       "      <th>validation</th>\n",
       "      <th>test</th>\n",
       "    </tr>\n",
       "  </thead>\n",
       "  <tbody>\n",
       "    <tr>\n",
       "      <th>0</th>\n",
       "      <td>MAE</td>\n",
       "      <td>0.100739</td>\n",
       "      <td>0.105464</td>\n",
       "      <td>0.104602</td>\n",
       "    </tr>\n",
       "    <tr>\n",
       "      <th>1</th>\n",
       "      <td>RMSE</td>\n",
       "      <td>0.146245</td>\n",
       "      <td>0.153869</td>\n",
       "      <td>0.152886</td>\n",
       "    </tr>\n",
       "  </tbody>\n",
       "</table>\n",
       "</div>"
      ],
      "text/plain": [
       "  metric  training  validation      test\n",
       "0    MAE  0.100739    0.105464  0.104602\n",
       "1   RMSE  0.146245    0.153869  0.152886"
      ]
     },
     "metadata": {},
     "output_type": "display_data"
    },
    {
     "data": {
      "text/html": [
       "<div>\n",
       "<style scoped>\n",
       "    .dataframe tbody tr th:only-of-type {\n",
       "        vertical-align: middle;\n",
       "    }\n",
       "\n",
       "    .dataframe tbody tr th {\n",
       "        vertical-align: top;\n",
       "    }\n",
       "\n",
       "    .dataframe thead th {\n",
       "        text-align: right;\n",
       "    }\n",
       "</style>\n",
       "<table border=\"1\" class=\"dataframe\">\n",
       "  <thead>\n",
       "    <tr style=\"text-align: right;\">\n",
       "      <th></th>\n",
       "      <th>Time</th>\n",
       "      <th>Learning rate</th>\n",
       "      <th>Train loss</th>\n",
       "      <th>Validation loss</th>\n",
       "      <th>MAE_kappa</th>\n",
       "      <th>RMSE_kappa</th>\n",
       "    </tr>\n",
       "  </thead>\n",
       "  <tbody>\n",
       "    <tr>\n",
       "      <th>45</th>\n",
       "      <td>5973.228064</td>\n",
       "      <td>0.0001</td>\n",
       "      <td>12.144951</td>\n",
       "      <td>0.024540</td>\n",
       "      <td>0.107687</td>\n",
       "      <td>0.156651</td>\n",
       "    </tr>\n",
       "    <tr>\n",
       "      <th>46</th>\n",
       "      <td>6098.157603</td>\n",
       "      <td>0.0001</td>\n",
       "      <td>12.006018</td>\n",
       "      <td>0.024314</td>\n",
       "      <td>0.107107</td>\n",
       "      <td>0.155930</td>\n",
       "    </tr>\n",
       "    <tr>\n",
       "      <th>47</th>\n",
       "      <td>6223.378733</td>\n",
       "      <td>0.0001</td>\n",
       "      <td>11.870471</td>\n",
       "      <td>0.024095</td>\n",
       "      <td>0.106544</td>\n",
       "      <td>0.155226</td>\n",
       "    </tr>\n",
       "    <tr>\n",
       "      <th>48</th>\n",
       "      <td>6347.009536</td>\n",
       "      <td>0.0001</td>\n",
       "      <td>11.738202</td>\n",
       "      <td>0.023883</td>\n",
       "      <td>0.105996</td>\n",
       "      <td>0.154539</td>\n",
       "    </tr>\n",
       "    <tr>\n",
       "      <th>49</th>\n",
       "      <td>6469.867298</td>\n",
       "      <td>0.0001</td>\n",
       "      <td>11.609109</td>\n",
       "      <td>0.023676</td>\n",
       "      <td>0.105464</td>\n",
       "      <td>0.153869</td>\n",
       "    </tr>\n",
       "  </tbody>\n",
       "</table>\n",
       "</div>"
      ],
      "text/plain": [
       "           Time  Learning rate     ...      MAE_kappa  RMSE_kappa\n",
       "45  5973.228064         0.0001     ...       0.107687    0.156651\n",
       "46  6098.157603         0.0001     ...       0.107107    0.155930\n",
       "47  6223.378733         0.0001     ...       0.106544    0.155226\n",
       "48  6347.009536         0.0001     ...       0.105996    0.154539\n",
       "49  6469.867298         0.0001     ...       0.105464    0.153869\n",
       "\n",
       "[5 rows x 6 columns]"
      ]
     },
     "metadata": {},
     "output_type": "display_data"
    },
    {
     "data": {
      "image/png": "[encoded data removed]",
      "text/plain": [
       "<Figure size 432x288 with 1 Axes>"
      ]
     },
     "metadata": {
      "needs_background": "light"
     },
     "output_type": "display_data"
    },
    {
     "data": {
      "image/png": "[encoded data removed]",
      "text/plain": [
       "<Figure size 432x288 with 1 Axes>"
      ]
     },
     "metadata": {
      "needs_background": "light"
     },
     "output_type": "display_data"
    },
    {
     "data": {
      "image/png": "[encoded data removed]",
      "text/plain": [
       "<Figure size 432x288 with 1 Axes>"
      ]
     },
     "metadata": {
      "needs_background": "light"
     },
     "output_type": "display_data"
    }
   ],
   "source": [
    "used_test_data = dict()\n",
    "for p in ['sigma_iso', 'omega', 'kappa']:\n",
    "    print(p)\n",
    "    used_test_data[p] = train_model(p, max_epochs=50)\n",
    "    show_history(p)"
   ]
  },
  {
   "cell_type": "code",
   "execution_count": 27,
   "metadata": {},
   "outputs": [
    {
     "data": {
      "image/png": "[encoded data removed]",
      "text/plain": [
       "<Figure size 432x288 with 1 Axes>"
      ]
     },
     "metadata": {
      "needs_background": "light"
     },
     "output_type": "display_data"
    },
    {
     "data": {
      "image/png": "[encoded data removed]",
      "text/plain": [
       "<Figure size 432x288 with 1 Axes>"
      ]
     },
     "metadata": {
      "needs_background": "light"
     },
     "output_type": "display_data"
    },
    {
     "data": {
      "image/png": "[encoded data removed]",
      "text/plain": [
       "<Figure size 432x288 with 1 Axes>"
      ]
     },
     "metadata": {
      "needs_background": "light"
     },
     "output_type": "display_data"
    }
   ],
   "source": [
    "for p in ['sigma_iso', 'omega', 'kappa']:\n",
    "    show_predictions(used_test_data[p], p)"
   ]
  },
  {
   "cell_type": "code",
   "execution_count": 28,
   "metadata": {
    "_kg_hide-input": true,
    "_kg_hide-output": true
   },
   "outputs": [],
   "source": [
    "!mv kappa/log/log.csv log_kappa.csv\n",
    "!mv omega/log/log.csv log_omega.csv\n",
    "!mv sigma_iso/log/log.csv log_sigma_iso.csv\n",
    "!mv kappa/output/best_model best_model_kappa\n",
    "!mv omega/output/best_model best_model_omega\n",
    "!mv sigma_iso/output/best_model best_model_sigma_iso\n",
    "!rm -r kappa\n",
    "!rm -r omega\n",
    "!rm -r sigma_iso"
   ]
  },
  {
   "cell_type": "code",
   "execution_count": 29,
   "metadata": {},
   "outputs": [
    {
     "name": "stdout",
     "output_type": "stream",
     "text": [
      "CHAMPS_train.db     best_model_kappa\t  log_kappa.csv\r\n",
      "__notebook__.ipynb  best_model_omega\t  log_omega.csv\r\n",
      "__output__.json     best_model_sigma_iso  log_sigma_iso.csv\r\n"
     ]
    }
   ],
   "source": [
    "!ls"
   ]
  }
 ],
 "metadata": {
  "kernelspec": {
   "display_name": "Python 3",
   "language": "python",
   "name": "python3"
  },
  "language_info": {
   "codemirror_mode": {
    "name": "ipython",
    "version": 3
   },
   "file_extension": ".py",
   "mimetype": "text/x-python",
   "name": "python",
   "nbconvert_exporter": "python",
   "pygments_lexer": "ipython3",
   "version": "3.6.6"
  }
 },
 "nbformat": 4,
 "nbformat_minor": 1
}
