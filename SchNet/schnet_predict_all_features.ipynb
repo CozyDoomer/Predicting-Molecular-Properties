{
 "cells": [
  {
   "cell_type": "markdown",
   "metadata": {},
   "source": [
    "This kernel presents how to build an ASE database from CHAMPS data and create a dataset, and then uses it for molecular property predictions.\n",
    "\n",
    "First, please see an SchNet tutorial on QM9:\n",
    "\n",
    "[SchNet QM9](https://www.kaggle.com/tonyyy/schnet-qm9)\n",
    "\n",
    "which contains references of the SchNet architecture.\n",
    "\n",
    "This kernel uses only potential energies and dipole moments in CHAMPS data. Mulliken charges and magnetic shielding tensors are used in the following kernels:\n",
    "* [SchNet Mulliken Charges](https://www.kaggle.com/tonyyy/schnet-mulliken-charges)\n",
    "* [SchNet Magnetic Shielding](https://www.kaggle.com/tonyyy/schnet-magnetic-shielding)"
   ]
  },
  {
   "cell_type": "code",
   "execution_count": 1,
   "metadata": {
    "_kg_hide-input": true
   },
   "outputs": [
    {
     "name": "stdout",
     "output_type": "stream",
     "text": [
      "dataframes\t\t\t   split\r\n",
      "dipole_moments.csv\t\t   structures\r\n",
      "external_data\t\t\t   structures.csv\r\n",
      "graphs\t\t\t\t   structures.zip\r\n",
      "magnetic_shielding_tensors.csv\t   subs\r\n",
      "mulliken_charges.csv\t\t   test.csv\r\n",
      "potential_energy.csv\t\t   test_oof_fc.csv\r\n",
      "sample_submission.csv\t\t   train.csv\r\n",
      "scalar_coupling_contributions.csv  train_oof_fc.csv\r\n"
     ]
    }
   ],
   "source": [
    "!ls ../../../data"
   ]
  },
  {
   "cell_type": "markdown",
   "metadata": {},
   "source": [
    "# CHAMPS data"
   ]
  },
  {
   "cell_type": "code",
   "execution_count": 2,
   "metadata": {},
   "outputs": [],
   "source": [
    "import numpy as np\n",
    "import pandas as pd"
   ]
  },
  {
   "cell_type": "code",
   "execution_count": 3,
   "metadata": {},
   "outputs": [],
   "source": [
    "path='../../../data/'\n",
    "molecules = pd.read_csv(path + 'structures.csv')\n",
    "molecules = molecules.groupby('molecule_name')\n",
    "energies = pd.read_csv(path + 'potential_energy.csv')\n",
    "magnetic_shielding = pd.read_csv(path + 'magnetic_shielding_tensors.csv')\n",
    "mulliken_charges = pd.read_csv(path + 'mulliken_charges.csv')\n",
    "dipoles = pd.read_csv(path + 'dipole_moments.csv')"
   ]
  },
  {
   "cell_type": "code",
   "execution_count": 4,
   "metadata": {},
   "outputs": [],
   "source": [
    "dipoles['scalar'] = np.sqrt(np.square(dipoles[['X', 'Y', 'Z']]).sum(axis=1))"
   ]
  },
  {
   "cell_type": "markdown",
   "metadata": {},
   "source": [
    "The total number of molecules:"
   ]
  },
  {
   "cell_type": "code",
   "execution_count": 5,
   "metadata": {},
   "outputs": [
    {
     "data": {
      "text/plain": [
       "130775"
      ]
     },
     "execution_count": 5,
     "metadata": {},
     "output_type": "execute_result"
    }
   ],
   "source": [
    "molecules.ngroups"
   ]
  },
  {
   "cell_type": "markdown",
   "metadata": {},
   "source": [
    "### Mulliken Charges"
   ]
  },
  {
   "cell_type": "code",
   "execution_count": 6,
   "metadata": {},
   "outputs": [
    {
     "data": {
      "text/plain": [
       "count    1.533537e+06\n",
       "mean    -2.256222e-10\n",
       "std      2.254392e-01\n",
       "min     -7.334500e-01\n",
       "25%     -1.915330e-01\n",
       "50%      9.867800e-02\n",
       "75%      1.273960e-01\n",
       "max      7.289810e-01\n",
       "Name: mulliken_charge, dtype: float64"
      ]
     },
     "execution_count": 6,
     "metadata": {},
     "output_type": "execute_result"
    }
   ],
   "source": [
    "mulliken_charges.mulliken_charge.describe()"
   ]
  },
  {
   "cell_type": "code",
   "execution_count": 7,
   "metadata": {},
   "outputs": [
    {
     "data": {
      "text/plain": [
       "<matplotlib.axes._subplots.AxesSubplot at 0x7efd1a6035f8>"
      ]
     },
     "execution_count": 7,
     "metadata": {},
     "output_type": "execute_result"
    }
   ],
   "source": [
    "mulliken_charges.mulliken_charge.hist(bins=50)"
   ]
  },
  {
   "cell_type": "code",
   "execution_count": 8,
   "metadata": {},
   "outputs": [],
   "source": [
    "mulliken_charges = mulliken_charges.groupby('molecule_name')"
   ]
  },
  {
   "cell_type": "code",
   "execution_count": 9,
   "metadata": {},
   "outputs": [
    {
     "data": {
      "text/html": [
       "<div>\n",
       "<style scoped>\n",
       "    .dataframe tbody tr th:only-of-type {\n",
       "        vertical-align: middle;\n",
       "    }\n",
       "\n",
       "    .dataframe tbody tr th {\n",
       "        vertical-align: top;\n",
       "    }\n",
       "\n",
       "    .dataframe thead th {\n",
       "        text-align: right;\n",
       "    }\n",
       "</style>\n",
       "<table border=\"1\" class=\"dataframe\">\n",
       "  <thead>\n",
       "    <tr style=\"text-align: right;\">\n",
       "      <th></th>\n",
       "      <th>molecule_name</th>\n",
       "      <th>atom_index</th>\n",
       "      <th>mulliken_charge</th>\n",
       "    </tr>\n",
       "  </thead>\n",
       "  <tbody>\n",
       "    <tr>\n",
       "      <th>9</th>\n",
       "      <td>dsgdb9nsd_000003</td>\n",
       "      <td>0</td>\n",
       "      <td>-0.589706</td>\n",
       "    </tr>\n",
       "    <tr>\n",
       "      <th>10</th>\n",
       "      <td>dsgdb9nsd_000003</td>\n",
       "      <td>1</td>\n",
       "      <td>0.294853</td>\n",
       "    </tr>\n",
       "    <tr>\n",
       "      <th>11</th>\n",
       "      <td>dsgdb9nsd_000003</td>\n",
       "      <td>2</td>\n",
       "      <td>0.294853</td>\n",
       "    </tr>\n",
       "  </tbody>\n",
       "</table>\n",
       "</div>"
      ],
      "text/plain": [
       "       molecule_name  atom_index  mulliken_charge\n",
       "9   dsgdb9nsd_000003           0        -0.589706\n",
       "10  dsgdb9nsd_000003           1         0.294853\n",
       "11  dsgdb9nsd_000003           2         0.294853"
      ]
     },
     "execution_count": 9,
     "metadata": {},
     "output_type": "execute_result"
    }
   ],
   "source": [
    "mulliken_charges.get_group('dsgdb9nsd_000003')"
   ]
  },
  {
   "cell_type": "code",
   "execution_count": 10,
   "metadata": {},
   "outputs": [
    {
     "data": {
      "text/plain": [
       "0.0"
      ]
     },
     "execution_count": 10,
     "metadata": {},
     "output_type": "execute_result"
    }
   ],
   "source": [
    "mulliken_charges.get_group('dsgdb9nsd_000003').mulliken_charge.sum()"
   ]
  },
  {
   "cell_type": "markdown",
   "metadata": {},
   "source": [
    "### Magnetic Shielding Tensors"
   ]
  },
  {
   "cell_type": "code",
   "execution_count": 11,
   "metadata": {},
   "outputs": [],
   "source": [
    "x = magnetic_shielding.columns.values[2:]\n",
    "x = magnetic_shielding[x].values\n",
    "x = x.reshape(-1,3,3)\n",
    "x = x + np.transpose(x,(0,2,1))\n",
    "x = 0.5 * x\n",
    "w, v = np.linalg.eigh(x)"
   ]
  },
  {
   "cell_type": "code",
   "execution_count": 12,
   "metadata": {},
   "outputs": [],
   "source": [
    "sigma_iso = np.sum(w, axis=1)/3 "
   ]
  },
  {
   "cell_type": "code",
   "execution_count": 13,
   "metadata": {},
   "outputs": [],
   "source": [
    "omega = w[:,2] - w[:,0]"
   ]
  },
  {
   "cell_type": "code",
   "execution_count": 14,
   "metadata": {},
   "outputs": [],
   "source": [
    "kappa = 3 * (sigma_iso - w[:,1])/omega"
   ]
  },
  {
   "cell_type": "code",
   "execution_count": 15,
   "metadata": {},
   "outputs": [
    {
     "data": {
      "text/html": [
       "<div>\n",
       "<style scoped>\n",
       "    .dataframe tbody tr th:only-of-type {\n",
       "        vertical-align: middle;\n",
       "    }\n",
       "\n",
       "    .dataframe tbody tr th {\n",
       "        vertical-align: top;\n",
       "    }\n",
       "\n",
       "    .dataframe thead th {\n",
       "        text-align: right;\n",
       "    }\n",
       "</style>\n",
       "<table border=\"1\" class=\"dataframe\">\n",
       "  <thead>\n",
       "    <tr style=\"text-align: right;\">\n",
       "      <th></th>\n",
       "      <th>molecule_name</th>\n",
       "      <th>atom_index</th>\n",
       "      <th>sigma_iso</th>\n",
       "      <th>omega</th>\n",
       "      <th>kappa</th>\n",
       "    </tr>\n",
       "  </thead>\n",
       "  <tbody>\n",
       "    <tr>\n",
       "      <th>0</th>\n",
       "      <td>dsgdb9nsd_000001</td>\n",
       "      <td>0</td>\n",
       "      <td>195.316333</td>\n",
       "      <td>0.002708</td>\n",
       "      <td>0.032697</td>\n",
       "    </tr>\n",
       "    <tr>\n",
       "      <th>1</th>\n",
       "      <td>dsgdb9nsd_000001</td>\n",
       "      <td>1</td>\n",
       "      <td>31.460567</td>\n",
       "      <td>9.082838</td>\n",
       "      <td>0.999975</td>\n",
       "    </tr>\n",
       "    <tr>\n",
       "      <th>2</th>\n",
       "      <td>dsgdb9nsd_000001</td>\n",
       "      <td>2</td>\n",
       "      <td>31.460567</td>\n",
       "      <td>9.082793</td>\n",
       "      <td>0.999984</td>\n",
       "    </tr>\n",
       "    <tr>\n",
       "      <th>3</th>\n",
       "      <td>dsgdb9nsd_000001</td>\n",
       "      <td>3</td>\n",
       "      <td>31.460633</td>\n",
       "      <td>9.082804</td>\n",
       "      <td>0.999977</td>\n",
       "    </tr>\n",
       "    <tr>\n",
       "      <th>4</th>\n",
       "      <td>dsgdb9nsd_000001</td>\n",
       "      <td>4</td>\n",
       "      <td>31.460600</td>\n",
       "      <td>9.082853</td>\n",
       "      <td>0.999971</td>\n",
       "    </tr>\n",
       "  </tbody>\n",
       "</table>\n",
       "</div>"
      ],
      "text/plain": [
       "      molecule_name  atom_index   sigma_iso     omega     kappa\n",
       "0  dsgdb9nsd_000001           0  195.316333  0.002708  0.032697\n",
       "1  dsgdb9nsd_000001           1   31.460567  9.082838  0.999975\n",
       "2  dsgdb9nsd_000001           2   31.460567  9.082793  0.999984\n",
       "3  dsgdb9nsd_000001           3   31.460633  9.082804  0.999977\n",
       "4  dsgdb9nsd_000001           4   31.460600  9.082853  0.999971"
      ]
     },
     "execution_count": 15,
     "metadata": {},
     "output_type": "execute_result"
    }
   ],
   "source": [
    "magnetic_shielding_parameters = magnetic_shielding[magnetic_shielding.columns.values[:2]]\n",
    "magnetic_shielding_parameters = pd.DataFrame(magnetic_shielding_parameters)\n",
    "magnetic_shielding_parameters[\"sigma_iso\"] = sigma_iso\n",
    "magnetic_shielding_parameters[\"omega\"] = omega\n",
    "magnetic_shielding_parameters[\"kappa\"] = kappa\n",
    "\n",
    "magnetic_shielding_parameters.head()"
   ]
  },
  {
   "cell_type": "code",
   "execution_count": 16,
   "metadata": {},
   "outputs": [
    {
     "data": {
      "image/png": "[encoded data removed]",
      "text/plain": [
       "<Figure size 432x288 with 1 Axes>"
      ]
     },
     "metadata": {
      "needs_background": "light"
     },
     "output_type": "display_data"
    }
   ],
   "source": [
    "_ = magnetic_shielding_parameters.sigma_iso.hist(bins=100)"
   ]
  },
  {
   "cell_type": "code",
   "execution_count": 17,
   "metadata": {},
   "outputs": [
    {
     "data": {
      "image/png": "[encoded data removed]",
      "text/plain": [
       "<Figure size 432x288 with 1 Axes>"
      ]
     },
     "metadata": {
      "needs_background": "light"
     },
     "output_type": "display_data"
    }
   ],
   "source": [
    "_ = magnetic_shielding_parameters.omega.hist(bins=100)"
   ]
  },
  {
   "cell_type": "code",
   "execution_count": 18,
   "metadata": {},
   "outputs": [
    {
     "data": {
      "image/png": "[encoded data removed]",
      "text/plain": [
       "<Figure size 432x288 with 1 Axes>"
      ]
     },
     "metadata": {
      "needs_background": "light"
     },
     "output_type": "display_data"
    }
   ],
   "source": [
    "_ = magnetic_shielding_parameters.kappa.hist(bins=100)"
   ]
  },
  {
   "cell_type": "code",
   "execution_count": 19,
   "metadata": {},
   "outputs": [],
   "source": [
    "msp = magnetic_shielding_parameters.groupby('molecule_name')"
   ]
  },
  {
   "cell_type": "markdown",
   "metadata": {},
   "source": [
    "### Potential Energy"
   ]
  },
  {
   "cell_type": "code",
   "execution_count": 20,
   "metadata": {},
   "outputs": [
    {
     "data": {
      "text/html": [
       "<div>\n",
       "<style scoped>\n",
       "    .dataframe tbody tr th:only-of-type {\n",
       "        vertical-align: middle;\n",
       "    }\n",
       "\n",
       "    .dataframe tbody tr th {\n",
       "        vertical-align: top;\n",
       "    }\n",
       "\n",
       "    .dataframe thead th {\n",
       "        text-align: right;\n",
       "    }\n",
       "</style>\n",
       "<table border=\"1\" class=\"dataframe\">\n",
       "  <thead>\n",
       "    <tr style=\"text-align: right;\">\n",
       "      <th></th>\n",
       "      <th>molecule_name</th>\n",
       "      <th>potential_energy</th>\n",
       "    </tr>\n",
       "  </thead>\n",
       "  <tbody>\n",
       "    <tr>\n",
       "      <th>0</th>\n",
       "      <td>dsgdb9nsd_000001</td>\n",
       "      <td>-40.52368</td>\n",
       "    </tr>\n",
       "    <tr>\n",
       "      <th>1</th>\n",
       "      <td>dsgdb9nsd_000002</td>\n",
       "      <td>-56.56025</td>\n",
       "    </tr>\n",
       "    <tr>\n",
       "      <th>2</th>\n",
       "      <td>dsgdb9nsd_000003</td>\n",
       "      <td>-76.42608</td>\n",
       "    </tr>\n",
       "    <tr>\n",
       "      <th>3</th>\n",
       "      <td>dsgdb9nsd_000005</td>\n",
       "      <td>-93.42849</td>\n",
       "    </tr>\n",
       "    <tr>\n",
       "      <th>4</th>\n",
       "      <td>dsgdb9nsd_000007</td>\n",
       "      <td>-79.83869</td>\n",
       "    </tr>\n",
       "  </tbody>\n",
       "</table>\n",
       "</div>"
      ],
      "text/plain": [
       "      molecule_name  potential_energy\n",
       "0  dsgdb9nsd_000001         -40.52368\n",
       "1  dsgdb9nsd_000002         -56.56025\n",
       "2  dsgdb9nsd_000003         -76.42608\n",
       "3  dsgdb9nsd_000005         -93.42849\n",
       "4  dsgdb9nsd_000007         -79.83869"
      ]
     },
     "execution_count": 20,
     "metadata": {},
     "output_type": "execute_result"
    }
   ],
   "source": [
    "energies.head()"
   ]
  },
  {
   "cell_type": "code",
   "execution_count": 21,
   "metadata": {},
   "outputs": [
    {
     "data": {
      "text/plain": [
       "85003"
      ]
     },
     "execution_count": 21,
     "metadata": {},
     "output_type": "execute_result"
    }
   ],
   "source": [
    "len(energies)"
   ]
  },
  {
   "cell_type": "code",
   "execution_count": 22,
   "metadata": {},
   "outputs": [
    {
     "data": {
      "text/plain": [
       "count    85003.000000\n",
       "mean      -410.874055\n",
       "std         39.828871\n",
       "min       -714.626200\n",
       "25%       -438.000750\n",
       "50%       -416.921700\n",
       "75%       -387.218950\n",
       "max        -40.523680\n",
       "Name: potential_energy, dtype: float64"
      ]
     },
     "execution_count": 22,
     "metadata": {},
     "output_type": "execute_result"
    }
   ],
   "source": [
    "energy_series = pd.Series(energies.set_index('molecule_name')['potential_energy'])\n",
    "energy_series.describe()"
   ]
  },
  {
   "cell_type": "code",
   "execution_count": 23,
   "metadata": {},
   "outputs": [
    {
     "data": {
      "image/png": "[encoded data removed]",
      "text/plain": [
       "<Figure size 432x288 with 1 Axes>"
      ]
     },
     "metadata": {
      "needs_background": "light"
     },
     "output_type": "display_data"
    }
   ],
   "source": [
    "ax = energy_series.hist(bins=50)\n",
    "_ = ax.set_xlabel(\"Potential Energy\")"
   ]
  },
  {
   "cell_type": "markdown",
   "metadata": {},
   "source": [
    "### Dipole Moment"
   ]
  },
  {
   "cell_type": "code",
   "execution_count": 24,
   "metadata": {},
   "outputs": [
    {
     "data": {
      "text/html": [
       "<div>\n",
       "<style scoped>\n",
       "    .dataframe tbody tr th:only-of-type {\n",
       "        vertical-align: middle;\n",
       "    }\n",
       "\n",
       "    .dataframe tbody tr th {\n",
       "        vertical-align: top;\n",
       "    }\n",
       "\n",
       "    .dataframe thead th {\n",
       "        text-align: right;\n",
       "    }\n",
       "</style>\n",
       "<table border=\"1\" class=\"dataframe\">\n",
       "  <thead>\n",
       "    <tr style=\"text-align: right;\">\n",
       "      <th></th>\n",
       "      <th>molecule_name</th>\n",
       "      <th>X</th>\n",
       "      <th>Y</th>\n",
       "      <th>Z</th>\n",
       "      <th>scalar</th>\n",
       "    </tr>\n",
       "  </thead>\n",
       "  <tbody>\n",
       "    <tr>\n",
       "      <th>0</th>\n",
       "      <td>dsgdb9nsd_000001</td>\n",
       "      <td>0.0000</td>\n",
       "      <td>0.0</td>\n",
       "      <td>0.0000</td>\n",
       "      <td>0.0000</td>\n",
       "    </tr>\n",
       "    <tr>\n",
       "      <th>1</th>\n",
       "      <td>dsgdb9nsd_000002</td>\n",
       "      <td>-0.0002</td>\n",
       "      <td>0.0</td>\n",
       "      <td>1.6256</td>\n",
       "      <td>1.6256</td>\n",
       "    </tr>\n",
       "    <tr>\n",
       "      <th>2</th>\n",
       "      <td>dsgdb9nsd_000003</td>\n",
       "      <td>0.0000</td>\n",
       "      <td>0.0</td>\n",
       "      <td>-1.8511</td>\n",
       "      <td>1.8511</td>\n",
       "    </tr>\n",
       "    <tr>\n",
       "      <th>3</th>\n",
       "      <td>dsgdb9nsd_000005</td>\n",
       "      <td>0.0000</td>\n",
       "      <td>0.0</td>\n",
       "      <td>-2.8937</td>\n",
       "      <td>2.8937</td>\n",
       "    </tr>\n",
       "    <tr>\n",
       "      <th>4</th>\n",
       "      <td>dsgdb9nsd_000007</td>\n",
       "      <td>0.0000</td>\n",
       "      <td>0.0</td>\n",
       "      <td>0.0000</td>\n",
       "      <td>0.0000</td>\n",
       "    </tr>\n",
       "  </tbody>\n",
       "</table>\n",
       "</div>"
      ],
      "text/plain": [
       "      molecule_name       X    Y       Z  scalar\n",
       "0  dsgdb9nsd_000001  0.0000  0.0  0.0000  0.0000\n",
       "1  dsgdb9nsd_000002 -0.0002  0.0  1.6256  1.6256\n",
       "2  dsgdb9nsd_000003  0.0000  0.0 -1.8511  1.8511\n",
       "3  dsgdb9nsd_000005  0.0000  0.0 -2.8937  2.8937\n",
       "4  dsgdb9nsd_000007  0.0000  0.0  0.0000  0.0000"
      ]
     },
     "execution_count": 24,
     "metadata": {},
     "output_type": "execute_result"
    }
   ],
   "source": [
    "dipoles.head()"
   ]
  },
  {
   "cell_type": "code",
   "execution_count": 25,
   "metadata": {},
   "outputs": [
    {
     "data": {
      "text/plain": [
       "85003"
      ]
     },
     "execution_count": 25,
     "metadata": {},
     "output_type": "execute_result"
    }
   ],
   "source": [
    "len(dipoles)"
   ]
  },
  {
   "cell_type": "code",
   "execution_count": 26,
   "metadata": {},
   "outputs": [
    {
     "data": {
      "text/plain": [
       "count    85003.000000\n",
       "mean         2.672361\n",
       "std          1.492801\n",
       "min          0.000000\n",
       "25%          1.581295\n",
       "50%          2.474998\n",
       "75%          3.600646\n",
       "max         22.960504\n",
       "Name: scalar, dtype: float64"
      ]
     },
     "execution_count": 26,
     "metadata": {},
     "output_type": "execute_result"
    }
   ],
   "source": [
    "dipole_series = pd.Series(dipoles.set_index('molecule_name')['scalar'])\n",
    "dipole_series.describe()"
   ]
  },
  {
   "cell_type": "code",
   "execution_count": 27,
   "metadata": {},
   "outputs": [
    {
     "data": {
      "image/png": "[encoded data removed]",
      "text/plain": [
       "<Figure size 432x288 with 1 Axes>"
      ]
     },
     "metadata": {
      "needs_background": "light"
     },
     "output_type": "display_data"
    }
   ],
   "source": [
    "ax = dipole_series.hist(bins=50)\n",
    "_ = ax.set_xlabel(\"Dipole Moment\")"
   ]
  },
  {
   "cell_type": "markdown",
   "metadata": {},
   "source": [
    "# ASE Database\n",
    "\n",
    "A dataset object used in SchNetPack is built on an ASE database. Please see the document of the ASE database:\n",
    "\n",
    "https://wiki.fysik.dtu.dk/ase/ase/db/db.html"
   ]
  },
  {
   "cell_type": "code",
   "execution_count": 28,
   "metadata": {},
   "outputs": [
    {
     "data": {
      "text/html": [
       "<div>\n",
       "<style scoped>\n",
       "    .dataframe tbody tr th:only-of-type {\n",
       "        vertical-align: middle;\n",
       "    }\n",
       "\n",
       "    .dataframe tbody tr th {\n",
       "        vertical-align: top;\n",
       "    }\n",
       "\n",
       "    .dataframe thead th {\n",
       "        text-align: right;\n",
       "    }\n",
       "</style>\n",
       "<table border=\"1\" class=\"dataframe\">\n",
       "  <thead>\n",
       "    <tr style=\"text-align: right;\">\n",
       "      <th></th>\n",
       "      <th>id</th>\n",
       "      <th>molecule_name</th>\n",
       "      <th>atom_index_0</th>\n",
       "      <th>atom_index_1</th>\n",
       "      <th>type</th>\n",
       "      <th>scalar_coupling_constant</th>\n",
       "    </tr>\n",
       "  </thead>\n",
       "  <tbody>\n",
       "    <tr>\n",
       "      <th>0</th>\n",
       "      <td>0</td>\n",
       "      <td>dsgdb9nsd_000001</td>\n",
       "      <td>1</td>\n",
       "      <td>0</td>\n",
       "      <td>1JHC</td>\n",
       "      <td>84.8076</td>\n",
       "    </tr>\n",
       "    <tr>\n",
       "      <th>1</th>\n",
       "      <td>1</td>\n",
       "      <td>dsgdb9nsd_000001</td>\n",
       "      <td>1</td>\n",
       "      <td>2</td>\n",
       "      <td>2JHH</td>\n",
       "      <td>-11.2570</td>\n",
       "    </tr>\n",
       "    <tr>\n",
       "      <th>2</th>\n",
       "      <td>2</td>\n",
       "      <td>dsgdb9nsd_000001</td>\n",
       "      <td>1</td>\n",
       "      <td>3</td>\n",
       "      <td>2JHH</td>\n",
       "      <td>-11.2548</td>\n",
       "    </tr>\n",
       "    <tr>\n",
       "      <th>3</th>\n",
       "      <td>3</td>\n",
       "      <td>dsgdb9nsd_000001</td>\n",
       "      <td>1</td>\n",
       "      <td>4</td>\n",
       "      <td>2JHH</td>\n",
       "      <td>-11.2543</td>\n",
       "    </tr>\n",
       "    <tr>\n",
       "      <th>4</th>\n",
       "      <td>4</td>\n",
       "      <td>dsgdb9nsd_000001</td>\n",
       "      <td>2</td>\n",
       "      <td>0</td>\n",
       "      <td>1JHC</td>\n",
       "      <td>84.8074</td>\n",
       "    </tr>\n",
       "  </tbody>\n",
       "</table>\n",
       "</div>"
      ],
      "text/plain": [
       "   id     molecule_name  atom_index_0  atom_index_1  type  \\\n",
       "0   0  dsgdb9nsd_000001             1             0  1JHC   \n",
       "1   1  dsgdb9nsd_000001             1             2  2JHH   \n",
       "2   2  dsgdb9nsd_000001             1             3  2JHH   \n",
       "3   3  dsgdb9nsd_000001             1             4  2JHH   \n",
       "4   4  dsgdb9nsd_000001             2             0  1JHC   \n",
       "\n",
       "   scalar_coupling_constant  \n",
       "0                   84.8076  \n",
       "1                  -11.2570  \n",
       "2                  -11.2548  \n",
       "3                  -11.2543  \n",
       "4                   84.8074  "
      ]
     },
     "execution_count": 28,
     "metadata": {},
     "output_type": "execute_result"
    }
   ],
   "source": [
    "train = pd.read_csv(path + 'train.csv')\n",
    "train.head()"
   ]
  },
  {
   "cell_type": "code",
   "execution_count": 29,
   "metadata": {},
   "outputs": [
    {
     "data": {
      "text/html": [
       "<div>\n",
       "<style scoped>\n",
       "    .dataframe tbody tr th:only-of-type {\n",
       "        vertical-align: middle;\n",
       "    }\n",
       "\n",
       "    .dataframe tbody tr th {\n",
       "        vertical-align: top;\n",
       "    }\n",
       "\n",
       "    .dataframe thead th {\n",
       "        text-align: right;\n",
       "    }\n",
       "</style>\n",
       "<table border=\"1\" class=\"dataframe\">\n",
       "  <thead>\n",
       "    <tr style=\"text-align: right;\">\n",
       "      <th></th>\n",
       "      <th>id</th>\n",
       "      <th>molecule_name</th>\n",
       "      <th>atom_index_0</th>\n",
       "      <th>atom_index_1</th>\n",
       "      <th>type</th>\n",
       "    </tr>\n",
       "  </thead>\n",
       "  <tbody>\n",
       "    <tr>\n",
       "      <th>0</th>\n",
       "      <td>4658147</td>\n",
       "      <td>dsgdb9nsd_000004</td>\n",
       "      <td>2</td>\n",
       "      <td>0</td>\n",
       "      <td>2JHC</td>\n",
       "    </tr>\n",
       "    <tr>\n",
       "      <th>1</th>\n",
       "      <td>4658148</td>\n",
       "      <td>dsgdb9nsd_000004</td>\n",
       "      <td>2</td>\n",
       "      <td>1</td>\n",
       "      <td>1JHC</td>\n",
       "    </tr>\n",
       "    <tr>\n",
       "      <th>2</th>\n",
       "      <td>4658149</td>\n",
       "      <td>dsgdb9nsd_000004</td>\n",
       "      <td>2</td>\n",
       "      <td>3</td>\n",
       "      <td>3JHH</td>\n",
       "    </tr>\n",
       "    <tr>\n",
       "      <th>3</th>\n",
       "      <td>4658150</td>\n",
       "      <td>dsgdb9nsd_000004</td>\n",
       "      <td>3</td>\n",
       "      <td>0</td>\n",
       "      <td>1JHC</td>\n",
       "    </tr>\n",
       "    <tr>\n",
       "      <th>4</th>\n",
       "      <td>4658151</td>\n",
       "      <td>dsgdb9nsd_000004</td>\n",
       "      <td>3</td>\n",
       "      <td>1</td>\n",
       "      <td>2JHC</td>\n",
       "    </tr>\n",
       "  </tbody>\n",
       "</table>\n",
       "</div>"
      ],
      "text/plain": [
       "        id     molecule_name  atom_index_0  atom_index_1  type\n",
       "0  4658147  dsgdb9nsd_000004             2             0  2JHC\n",
       "1  4658148  dsgdb9nsd_000004             2             1  1JHC\n",
       "2  4658149  dsgdb9nsd_000004             2             3  3JHH\n",
       "3  4658150  dsgdb9nsd_000004             3             0  1JHC\n",
       "4  4658151  dsgdb9nsd_000004             3             1  2JHC"
      ]
     },
     "execution_count": 29,
     "metadata": {},
     "output_type": "execute_result"
    }
   ],
   "source": [
    "test = pd.read_csv(path + 'test.csv')\n",
    "test.head()"
   ]
  },
  {
   "cell_type": "code",
   "execution_count": 30,
   "metadata": {},
   "outputs": [
    {
     "data": {
      "text/plain": [
       "85003"
      ]
     },
     "execution_count": 30,
     "metadata": {},
     "output_type": "execute_result"
    }
   ],
   "source": [
    "train_molecule_names = train.molecule_name.unique()\n",
    "len_train = len(train_molecule_names)\n",
    "len_train"
   ]
  },
  {
   "cell_type": "code",
   "execution_count": 31,
   "metadata": {},
   "outputs": [
    {
     "data": {
      "text/plain": [
       "45772"
      ]
     },
     "execution_count": 31,
     "metadata": {},
     "output_type": "execute_result"
    }
   ],
   "source": [
    "test_molecule_names = test.molecule_name.unique()\n",
    "len(test_molecule_names)"
   ]
  },
  {
   "cell_type": "code",
   "execution_count": 32,
   "metadata": {},
   "outputs": [
    {
     "data": {
      "text/plain": [
       "7163689"
      ]
     },
     "execution_count": 32,
     "metadata": {},
     "output_type": "execute_result"
    }
   ],
   "source": [
    "train_test = train.append(test, sort=False)\n",
    "len(train_test)"
   ]
  },
  {
   "cell_type": "code",
   "execution_count": 33,
   "metadata": {},
   "outputs": [
    {
     "data": {
      "text/plain": [
       "(130775, 130775)"
      ]
     },
     "execution_count": 33,
     "metadata": {},
     "output_type": "execute_result"
    }
   ],
   "source": [
    "train_test_molecule_names = train_test.molecule_name.unique()\n",
    "len(train_test_molecule_names), len_train + len(test_molecule_names)"
   ]
  },
  {
   "cell_type": "code",
   "execution_count": 34,
   "metadata": {
    "_cell_guid": "79c7e3d0-c299-4dcb-8224-4455121ee9b0",
    "_uuid": "d629ff2d2480ee46fbb7e2d37f6b5fab8052498a"
   },
   "outputs": [],
   "source": [
    "from ase import Atoms\n",
    "from ase.db import connect\n",
    "\n",
    "def create_db(db_path, molecule_names):\n",
    "    with connect(db_path) as db:\n",
    "        for name in molecule_names:\n",
    "            mol = molecules.get_group(name)\n",
    "            atoms = Atoms(symbols=mol.atom.values,\n",
    "                          positions=[(row.x,row.y,row.z) for row in mol.itertuples()])\n",
    "            try:\n",
    "                mol_msp = msp.get_group(name)\n",
    "                sigma_iso = mol_msp['sigma_iso'].values.reshape(-1,1)\n",
    "                omega = mol_msp['omega'].values.reshape(-1,1)\n",
    "                kappa = mol_msp['kappa'].values.reshape(-1,1)\n",
    "            except KeyError:\n",
    "                sigma_iso, omega, kappa = [None] * 3\n",
    "                \n",
    "            try:\n",
    "                charges = mulliken_charges.get_group(name).mulliken_charge.values.reshape(-1,1)\n",
    "                total_charge = 0.0\n",
    "            except KeyError:\n",
    "                charges = None\n",
    "                total_charge = None\n",
    "                \n",
    "            db.write(atoms, name=name,\n",
    "                     potential_energy=energy_series.get(name, default=float('nan')),\n",
    "                     scalar_dipole=dipole_series.get(name, default=float('nan')),\n",
    "                     data=dict(sigma_iso=sigma_iso, omega=omega, kappa=kappa, \n",
    "                               charges=charges, total_charge=total_charge))"
   ]
  },
  {
   "cell_type": "code",
   "execution_count": 35,
   "metadata": {},
   "outputs": [],
   "source": [
    "champs_path = '/home/christian/test/CHAMPS.db' \n",
    "dataset_size = len(train_test_molecule_names) # 20000\n",
    "dataset_molecule_names = train_test_molecule_names[:dataset_size]"
   ]
  },
  {
   "cell_type": "code",
   "execution_count": 36,
   "metadata": {},
   "outputs": [],
   "source": [
    "#create_db(db_path=champs_path, molecule_names=dataset_molecule_names)"
   ]
  },
  {
   "cell_type": "code",
   "execution_count": 37,
   "metadata": {},
   "outputs": [
    {
     "name": "stdout",
     "output_type": "stream",
     "text": [
      "130775\n"
     ]
    }
   ],
   "source": [
    "with connect(champs_path) as db:\n",
    "    print(len(db))"
   ]
  },
  {
   "cell_type": "code",
   "execution_count": 38,
   "metadata": {},
   "outputs": [],
   "source": [
    "import schnetpack\n",
    "\n",
    "properties=['potential_energy', 'scalar_dipole', 'sigma_iso', 'omega', 'kappa', 'charges', 'total_charge']\n",
    "\n",
    "dataset = schnetpack.data.AtomsData(champs_path, properties=properties)"
   ]
  },
  {
   "cell_type": "code",
   "execution_count": 39,
   "metadata": {},
   "outputs": [
    {
     "name": "stdout",
     "output_type": "stream",
     "text": [
      "130775 ['potential_energy', 'scalar_dipole', 'sigma_iso', 'omega', 'kappa', 'charges', 'total_charge']\n"
     ]
    }
   ],
   "source": [
    "print(len(dataset), dataset.properties)"
   ]
  },
  {
   "cell_type": "markdown",
   "metadata": {},
   "source": [
    "# SchNet Model\n",
    "\n",
    "Please see the SchNetPack API document:\n",
    "\n",
    "https://schnetpack.readthedocs.io/en/stable/modules/index.html"
   ]
  },
  {
   "cell_type": "code",
   "execution_count": 40,
   "metadata": {},
   "outputs": [],
   "source": [
    "import pandas as pd\n",
    "\n",
    "import torch\n",
    "import torch.nn.functional as F\n",
    "from torch.optim import Adam\n",
    "\n",
    "import schnetpack as spk\n",
    "import schnetpack.atomistic as atm\n",
    "import schnetpack.representation as rep\n",
    "from schnetpack.datasets import *\n",
    "\n",
    "device = torch.device(\"cuda\")"
   ]
  },
  {
   "cell_type": "code",
   "execution_count": 41,
   "metadata": {},
   "outputs": [],
   "source": [
    "# This function comes from the following script:\n",
    "# https://github.com/atomistic-machine-learning/schnetpack/blob/v0.2.1/src/scripts/schnetpack_qm9.py\n",
    "def evaluate_dataset(metrics, model, loader, device):\n",
    "    for metric in metrics:\n",
    "        metric.reset()\n",
    "\n",
    "    with torch.no_grad():\n",
    "        for batch in loader:\n",
    "            batch = {\n",
    "                k: v.to(device)\n",
    "                for k, v in batch.items()\n",
    "            }\n",
    "            result = model(batch)\n",
    "\n",
    "            for metric in metrics:\n",
    "                metric.add_batch(batch, result)\n",
    "\n",
    "    results = [\n",
    "        metric.aggregate() for metric in metrics\n",
    "    ]\n",
    "    return results"
   ]
  },
  {
   "cell_type": "code",
   "execution_count": 42,
   "metadata": {},
   "outputs": [],
   "source": [
    "from schnetpack.data import Structure\n",
    "\n",
    "class Mulliken(atm.Atomwise):\n",
    "    def __init__(self):\n",
    "        super(Mulliken, self).__init__(return_contributions=True)\n",
    "        \n",
    "    def forward(self, inputs):\n",
    "        result = super().forward(inputs)\n",
    "        \n",
    "        atom_mask = inputs[Structure.atom_mask].byte()\n",
    "        \n",
    "        yi = inputs['charges']\n",
    "        yi = torch.masked_select(yi.squeeze(dim=2), atom_mask)\n",
    "        inputs['mulliken_true'] = yi\n",
    "        \n",
    "        yi = result['yi']\n",
    "        yi = torch.masked_select(yi.squeeze(dim=2), atom_mask)\n",
    "        result['mulliken_pred'] = yi\n",
    "        \n",
    "        return result"
   ]
  },
  {
   "cell_type": "code",
   "execution_count": 50,
   "metadata": {},
   "outputs": [],
   "source": [
    "from schnetpack.data import Structure\n",
    "\n",
    "class MagneticShielding(atm.Atomwise):\n",
    "    def __init__(self):\n",
    "        super(MagneticShielding, self).__init__(return_contributions=True)\n",
    "        \n",
    "    def forward(self, inputs):\n",
    "        result = super().forward(inputs)\n",
    "        \n",
    "        atom_mask = inputs[Structure.atom_mask].byte()\n",
    "        for property in ['sigma_iso', 'omega', 'kappa']:\n",
    "            yi = inputs[property]\n",
    "            yi = torch.masked_select(yi.squeeze(dim=2), atom_mask)\n",
    "            inputs[property+'_true'] = yi\n",
    "        \n",
    "            yi = result['yi']\n",
    "            yi = torch.masked_select(yi.squeeze(dim=2), atom_mask)\n",
    "            result[property+'_pred'] = yi\n",
    "        \n",
    "        return result"
   ]
  },
  {
   "cell_type": "code",
   "execution_count": 51,
   "metadata": {},
   "outputs": [],
   "source": [
    "def schnet_model():\n",
    "    reps = rep.SchNet(n_interactions=6)\n",
    "    output = [atm.Atomwise(), atm.DipoleMoment(n_in=128, predict_magnitude=True), Mulliken(), MagneticShielding()]\n",
    "    model = atm.AtomisticModel(reps, output)\n",
    "    model = model.to(device)\n",
    "    \n",
    "    return model"
   ]
  },
  {
   "cell_type": "code",
   "execution_count": 52,
   "metadata": {},
   "outputs": [],
   "source": [
    "def train_model(max_epochs=500):\n",
    "    # split in train and val\n",
    "    #n_dataset = len(dataset)\n",
    "    n_val = len_train//10 #n_dataset // 10\n",
    "    train_data, val_data, test_data = dataset.create_splits(len_train-n_val, n_val)\n",
    "    train_loader = spk.data.AtomsLoader(train_data, batch_size=128, num_workers=2)\n",
    "    val_loader = spk.data.AtomsLoader(val_data, batch_size=256, num_workers=2)\n",
    "\n",
    "    # create model\n",
    "    model = schnet_model()\n",
    "\n",
    "    # create trainer\n",
    "    opt = Adam(model.parameters(), lr=2e-4, weight_decay=1e-6)\n",
    "    \n",
    "    loss = lambda b, p: F.mse_loss(p[\"y\"], b[\"potential_energy\"])\n",
    "    metrics = [\n",
    "        spk.metrics.MeanAbsoluteError(\"potential_energy\", \"y\"),\n",
    "        spk.metrics.RootMeanSquaredError(\"potential_energy\", \"y\"),\n",
    "    ]\n",
    "    hooks = [\n",
    "        spk.train.MaxEpochHook(max_epochs),\n",
    "        spk.train.CSVHook('/home/christian/test/log', metrics, every_n_epochs=1),\n",
    "    ]\n",
    "    trainer = spk.train.Trainer('/home/christian/test/output', model, loss,\n",
    "                            opt, train_loader, val_loader, hooks=hooks)\n",
    "\n",
    "    # start training\n",
    "    trainer.train(device)\n",
    "    \n",
    "    # evaluation\n",
    "    model.load_state_dict(torch.load('/home/christian/test/output/best_model'))\n",
    "    test_loader = spk.data.AtomsLoader(test_data, batch_size=256, num_workers=2)\n",
    "    model.eval()\n",
    "\n",
    "    df = pd.DataFrame()\n",
    "    df['metric'] = ['MAE', 'RMSE']\n",
    "    df['training'] = evaluate_dataset(metrics, model, train_loader, device)\n",
    "    df['validation'] = evaluate_dataset(metrics, model, val_loader, device)\n",
    "    df['test'] = evaluate_dataset(metrics, model, test_loader, device)\n",
    "    display(df)\n",
    "    \n",
    "    return test_data"
   ]
  },
  {
   "cell_type": "code",
   "execution_count": 53,
   "metadata": {},
   "outputs": [],
   "source": [
    "def show_history():\n",
    "    df = pd.read_csv('/home/christian/test/log/log.csv')\n",
    "    display(df.tail())\n",
    "    max_value = None # df['RMSE_'+property].min()*5\n",
    "    _ = df[['MAE_potential_energy','RMSE_potential_energy']].plot(ylim=(0,max_value))"
   ]
  },
  {
   "cell_type": "code",
   "execution_count": 54,
   "metadata": {},
   "outputs": [],
   "source": [
    "def test_prediction(dataset):\n",
    "    # create model\n",
    "    model = schnet_model()\n",
    "    \n",
    "    # load the best parameters\n",
    "    model.load_state_dict(torch.load('/home/christian/test/best_model'))\n",
    "    loader = spk.data.AtomsLoader(dataset, batch_size=256, num_workers=2)\n",
    "    model.eval()\n",
    "    \n",
    "    # predict molecular properties\n",
    "    targets = []\n",
    "    predictions = []\n",
    "    with torch.no_grad():\n",
    "        for batch in loader:\n",
    "            batch = {\n",
    "                k: v.to(device)\n",
    "                for k, v in batch.items()\n",
    "            }\n",
    "            result = model(batch)\n",
    "            targets += batch.squeeze().tolist()\n",
    "            predictions += result['y'].squeeze().tolist()\n",
    "    return targets, predictions"
   ]
  },
  {
   "cell_type": "code",
   "execution_count": 55,
   "metadata": {},
   "outputs": [],
   "source": [
    "def show_predictions(dataset):\n",
    "    targets, predictions = test_prediction(dataset)\n",
    "    df_pred = pd.DataFrame()\n",
    "    df_pred['Target'] = targets\n",
    "    df_pred['Prediction'] = predictions\n",
    "    df_pred.plot.scatter(x='Target', y='Prediction', title='predictions')"
   ]
  },
  {
   "cell_type": "markdown",
   "metadata": {},
   "source": [
    "# Results"
   ]
  },
  {
   "cell_type": "code",
   "execution_count": 57,
   "metadata": {
    "scrolled": true
   },
   "outputs": [],
   "source": [
    "used_test_data = train_model(max_epochs=1)"
   ]
  },
  {
   "cell_type": "code",
   "execution_count": 29,
   "metadata": {},
   "outputs": [
    {
     "data": {
      "text/html": [
       "<div>\n",
       "<style scoped>\n",
       "    .dataframe tbody tr th:only-of-type {\n",
       "        vertical-align: middle;\n",
       "    }\n",
       "\n",
       "    .dataframe tbody tr th {\n",
       "        vertical-align: top;\n",
       "    }\n",
       "\n",
       "    .dataframe thead th {\n",
       "        text-align: right;\n",
       "    }\n",
       "</style>\n",
       "<table border=\"1\" class=\"dataframe\">\n",
       "  <thead>\n",
       "    <tr style=\"text-align: right;\">\n",
       "      <th></th>\n",
       "      <th>Time</th>\n",
       "      <th>Learning rate</th>\n",
       "      <th>Train loss</th>\n",
       "      <th>Validation loss</th>\n",
       "      <th>MAE_potential_energy</th>\n",
       "      <th>RMSE_potential_energy</th>\n",
       "    </tr>\n",
       "  </thead>\n",
       "  <tbody>\n",
       "    <tr>\n",
       "      <th>0</th>\n",
       "      <td>1.563429e+09</td>\n",
       "      <td>0.0002</td>\n",
       "      <td>2.144590e+06</td>\n",
       "      <td>15.976641</td>\n",
       "      <td>2.649294</td>\n",
       "      <td>3.997079</td>\n",
       "    </tr>\n",
       "    <tr>\n",
       "      <th>1</th>\n",
       "      <td>1.563429e+09</td>\n",
       "      <td>0.0002</td>\n",
       "      <td>2.161852e+06</td>\n",
       "      <td>68.833728</td>\n",
       "      <td>5.877186</td>\n",
       "      <td>8.296609</td>\n",
       "    </tr>\n",
       "  </tbody>\n",
       "</table>\n",
       "</div>"
      ],
      "text/plain": [
       "           Time  Learning rate    Train loss  Validation loss  \\\n",
       "0  1.563429e+09         0.0002  2.144590e+06        15.976641   \n",
       "1  1.563429e+09         0.0002  2.161852e+06        68.833728   \n",
       "\n",
       "   MAE_potential_energy  RMSE_potential_energy  \n",
       "0              2.649294               3.997079  \n",
       "1              5.877186               8.296609  "
      ]
     },
     "metadata": {},
     "output_type": "display_data"
    },
    {
     "data": {
      "image/png": "[encoded data removed]",
      "text/plain": [
       "<Figure size 432x288 with 1 Axes>"
      ]
     },
     "metadata": {
      "needs_background": "light"
     },
     "output_type": "display_data"
    }
   ],
   "source": [
    "show_history()"
   ]
  },
  {
   "cell_type": "code",
   "execution_count": 30,
   "metadata": {},
   "outputs": [
    {
     "data": {
      "text/plain": [
       "8500"
      ]
     },
     "execution_count": 30,
     "metadata": {},
     "output_type": "execute_result"
    }
   ],
   "source": [
    "len(used_test_data)"
   ]
  },
  {
   "cell_type": "code",
   "execution_count": 31,
   "metadata": {},
   "outputs": [
    {
     "ename": "AttributeError",
     "evalue": "'AtomsData' object has no attribute 'head'",
     "output_type": "error",
     "traceback": [
      "\u001b[0;31m---------------------------------------------------------------------------\u001b[0m",
      "\u001b[0;31mAttributeError\u001b[0m                            Traceback (most recent call last)",
      "\u001b[0;32m<ipython-input-31-f4d474ed4e42>\u001b[0m in \u001b[0;36m<module>\u001b[0;34m\u001b[0m\n\u001b[0;32m----> 1\u001b[0;31m \u001b[0mused_test_data\u001b[0m\u001b[0;34m.\u001b[0m\u001b[0mhead\u001b[0m\u001b[0;34m(\u001b[0m\u001b[0;34m)\u001b[0m\u001b[0;34m\u001b[0m\u001b[0;34m\u001b[0m\u001b[0m\n\u001b[0m",
      "\u001b[0;31mAttributeError\u001b[0m: 'AtomsData' object has no attribute 'head'"
     ]
    }
   ],
   "source": [
    "used_test_data.head()"
   ]
  },
  {
   "cell_type": "code",
   "execution_count": null,
   "metadata": {},
   "outputs": [],
   "source": [
    "show_predictions(used_test_data)"
   ]
  },
  {
   "cell_type": "code",
   "execution_count": 29,
   "metadata": {
    "_kg_hide-input": true,
    "_kg_hide-output": true
   },
   "outputs": [],
   "source": [
    "!mv potential_energy/log/log.csv log_potential.csv\n",
    "!mv scalar_dipole/log/log.csv log_dipole.csv\n",
    "!mv potential_energy/output/best_model best_model_potential\n",
    "!mv scalar_dipole/output/best_model best_model_dipole\n",
    "!rm -r potential_energy\n",
    "!rm -r scalar_dipole"
   ]
  }
 ],
 "metadata": {
  "kernelspec": {
   "display_name": "Python 3",
   "language": "python",
   "name": "python3"
  },
  "language_info": {
   "codemirror_mode": {
    "name": "ipython",
    "version": 3
   },
   "file_extension": ".py",
   "mimetype": "text/x-python",
   "name": "python",
   "nbconvert_exporter": "python",
   "pygments_lexer": "ipython3",
   "version": "3.6.7"
  }
 },
 "nbformat": 4,
 "nbformat_minor": 1
}
